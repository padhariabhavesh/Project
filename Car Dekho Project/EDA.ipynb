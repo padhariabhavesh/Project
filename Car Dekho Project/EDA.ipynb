{
 "cells": [
  {
   "cell_type": "code",
   "execution_count": 1,
   "metadata": {},
   "outputs": [],
   "source": [
    "import numpy as np\n",
    "import pandas as pd\n",
    "import matplotlib.pyplot as plt\n",
    "import seaborn as sns\n",
    "import plotly.express as px\n",
    "import warnings\n",
    "\n",
    "from six.moves import urllib\n",
    "\n",
    "warnings.filterwarnings('ignore')\n",
    "\n",
    "%matplotlib inline"
   ]
  },
  {
   "cell_type": "markdown",
   "metadata": {},
   "source": [
    "# Read Data"
   ]
  },
  {
   "cell_type": "code",
   "execution_count": 2,
   "metadata": {},
   "outputs": [],
   "source": [
    "Data = pd.read_csv('car data.csv')"
   ]
  },
  {
   "cell_type": "code",
   "execution_count": 3,
   "metadata": {},
   "outputs": [
    {
     "data": {
      "text/html": [
       "<div>\n",
       "<style scoped>\n",
       "    .dataframe tbody tr th:only-of-type {\n",
       "        vertical-align: middle;\n",
       "    }\n",
       "\n",
       "    .dataframe tbody tr th {\n",
       "        vertical-align: top;\n",
       "    }\n",
       "\n",
       "    .dataframe thead th {\n",
       "        text-align: right;\n",
       "    }\n",
       "</style>\n",
       "<table border=\"1\" class=\"dataframe\">\n",
       "  <thead>\n",
       "    <tr style=\"text-align: right;\">\n",
       "      <th></th>\n",
       "      <th>Car_Name</th>\n",
       "      <th>company</th>\n",
       "      <th>Year</th>\n",
       "      <th>Selling_Price</th>\n",
       "      <th>Present_Price</th>\n",
       "      <th>Kms_Driven</th>\n",
       "      <th>Fuel_Type</th>\n",
       "      <th>Seller_Type</th>\n",
       "      <th>Transmission</th>\n",
       "      <th>Owner</th>\n",
       "    </tr>\n",
       "  </thead>\n",
       "  <tbody>\n",
       "    <tr>\n",
       "      <th>0</th>\n",
       "      <td>ritz</td>\n",
       "      <td>maruti suzuki</td>\n",
       "      <td>2014</td>\n",
       "      <td>3.35</td>\n",
       "      <td>5.59</td>\n",
       "      <td>27000</td>\n",
       "      <td>Petrol</td>\n",
       "      <td>Dealer</td>\n",
       "      <td>Manual</td>\n",
       "      <td>0</td>\n",
       "    </tr>\n",
       "    <tr>\n",
       "      <th>1</th>\n",
       "      <td>sx4</td>\n",
       "      <td>maruti suzuki</td>\n",
       "      <td>2013</td>\n",
       "      <td>4.75</td>\n",
       "      <td>9.54</td>\n",
       "      <td>43000</td>\n",
       "      <td>Diesel</td>\n",
       "      <td>Dealer</td>\n",
       "      <td>Manual</td>\n",
       "      <td>0</td>\n",
       "    </tr>\n",
       "    <tr>\n",
       "      <th>2</th>\n",
       "      <td>ciaz</td>\n",
       "      <td>maruti suzuki</td>\n",
       "      <td>2017</td>\n",
       "      <td>7.25</td>\n",
       "      <td>9.85</td>\n",
       "      <td>6900</td>\n",
       "      <td>Petrol</td>\n",
       "      <td>Dealer</td>\n",
       "      <td>Manual</td>\n",
       "      <td>0</td>\n",
       "    </tr>\n",
       "    <tr>\n",
       "      <th>3</th>\n",
       "      <td>wagon r</td>\n",
       "      <td>maruti suzuki</td>\n",
       "      <td>2011</td>\n",
       "      <td>2.85</td>\n",
       "      <td>4.15</td>\n",
       "      <td>5200</td>\n",
       "      <td>Petrol</td>\n",
       "      <td>Dealer</td>\n",
       "      <td>Manual</td>\n",
       "      <td>0</td>\n",
       "    </tr>\n",
       "    <tr>\n",
       "      <th>4</th>\n",
       "      <td>swift</td>\n",
       "      <td>maruti suzuki</td>\n",
       "      <td>2014</td>\n",
       "      <td>4.60</td>\n",
       "      <td>6.87</td>\n",
       "      <td>42450</td>\n",
       "      <td>Diesel</td>\n",
       "      <td>Dealer</td>\n",
       "      <td>Manual</td>\n",
       "      <td>0</td>\n",
       "    </tr>\n",
       "    <tr>\n",
       "      <th>...</th>\n",
       "      <td>...</td>\n",
       "      <td>...</td>\n",
       "      <td>...</td>\n",
       "      <td>...</td>\n",
       "      <td>...</td>\n",
       "      <td>...</td>\n",
       "      <td>...</td>\n",
       "      <td>...</td>\n",
       "      <td>...</td>\n",
       "      <td>...</td>\n",
       "    </tr>\n",
       "    <tr>\n",
       "      <th>296</th>\n",
       "      <td>city</td>\n",
       "      <td>honda</td>\n",
       "      <td>2016</td>\n",
       "      <td>9.50</td>\n",
       "      <td>11.60</td>\n",
       "      <td>33988</td>\n",
       "      <td>Diesel</td>\n",
       "      <td>Dealer</td>\n",
       "      <td>Manual</td>\n",
       "      <td>0</td>\n",
       "    </tr>\n",
       "    <tr>\n",
       "      <th>297</th>\n",
       "      <td>brio</td>\n",
       "      <td>honda</td>\n",
       "      <td>2015</td>\n",
       "      <td>4.00</td>\n",
       "      <td>5.90</td>\n",
       "      <td>60000</td>\n",
       "      <td>Petrol</td>\n",
       "      <td>Dealer</td>\n",
       "      <td>Manual</td>\n",
       "      <td>0</td>\n",
       "    </tr>\n",
       "    <tr>\n",
       "      <th>298</th>\n",
       "      <td>city</td>\n",
       "      <td>honda</td>\n",
       "      <td>2009</td>\n",
       "      <td>3.35</td>\n",
       "      <td>11.00</td>\n",
       "      <td>87934</td>\n",
       "      <td>Petrol</td>\n",
       "      <td>Dealer</td>\n",
       "      <td>Manual</td>\n",
       "      <td>0</td>\n",
       "    </tr>\n",
       "    <tr>\n",
       "      <th>299</th>\n",
       "      <td>city</td>\n",
       "      <td>honda</td>\n",
       "      <td>2017</td>\n",
       "      <td>11.50</td>\n",
       "      <td>12.50</td>\n",
       "      <td>9000</td>\n",
       "      <td>Diesel</td>\n",
       "      <td>Dealer</td>\n",
       "      <td>Manual</td>\n",
       "      <td>0</td>\n",
       "    </tr>\n",
       "    <tr>\n",
       "      <th>300</th>\n",
       "      <td>brio</td>\n",
       "      <td>honda</td>\n",
       "      <td>2016</td>\n",
       "      <td>5.30</td>\n",
       "      <td>5.90</td>\n",
       "      <td>5464</td>\n",
       "      <td>Petrol</td>\n",
       "      <td>Dealer</td>\n",
       "      <td>Manual</td>\n",
       "      <td>0</td>\n",
       "    </tr>\n",
       "  </tbody>\n",
       "</table>\n",
       "<p>301 rows × 10 columns</p>\n",
       "</div>"
      ],
      "text/plain": [
       "    Car_Name        company  Year  Selling_Price  Present_Price  Kms_Driven  \\\n",
       "0       ritz  maruti suzuki  2014           3.35           5.59       27000   \n",
       "1        sx4  maruti suzuki  2013           4.75           9.54       43000   \n",
       "2       ciaz  maruti suzuki  2017           7.25           9.85        6900   \n",
       "3    wagon r  maruti suzuki  2011           2.85           4.15        5200   \n",
       "4      swift  maruti suzuki  2014           4.60           6.87       42450   \n",
       "..       ...            ...   ...            ...            ...         ...   \n",
       "296     city          honda  2016           9.50          11.60       33988   \n",
       "297     brio          honda  2015           4.00           5.90       60000   \n",
       "298     city          honda  2009           3.35          11.00       87934   \n",
       "299     city          honda  2017          11.50          12.50        9000   \n",
       "300     brio          honda  2016           5.30           5.90        5464   \n",
       "\n",
       "    Fuel_Type Seller_Type Transmission  Owner  \n",
       "0      Petrol      Dealer       Manual      0  \n",
       "1      Diesel      Dealer       Manual      0  \n",
       "2      Petrol      Dealer       Manual      0  \n",
       "3      Petrol      Dealer       Manual      0  \n",
       "4      Diesel      Dealer       Manual      0  \n",
       "..        ...         ...          ...    ...  \n",
       "296    Diesel      Dealer       Manual      0  \n",
       "297    Petrol      Dealer       Manual      0  \n",
       "298    Petrol      Dealer       Manual      0  \n",
       "299    Diesel      Dealer       Manual      0  \n",
       "300    Petrol      Dealer       Manual      0  \n",
       "\n",
       "[301 rows x 10 columns]"
      ]
     },
     "execution_count": 3,
     "metadata": {},
     "output_type": "execute_result"
    }
   ],
   "source": [
    "Data"
   ]
  },
  {
   "cell_type": "markdown",
   "metadata": {},
   "source": [
    "# Top 5 Records"
   ]
  },
  {
   "cell_type": "code",
   "execution_count": 4,
   "metadata": {},
   "outputs": [
    {
     "data": {
      "text/html": [
       "<div>\n",
       "<style scoped>\n",
       "    .dataframe tbody tr th:only-of-type {\n",
       "        vertical-align: middle;\n",
       "    }\n",
       "\n",
       "    .dataframe tbody tr th {\n",
       "        vertical-align: top;\n",
       "    }\n",
       "\n",
       "    .dataframe thead th {\n",
       "        text-align: right;\n",
       "    }\n",
       "</style>\n",
       "<table border=\"1\" class=\"dataframe\">\n",
       "  <thead>\n",
       "    <tr style=\"text-align: right;\">\n",
       "      <th></th>\n",
       "      <th>Car_Name</th>\n",
       "      <th>company</th>\n",
       "      <th>Year</th>\n",
       "      <th>Selling_Price</th>\n",
       "      <th>Present_Price</th>\n",
       "      <th>Kms_Driven</th>\n",
       "      <th>Fuel_Type</th>\n",
       "      <th>Seller_Type</th>\n",
       "      <th>Transmission</th>\n",
       "      <th>Owner</th>\n",
       "    </tr>\n",
       "  </thead>\n",
       "  <tbody>\n",
       "    <tr>\n",
       "      <th>0</th>\n",
       "      <td>ritz</td>\n",
       "      <td>maruti suzuki</td>\n",
       "      <td>2014</td>\n",
       "      <td>3.35</td>\n",
       "      <td>5.59</td>\n",
       "      <td>27000</td>\n",
       "      <td>Petrol</td>\n",
       "      <td>Dealer</td>\n",
       "      <td>Manual</td>\n",
       "      <td>0</td>\n",
       "    </tr>\n",
       "    <tr>\n",
       "      <th>1</th>\n",
       "      <td>sx4</td>\n",
       "      <td>maruti suzuki</td>\n",
       "      <td>2013</td>\n",
       "      <td>4.75</td>\n",
       "      <td>9.54</td>\n",
       "      <td>43000</td>\n",
       "      <td>Diesel</td>\n",
       "      <td>Dealer</td>\n",
       "      <td>Manual</td>\n",
       "      <td>0</td>\n",
       "    </tr>\n",
       "    <tr>\n",
       "      <th>2</th>\n",
       "      <td>ciaz</td>\n",
       "      <td>maruti suzuki</td>\n",
       "      <td>2017</td>\n",
       "      <td>7.25</td>\n",
       "      <td>9.85</td>\n",
       "      <td>6900</td>\n",
       "      <td>Petrol</td>\n",
       "      <td>Dealer</td>\n",
       "      <td>Manual</td>\n",
       "      <td>0</td>\n",
       "    </tr>\n",
       "    <tr>\n",
       "      <th>3</th>\n",
       "      <td>wagon r</td>\n",
       "      <td>maruti suzuki</td>\n",
       "      <td>2011</td>\n",
       "      <td>2.85</td>\n",
       "      <td>4.15</td>\n",
       "      <td>5200</td>\n",
       "      <td>Petrol</td>\n",
       "      <td>Dealer</td>\n",
       "      <td>Manual</td>\n",
       "      <td>0</td>\n",
       "    </tr>\n",
       "    <tr>\n",
       "      <th>4</th>\n",
       "      <td>swift</td>\n",
       "      <td>maruti suzuki</td>\n",
       "      <td>2014</td>\n",
       "      <td>4.60</td>\n",
       "      <td>6.87</td>\n",
       "      <td>42450</td>\n",
       "      <td>Diesel</td>\n",
       "      <td>Dealer</td>\n",
       "      <td>Manual</td>\n",
       "      <td>0</td>\n",
       "    </tr>\n",
       "  </tbody>\n",
       "</table>\n",
       "</div>"
      ],
      "text/plain": [
       "  Car_Name        company  Year  Selling_Price  Present_Price  Kms_Driven  \\\n",
       "0     ritz  maruti suzuki  2014           3.35           5.59       27000   \n",
       "1      sx4  maruti suzuki  2013           4.75           9.54       43000   \n",
       "2     ciaz  maruti suzuki  2017           7.25           9.85        6900   \n",
       "3  wagon r  maruti suzuki  2011           2.85           4.15        5200   \n",
       "4    swift  maruti suzuki  2014           4.60           6.87       42450   \n",
       "\n",
       "  Fuel_Type Seller_Type Transmission  Owner  \n",
       "0    Petrol      Dealer       Manual      0  \n",
       "1    Diesel      Dealer       Manual      0  \n",
       "2    Petrol      Dealer       Manual      0  \n",
       "3    Petrol      Dealer       Manual      0  \n",
       "4    Diesel      Dealer       Manual      0  "
      ]
     },
     "execution_count": 4,
     "metadata": {},
     "output_type": "execute_result"
    }
   ],
   "source": [
    "Data.head()"
   ]
  },
  {
   "cell_type": "markdown",
   "metadata": {},
   "source": [
    "# Shape of the dataset"
   ]
  },
  {
   "cell_type": "code",
   "execution_count": 5,
   "metadata": {},
   "outputs": [
    {
     "data": {
      "text/plain": [
       "(301, 10)"
      ]
     },
     "execution_count": 5,
     "metadata": {},
     "output_type": "execute_result"
    }
   ],
   "source": [
    "Data.shape"
   ]
  },
  {
   "cell_type": "markdown",
   "metadata": {},
   "source": [
    "301 is the number of records.\n",
    "10 is the number of features."
   ]
  },
  {
   "cell_type": "markdown",
   "metadata": {},
   "source": [
    "# Summary of the dataset"
   ]
  },
  {
   "cell_type": "code",
   "execution_count": 6,
   "metadata": {},
   "outputs": [
    {
     "name": "stdout",
     "output_type": "stream",
     "text": [
      "<class 'pandas.core.frame.DataFrame'>\n",
      "RangeIndex: 301 entries, 0 to 300\n",
      "Data columns (total 10 columns):\n",
      " #   Column         Non-Null Count  Dtype  \n",
      "---  ------         --------------  -----  \n",
      " 0   Car_Name       301 non-null    object \n",
      " 1   company        301 non-null    object \n",
      " 2   Year           301 non-null    int64  \n",
      " 3   Selling_Price  301 non-null    float64\n",
      " 4   Present_Price  301 non-null    float64\n",
      " 5   Kms_Driven     301 non-null    int64  \n",
      " 6   Fuel_Type      301 non-null    object \n",
      " 7   Seller_Type    301 non-null    object \n",
      " 8   Transmission   301 non-null    object \n",
      " 9   Owner          301 non-null    int64  \n",
      "dtypes: float64(2), int64(3), object(5)\n",
      "memory usage: 23.6+ KB\n"
     ]
    }
   ],
   "source": [
    "Data.info() # Check Null values and Data types"
   ]
  },
  {
   "cell_type": "markdown",
   "metadata": {},
   "source": [
    "# Explore the dataset"
   ]
  },
  {
   "cell_type": "code",
   "execution_count": 7,
   "metadata": {},
   "outputs": [],
   "source": [
    "\n",
    "numeric_features = [feature for feature in Data.columns if Data[feature].dtype != 'O']\n",
    "categorical_features = [feature for feature in Data.columns if Data[feature].dtype == 'O']\n"
   ]
  },
  {
   "cell_type": "code",
   "execution_count": 8,
   "metadata": {},
   "outputs": [
    {
     "data": {
      "text/plain": [
       "['Year', 'Selling_Price', 'Present_Price', 'Kms_Driven', 'Owner']"
      ]
     },
     "execution_count": 8,
     "metadata": {},
     "output_type": "execute_result"
    }
   ],
   "source": [
    "numeric_features"
   ]
  },
  {
   "cell_type": "code",
   "execution_count": 9,
   "metadata": {},
   "outputs": [
    {
     "data": {
      "text/plain": [
       "['Car_Name', 'company', 'Fuel_Type', 'Seller_Type', 'Transmission']"
      ]
     },
     "execution_count": 9,
     "metadata": {},
     "output_type": "execute_result"
    }
   ],
   "source": [
    "categorical_features"
   ]
  },
  {
   "cell_type": "markdown",
   "metadata": {},
   "source": [
    "# Features Information "
   ]
  },
  {
   "cell_type": "markdown",
   "metadata": {},
   "source": [
    "Car_Name: This column likely contains the names or identifiers of the cars.\n",
    "\n",
    "company: This column appears to contain the company or manufacturer name of the car.\n",
    "\n",
    "Year: Represents the manufacturing year of the car. It is of integer type (int64).\n",
    "\n",
    "Selling_Price: Indicates the selling price of the car. It is of float type (float64).\n",
    "\n",
    "Present_Price: Represents the present price or current market value of the car. It is also of float type (float64).\n",
    "\n",
    "Kms_Driven: Denotes the total kilometers the car has been driven. It is of integer type (int64).\n",
    "\n",
    "Fuel_Type: Specifies the type of fuel the car uses, which can be categorical (object) data. Common values might include 'Petrol', 'Diesel', or 'CNG'.\n",
    "\n",
    "Seller_Type: Represents the type of seller, possibly indicating whether the seller is an individual or a dealer. It is likely a categorical feature (object).\n",
    "\n",
    "Transmission: Describes the type of transmission the car has, such as 'Manual' or 'Automatic'. It is also likely a categorical feature (object).\n",
    "\n",
    "Owner: Represents the number of previous owners of the car. It is of integer type (int64)."
   ]
  },
  {
   "cell_type": "markdown",
   "metadata": {},
   "source": [
    "# Proportion of count data on categorical columns in Percentage"
   ]
  },
  {
   "cell_type": "code",
   "execution_count": 10,
   "metadata": {},
   "outputs": [
    {
     "name": "stdout",
     "output_type": "stream",
     "text": [
      "city                        8.637874\n",
      "corolla altis               5.315615\n",
      "verna                       4.651163\n",
      "fortuner                    3.654485\n",
      "brio                        3.322259\n",
      "                              ...   \n",
      "Honda CB Trigger            0.332226\n",
      "Yamaha FZ S                 0.332226\n",
      "Bajaj Pulsar 135 LS         0.332226\n",
      "Activa 4g                   0.332226\n",
      "Bajaj Avenger Street 220    0.332226\n",
      "Name: Car_Name, Length: 98, dtype: float64\n",
      "--------------------------------\n",
      "honda            23.255814\n",
      "maruti suzuki    16.611296\n",
      "hyndai           16.611296\n",
      "other            12.956811\n",
      "toyota           11.960133\n",
      "bajaj             8.305648\n",
      "hero              4.983389\n",
      "yamaha            2.657807\n",
      "tvs               2.657807\n",
      "Name: company, dtype: float64\n",
      "--------------------------------\n",
      "Petrol    79.401993\n",
      "Diesel    19.933555\n",
      "CNG        0.664452\n",
      "Name: Fuel_Type, dtype: float64\n",
      "--------------------------------\n",
      "Dealer        64.784053\n",
      "Individual    35.215947\n",
      "Name: Seller_Type, dtype: float64\n",
      "--------------------------------\n",
      "Manual       86.710963\n",
      "Automatic    13.289037\n",
      "Name: Transmission, dtype: float64\n",
      "--------------------------------\n"
     ]
    }
   ],
   "source": [
    "for col in categorical_features:\n",
    "    print(Data[col].value_counts(normalize=True) * 100)\n",
    "    print('--------------------------------')"
   ]
  },
  {
   "cell_type": "markdown",
   "metadata": {},
   "source": [
    "# Univariate Analysis"
   ]
  },
  {
   "cell_type": "markdown",
   "metadata": {},
   "source": [
    "Univariate analysis involves the examination of a single variable at a time. Here, we'll consider various univariate analyses that can be applied to the features in your car dataset. The specific analysis depends on whether the variable is numerical or categorical.\n",
    "Numerical Variables:\n",
    "\n",
    "    Year:\n",
    "        Histogram: Visualize the distribution of car manufacturing years.\n",
    "        Summary Statistics: Calculate mean, median, standard deviation, etc.\n",
    "\n",
    "    Selling_Price and Present_Price:\n",
    "        Histogram: Understand the distribution of selling prices and present prices.\n",
    "        Box Plot: Detect outliers and understand the spread of prices.\n",
    "\n",
    "    Kms_Driven:\n",
    "        Histogram: Examine the distribution of kilometers driven.\n",
    "        Summary Statistics: Understand the central tendency and spread.\n",
    "\n",
    "    Owner:\n",
    "        Count Plot: Visualize the distribution of the number of owners.\n",
    "        Value Counts: Get the count of unique owner values.\n",
    "\n",
    "Categorical Variables:\n",
    "\n",
    "    Fuel_Type, Seller_Type, Transmission:\n",
    "        Count Plot: Visualize the distribution of different fuel types, seller types, and transmission types.\n",
    "\n",
    "    Car_Name and Company:\n",
    "        Value Counts: Count the occurrences of each car name and company.\n",
    "\n",
    "Combined Analysis:\n",
    "\n",
    "    Year vs. Selling_Price:\n",
    "        Scatter Plot: Understand how selling prices vary with the manufacturing year.\n",
    "\n",
    "    Fuel_Type vs. Present_Price:\n",
    "        Box Plot: Visualize how the present prices vary for different fuel types.\n",
    "\n",
    "    Transmission vs. Kms_Driven:\n",
    "        Violin Plot: Explore the distribution of kilometers driven for different transmission types."
   ]
  },
  {
   "cell_type": "markdown",
   "metadata": {},
   "source": [
    "# Numerical Variables"
   ]
  },
  {
   "cell_type": "code",
   "execution_count": 11,
   "metadata": {},
   "outputs": [
    {
     "data": {
      "application/vnd.plotly.v1+json": {
       "config": {
        "plotlyServerURL": "https://plot.ly"
       },
       "data": [
        {
         "alignmentgroup": "True",
         "bingroup": "x",
         "hovertemplate": "Manufacturing Year=%{x}<br>count=%{y}<extra></extra>",
         "legendgroup": "",
         "marker": {
          "color": "#87CEFA",
          "pattern": {
           "shape": ""
          }
         },
         "name": "",
         "nbinsx": 20,
         "offsetgroup": "",
         "orientation": "v",
         "showlegend": false,
         "type": "histogram",
         "x": [
          2014,
          2013,
          2017,
          2011,
          2014,
          2018,
          2015,
          2015,
          2016,
          2015,
          2017,
          2015,
          2015,
          2015,
          2009,
          2016,
          2015,
          2016,
          2015,
          2010,
          2016,
          2017,
          2011,
          2014,
          2013,
          2011,
          2013,
          2017,
          2010,
          2015,
          2012,
          2011,
          2014,
          2014,
          2014,
          2011,
          2015,
          2003,
          2016,
          2003,
          2016,
          2014,
          2008,
          2014,
          2012,
          2014,
          2013,
          2006,
          2015,
          2017,
          2012,
          2015,
          2017,
          2013,
          2005,
          2009,
          2015,
          2010,
          2014,
          2014,
          2013,
          2015,
          2014,
          2015,
          2017,
          2014,
          2017,
          2010,
          2011,
          2016,
          2014,
          2011,
          2013,
          2011,
          2014,
          2015,
          2013,
          2004,
          2010,
          2012,
          2016,
          2015,
          2017,
          2015,
          2005,
          2006,
          2010,
          2012,
          2013,
          2014,
          2009,
          2014,
          2005,
          2015,
          2008,
          2012,
          2016,
          2017,
          2013,
          2010,
          2016,
          2017,
          2017,
          2017,
          2017,
          2015,
          2014,
          2013,
          2016,
          2017,
          2016,
          2016,
          2014,
          2016,
          2015,
          2015,
          2013,
          2015,
          2015,
          2013,
          2016,
          2011,
          2016,
          2013,
          2012,
          2009,
          2017,
          2016,
          2017,
          2017,
          2017,
          2015,
          2017,
          2016,
          2017,
          2015,
          2014,
          2013,
          2016,
          2015,
          2013,
          2016,
          2015,
          2016,
          2014,
          2012,
          2014,
          2015,
          2010,
          2016,
          2011,
          2016,
          2012,
          2013,
          2014,
          2017,
          2017,
          2015,
          2017,
          2017,
          2011,
          2014,
          2012,
          2010,
          2016,
          2016,
          2016,
          2014,
          2013,
          2015,
          2012,
          2015,
          2014,
          2017,
          2015,
          2011,
          2011,
          2016,
          2014,
          2010,
          2012,
          2016,
          2013,
          2013,
          2008,
          2008,
          2010,
          2013,
          2013,
          2005,
          2008,
          2012,
          2007,
          2013,
          2008,
          2015,
          2008,
          2010,
          2011,
          2007,
          2006,
          2010,
          2015,
          2011,
          2015,
          2016,
          2017,
          2015,
          2017,
          2015,
          2012,
          2015,
          2016,
          2011,
          2017,
          2012,
          2016,
          2016,
          2014,
          2012,
          2017,
          2013,
          2014,
          2015,
          2013,
          2011,
          2015,
          2011,
          2012,
          2012,
          2013,
          2017,
          2015,
          2013,
          2015,
          2017,
          2016,
          2015,
          2013,
          2012,
          2012,
          2015,
          2014,
          2016,
          2013,
          2012,
          2012,
          2015,
          2013,
          2016,
          2016,
          2013,
          2015,
          2014,
          2013,
          2012,
          2016,
          2015,
          2015,
          2014,
          2016,
          2016,
          2015,
          2016,
          2015,
          2017,
          2014,
          2016,
          2017,
          2015,
          2011,
          2009,
          2015,
          2010,
          2014,
          2016,
          2015,
          2015,
          2016,
          2014,
          2015,
          2006,
          2014,
          2016,
          2013,
          2016,
          2016,
          2015,
          2015,
          2016,
          2014,
          2015,
          2016,
          2010,
          2014,
          2015,
          2016,
          2015,
          2009,
          2017,
          2016
         ],
         "xaxis": "x",
         "yaxis": "y"
        }
       ],
       "layout": {
        "barmode": "relative",
        "legend": {
         "tracegroupgap": 0
        },
        "template": {
         "data": {
          "bar": [
           {
            "error_x": {
             "color": "#2a3f5f"
            },
            "error_y": {
             "color": "#2a3f5f"
            },
            "marker": {
             "line": {
              "color": "#E5ECF6",
              "width": 0.5
             },
             "pattern": {
              "fillmode": "overlay",
              "size": 10,
              "solidity": 0.2
             }
            },
            "type": "bar"
           }
          ],
          "barpolar": [
           {
            "marker": {
             "line": {
              "color": "#E5ECF6",
              "width": 0.5
             },
             "pattern": {
              "fillmode": "overlay",
              "size": 10,
              "solidity": 0.2
             }
            },
            "type": "barpolar"
           }
          ],
          "carpet": [
           {
            "aaxis": {
             "endlinecolor": "#2a3f5f",
             "gridcolor": "white",
             "linecolor": "white",
             "minorgridcolor": "white",
             "startlinecolor": "#2a3f5f"
            },
            "baxis": {
             "endlinecolor": "#2a3f5f",
             "gridcolor": "white",
             "linecolor": "white",
             "minorgridcolor": "white",
             "startlinecolor": "#2a3f5f"
            },
            "type": "carpet"
           }
          ],
          "choropleth": [
           {
            "colorbar": {
             "outlinewidth": 0,
             "ticks": ""
            },
            "type": "choropleth"
           }
          ],
          "contour": [
           {
            "colorbar": {
             "outlinewidth": 0,
             "ticks": ""
            },
            "colorscale": [
             [
              0,
              "#0d0887"
             ],
             [
              0.1111111111111111,
              "#46039f"
             ],
             [
              0.2222222222222222,
              "#7201a8"
             ],
             [
              0.3333333333333333,
              "#9c179e"
             ],
             [
              0.4444444444444444,
              "#bd3786"
             ],
             [
              0.5555555555555556,
              "#d8576b"
             ],
             [
              0.6666666666666666,
              "#ed7953"
             ],
             [
              0.7777777777777778,
              "#fb9f3a"
             ],
             [
              0.8888888888888888,
              "#fdca26"
             ],
             [
              1,
              "#f0f921"
             ]
            ],
            "type": "contour"
           }
          ],
          "contourcarpet": [
           {
            "colorbar": {
             "outlinewidth": 0,
             "ticks": ""
            },
            "type": "contourcarpet"
           }
          ],
          "heatmap": [
           {
            "colorbar": {
             "outlinewidth": 0,
             "ticks": ""
            },
            "colorscale": [
             [
              0,
              "#0d0887"
             ],
             [
              0.1111111111111111,
              "#46039f"
             ],
             [
              0.2222222222222222,
              "#7201a8"
             ],
             [
              0.3333333333333333,
              "#9c179e"
             ],
             [
              0.4444444444444444,
              "#bd3786"
             ],
             [
              0.5555555555555556,
              "#d8576b"
             ],
             [
              0.6666666666666666,
              "#ed7953"
             ],
             [
              0.7777777777777778,
              "#fb9f3a"
             ],
             [
              0.8888888888888888,
              "#fdca26"
             ],
             [
              1,
              "#f0f921"
             ]
            ],
            "type": "heatmap"
           }
          ],
          "heatmapgl": [
           {
            "colorbar": {
             "outlinewidth": 0,
             "ticks": ""
            },
            "colorscale": [
             [
              0,
              "#0d0887"
             ],
             [
              0.1111111111111111,
              "#46039f"
             ],
             [
              0.2222222222222222,
              "#7201a8"
             ],
             [
              0.3333333333333333,
              "#9c179e"
             ],
             [
              0.4444444444444444,
              "#bd3786"
             ],
             [
              0.5555555555555556,
              "#d8576b"
             ],
             [
              0.6666666666666666,
              "#ed7953"
             ],
             [
              0.7777777777777778,
              "#fb9f3a"
             ],
             [
              0.8888888888888888,
              "#fdca26"
             ],
             [
              1,
              "#f0f921"
             ]
            ],
            "type": "heatmapgl"
           }
          ],
          "histogram": [
           {
            "marker": {
             "pattern": {
              "fillmode": "overlay",
              "size": 10,
              "solidity": 0.2
             }
            },
            "type": "histogram"
           }
          ],
          "histogram2d": [
           {
            "colorbar": {
             "outlinewidth": 0,
             "ticks": ""
            },
            "colorscale": [
             [
              0,
              "#0d0887"
             ],
             [
              0.1111111111111111,
              "#46039f"
             ],
             [
              0.2222222222222222,
              "#7201a8"
             ],
             [
              0.3333333333333333,
              "#9c179e"
             ],
             [
              0.4444444444444444,
              "#bd3786"
             ],
             [
              0.5555555555555556,
              "#d8576b"
             ],
             [
              0.6666666666666666,
              "#ed7953"
             ],
             [
              0.7777777777777778,
              "#fb9f3a"
             ],
             [
              0.8888888888888888,
              "#fdca26"
             ],
             [
              1,
              "#f0f921"
             ]
            ],
            "type": "histogram2d"
           }
          ],
          "histogram2dcontour": [
           {
            "colorbar": {
             "outlinewidth": 0,
             "ticks": ""
            },
            "colorscale": [
             [
              0,
              "#0d0887"
             ],
             [
              0.1111111111111111,
              "#46039f"
             ],
             [
              0.2222222222222222,
              "#7201a8"
             ],
             [
              0.3333333333333333,
              "#9c179e"
             ],
             [
              0.4444444444444444,
              "#bd3786"
             ],
             [
              0.5555555555555556,
              "#d8576b"
             ],
             [
              0.6666666666666666,
              "#ed7953"
             ],
             [
              0.7777777777777778,
              "#fb9f3a"
             ],
             [
              0.8888888888888888,
              "#fdca26"
             ],
             [
              1,
              "#f0f921"
             ]
            ],
            "type": "histogram2dcontour"
           }
          ],
          "mesh3d": [
           {
            "colorbar": {
             "outlinewidth": 0,
             "ticks": ""
            },
            "type": "mesh3d"
           }
          ],
          "parcoords": [
           {
            "line": {
             "colorbar": {
              "outlinewidth": 0,
              "ticks": ""
             }
            },
            "type": "parcoords"
           }
          ],
          "pie": [
           {
            "automargin": true,
            "type": "pie"
           }
          ],
          "scatter": [
           {
            "fillpattern": {
             "fillmode": "overlay",
             "size": 10,
             "solidity": 0.2
            },
            "type": "scatter"
           }
          ],
          "scatter3d": [
           {
            "line": {
             "colorbar": {
              "outlinewidth": 0,
              "ticks": ""
             }
            },
            "marker": {
             "colorbar": {
              "outlinewidth": 0,
              "ticks": ""
             }
            },
            "type": "scatter3d"
           }
          ],
          "scattercarpet": [
           {
            "marker": {
             "colorbar": {
              "outlinewidth": 0,
              "ticks": ""
             }
            },
            "type": "scattercarpet"
           }
          ],
          "scattergeo": [
           {
            "marker": {
             "colorbar": {
              "outlinewidth": 0,
              "ticks": ""
             }
            },
            "type": "scattergeo"
           }
          ],
          "scattergl": [
           {
            "marker": {
             "colorbar": {
              "outlinewidth": 0,
              "ticks": ""
             }
            },
            "type": "scattergl"
           }
          ],
          "scattermapbox": [
           {
            "marker": {
             "colorbar": {
              "outlinewidth": 0,
              "ticks": ""
             }
            },
            "type": "scattermapbox"
           }
          ],
          "scatterpolar": [
           {
            "marker": {
             "colorbar": {
              "outlinewidth": 0,
              "ticks": ""
             }
            },
            "type": "scatterpolar"
           }
          ],
          "scatterpolargl": [
           {
            "marker": {
             "colorbar": {
              "outlinewidth": 0,
              "ticks": ""
             }
            },
            "type": "scatterpolargl"
           }
          ],
          "scatterternary": [
           {
            "marker": {
             "colorbar": {
              "outlinewidth": 0,
              "ticks": ""
             }
            },
            "type": "scatterternary"
           }
          ],
          "surface": [
           {
            "colorbar": {
             "outlinewidth": 0,
             "ticks": ""
            },
            "colorscale": [
             [
              0,
              "#0d0887"
             ],
             [
              0.1111111111111111,
              "#46039f"
             ],
             [
              0.2222222222222222,
              "#7201a8"
             ],
             [
              0.3333333333333333,
              "#9c179e"
             ],
             [
              0.4444444444444444,
              "#bd3786"
             ],
             [
              0.5555555555555556,
              "#d8576b"
             ],
             [
              0.6666666666666666,
              "#ed7953"
             ],
             [
              0.7777777777777778,
              "#fb9f3a"
             ],
             [
              0.8888888888888888,
              "#fdca26"
             ],
             [
              1,
              "#f0f921"
             ]
            ],
            "type": "surface"
           }
          ],
          "table": [
           {
            "cells": {
             "fill": {
              "color": "#EBF0F8"
             },
             "line": {
              "color": "white"
             }
            },
            "header": {
             "fill": {
              "color": "#C8D4E3"
             },
             "line": {
              "color": "white"
             }
            },
            "type": "table"
           }
          ]
         },
         "layout": {
          "annotationdefaults": {
           "arrowcolor": "#2a3f5f",
           "arrowhead": 0,
           "arrowwidth": 1
          },
          "autotypenumbers": "strict",
          "coloraxis": {
           "colorbar": {
            "outlinewidth": 0,
            "ticks": ""
           }
          },
          "colorscale": {
           "diverging": [
            [
             0,
             "#8e0152"
            ],
            [
             0.1,
             "#c51b7d"
            ],
            [
             0.2,
             "#de77ae"
            ],
            [
             0.3,
             "#f1b6da"
            ],
            [
             0.4,
             "#fde0ef"
            ],
            [
             0.5,
             "#f7f7f7"
            ],
            [
             0.6,
             "#e6f5d0"
            ],
            [
             0.7,
             "#b8e186"
            ],
            [
             0.8,
             "#7fbc41"
            ],
            [
             0.9,
             "#4d9221"
            ],
            [
             1,
             "#276419"
            ]
           ],
           "sequential": [
            [
             0,
             "#0d0887"
            ],
            [
             0.1111111111111111,
             "#46039f"
            ],
            [
             0.2222222222222222,
             "#7201a8"
            ],
            [
             0.3333333333333333,
             "#9c179e"
            ],
            [
             0.4444444444444444,
             "#bd3786"
            ],
            [
             0.5555555555555556,
             "#d8576b"
            ],
            [
             0.6666666666666666,
             "#ed7953"
            ],
            [
             0.7777777777777778,
             "#fb9f3a"
            ],
            [
             0.8888888888888888,
             "#fdca26"
            ],
            [
             1,
             "#f0f921"
            ]
           ],
           "sequentialminus": [
            [
             0,
             "#0d0887"
            ],
            [
             0.1111111111111111,
             "#46039f"
            ],
            [
             0.2222222222222222,
             "#7201a8"
            ],
            [
             0.3333333333333333,
             "#9c179e"
            ],
            [
             0.4444444444444444,
             "#bd3786"
            ],
            [
             0.5555555555555556,
             "#d8576b"
            ],
            [
             0.6666666666666666,
             "#ed7953"
            ],
            [
             0.7777777777777778,
             "#fb9f3a"
            ],
            [
             0.8888888888888888,
             "#fdca26"
            ],
            [
             1,
             "#f0f921"
            ]
           ]
          },
          "colorway": [
           "#636efa",
           "#EF553B",
           "#00cc96",
           "#ab63fa",
           "#FFA15A",
           "#19d3f3",
           "#FF6692",
           "#B6E880",
           "#FF97FF",
           "#FECB52"
          ],
          "font": {
           "color": "#2a3f5f"
          },
          "geo": {
           "bgcolor": "white",
           "lakecolor": "white",
           "landcolor": "#E5ECF6",
           "showlakes": true,
           "showland": true,
           "subunitcolor": "white"
          },
          "hoverlabel": {
           "align": "left"
          },
          "hovermode": "closest",
          "mapbox": {
           "style": "light"
          },
          "paper_bgcolor": "white",
          "plot_bgcolor": "#E5ECF6",
          "polar": {
           "angularaxis": {
            "gridcolor": "white",
            "linecolor": "white",
            "ticks": ""
           },
           "bgcolor": "#E5ECF6",
           "radialaxis": {
            "gridcolor": "white",
            "linecolor": "white",
            "ticks": ""
           }
          },
          "scene": {
           "xaxis": {
            "backgroundcolor": "#E5ECF6",
            "gridcolor": "white",
            "gridwidth": 2,
            "linecolor": "white",
            "showbackground": true,
            "ticks": "",
            "zerolinecolor": "white"
           },
           "yaxis": {
            "backgroundcolor": "#E5ECF6",
            "gridcolor": "white",
            "gridwidth": 2,
            "linecolor": "white",
            "showbackground": true,
            "ticks": "",
            "zerolinecolor": "white"
           },
           "zaxis": {
            "backgroundcolor": "#E5ECF6",
            "gridcolor": "white",
            "gridwidth": 2,
            "linecolor": "white",
            "showbackground": true,
            "ticks": "",
            "zerolinecolor": "white"
           }
          },
          "shapedefaults": {
           "line": {
            "color": "#2a3f5f"
           }
          },
          "ternary": {
           "aaxis": {
            "gridcolor": "white",
            "linecolor": "white",
            "ticks": ""
           },
           "baxis": {
            "gridcolor": "white",
            "linecolor": "white",
            "ticks": ""
           },
           "bgcolor": "#E5ECF6",
           "caxis": {
            "gridcolor": "white",
            "linecolor": "white",
            "ticks": ""
           }
          },
          "title": {
           "x": 0.05
          },
          "xaxis": {
           "automargin": true,
           "gridcolor": "white",
           "linecolor": "white",
           "ticks": "",
           "title": {
            "standoff": 15
           },
           "zerolinecolor": "white",
           "zerolinewidth": 2
          },
          "yaxis": {
           "automargin": true,
           "gridcolor": "white",
           "linecolor": "white",
           "ticks": "",
           "title": {
            "standoff": 15
           },
           "zerolinecolor": "white",
           "zerolinewidth": 2
          }
         }
        },
        "title": {
         "text": "Distribution of Car Manufacturing Years"
        },
        "xaxis": {
         "anchor": "y",
         "domain": [
          0,
          1
         ],
         "title": {
          "text": "Manufacturing Year"
         }
        },
        "yaxis": {
         "anchor": "x",
         "domain": [
          0,
          1
         ],
         "title": {
          "text": "Frequency"
         }
        }
       }
      }
     },
     "metadata": {},
     "output_type": "display_data"
    },
    {
     "name": "stdout",
     "output_type": "stream",
     "text": [
      "Mean Year: 2013.6279069767443\n",
      "Median Year: 2014.0\n",
      "Standard Deviation of Year: 2.891554127336682\n"
     ]
    }
   ],
   "source": [
    "\n",
    "# Histogram for Year\n",
    "fig_year = px.histogram(Data, x='Year', nbins=20, title='Distribution of Car Manufacturing Years',\n",
    "                        labels={'Year': 'Manufacturing Year', 'count': 'Frequency'},\n",
    "                        color_discrete_sequence=['#87CEFA'])\n",
    "fig_year.update_layout(xaxis_title='Manufacturing Year', yaxis_title='Frequency')\n",
    "\n",
    "# Show the histogram\n",
    "fig_year.show()\n",
    "\n",
    "# Summary Statistics for Year\n",
    "year_mean = Data['Year'].mean()\n",
    "year_median = Data['Year'].median()\n",
    "year_std = Data['Year'].std()\n",
    "\n",
    "print(f\"Mean Year: {year_mean}\")\n",
    "print(f\"Median Year: {year_median}\")\n",
    "print(f\"Standard Deviation of Year: {year_std}\")\n"
   ]
  },
  {
   "cell_type": "code",
   "execution_count": 12,
   "metadata": {},
   "outputs": [
    {
     "data": {
      "application/vnd.plotly.v1+json": {
       "config": {
        "plotlyServerURL": "https://plot.ly"
       },
       "data": [
        {
         "alignmentgroup": "True",
         "bingroup": "x",
         "hovertemplate": "Variable=Selling_Price<br>Price=%{x}<br>count=%{y}<extra></extra>",
         "legendgroup": "Selling_Price",
         "marker": {
          "color": "#87CEFA",
          "pattern": {
           "shape": ""
          }
         },
         "name": "Selling_Price",
         "nbinsx": 20,
         "offsetgroup": "Selling_Price",
         "orientation": "v",
         "showlegend": true,
         "type": "histogram",
         "x": [
          3.35,
          4.75,
          7.25,
          2.85,
          4.6,
          9.25,
          6.75,
          6.5,
          8.75,
          7.45,
          2.85,
          6.85,
          7.5,
          6.1,
          2.25,
          7.75,
          7.25,
          7.75,
          3.25,
          2.65,
          2.85,
          4.9,
          4.4,
          2.5,
          2.9,
          3,
          4.15,
          6,
          1.95,
          7.45,
          3.1,
          2.35,
          4.95,
          6,
          5.5,
          2.95,
          4.65,
          0.35,
          3,
          2.25,
          5.85,
          2.55,
          1.95,
          5.5,
          1.25,
          7.5,
          2.65,
          1.05,
          5.8,
          7.75,
          14.9,
          23,
          18,
          16,
          2.75,
          3.6,
          4.5,
          4.75,
          4.1,
          19.99,
          6.95,
          4.5,
          18.75,
          23.5,
          33,
          4.75,
          19.75,
          9.25,
          4.35,
          14.25,
          3.95,
          4.5,
          7.45,
          2.65,
          4.9,
          3.95,
          5.5,
          1.5,
          5.25,
          14.5,
          14.73,
          4.75,
          23,
          12.5,
          3.49,
          2.5,
          35,
          5.9,
          3.45,
          4.75,
          3.8,
          11.25,
          3.51,
          23,
          4,
          5.85,
          20.75,
          17,
          7.05,
          9.65,
          1.75,
          1.7,
          1.65,
          1.45,
          1.35,
          1.35,
          1.35,
          1.25,
          1.2,
          1.2,
          1.2,
          1.15,
          1.15,
          1.15,
          1.15,
          1.11,
          1.1,
          1.1,
          1.1,
          1.05,
          1.05,
          1.05,
          1.05,
          1,
          0.95,
          0.9,
          0.9,
          0.75,
          0.8,
          0.78,
          0.75,
          0.75,
          0.75,
          0.72,
          0.65,
          0.65,
          0.65,
          0.65,
          0.6,
          0.6,
          0.6,
          0.6,
          0.6,
          0.6,
          0.6,
          0.6,
          0.55,
          0.55,
          0.52,
          0.51,
          0.5,
          0.5,
          0.5,
          0.5,
          0.5,
          0.48,
          0.48,
          0.48,
          0.48,
          0.45,
          0.45,
          0.45,
          0.45,
          0.45,
          0.45,
          0.45,
          0.45,
          0.42,
          0.42,
          0.4,
          0.4,
          0.4,
          0.4,
          0.4,
          0.38,
          0.38,
          0.35,
          0.35,
          0.35,
          0.31,
          0.3,
          0.3,
          0.3,
          0.27,
          0.25,
          0.25,
          0.25,
          0.25,
          0.25,
          0.2,
          0.2,
          0.2,
          0.2,
          0.2,
          0.2,
          0.18,
          0.17,
          0.16,
          0.15,
          0.12,
          0.1,
          3.25,
          4.4,
          2.95,
          2.75,
          5.25,
          5.75,
          5.15,
          7.9,
          4.85,
          3.1,
          11.75,
          11.25,
          2.9,
          5.25,
          4.5,
          2.9,
          3.15,
          6.45,
          4.5,
          3.5,
          4.5,
          6,
          8.25,
          5.11,
          2.7,
          5.25,
          2.55,
          4.95,
          3.1,
          6.15,
          9.25,
          11.45,
          3.9,
          5.5,
          9.1,
          3.1,
          11.25,
          4.8,
          2,
          5.35,
          4.75,
          4.4,
          6.25,
          5.95,
          5.2,
          3.75,
          5.95,
          4,
          5.25,
          12.9,
          5,
          5.4,
          7.2,
          5.25,
          3,
          10.25,
          8.5,
          8.4,
          3.9,
          9.15,
          5.5,
          4,
          6.6,
          4,
          6.5,
          3.65,
          8.35,
          4.8,
          6.7,
          4.1,
          3,
          7.5,
          2.25,
          5.3,
          10.9,
          8.65,
          9.7,
          6,
          6.25,
          5.25,
          2.1,
          8.25,
          8.99,
          3.5,
          7.4,
          5.65,
          5.75,
          8.4,
          10.11,
          4.5,
          5.4,
          6.4,
          3.25,
          3.75,
          8.55,
          9.5,
          4,
          3.35,
          11.5,
          5.3
         ],
         "xaxis": "x",
         "yaxis": "y"
        },
        {
         "alignmentgroup": "True",
         "bingroup": "x",
         "hovertemplate": "Variable=Present_Price<br>Price=%{x}<br>count=%{y}<extra></extra>",
         "legendgroup": "Present_Price",
         "marker": {
          "color": "#90EE90",
          "pattern": {
           "shape": ""
          }
         },
         "name": "Present_Price",
         "nbinsx": 20,
         "offsetgroup": "Present_Price",
         "orientation": "v",
         "showlegend": true,
         "type": "histogram",
         "x": [
          5.59,
          9.54,
          9.85,
          4.15,
          6.87,
          9.83,
          8.12,
          8.61,
          8.89,
          8.92,
          3.6,
          10.38,
          9.94,
          7.71,
          7.21,
          10.79,
          10.79,
          10.79,
          5.09,
          7.98,
          3.95,
          5.71,
          8.01,
          3.46,
          4.41,
          4.99,
          5.87,
          6.49,
          3.95,
          10.38,
          5.98,
          4.89,
          7.49,
          9.95,
          8.06,
          7.74,
          7.2,
          2.28,
          3.76,
          7.98,
          7.87,
          3.98,
          7.15,
          8.06,
          2.69,
          12.04,
          4.89,
          4.15,
          7.71,
          9.29,
          30.61,
          30.61,
          19.77,
          30.61,
          10.21,
          15.04,
          7.27,
          18.54,
          6.8,
          35.96,
          18.61,
          7.7,
          35.96,
          35.96,
          36.23,
          6.95,
          23.15,
          20.45,
          13.74,
          20.91,
          6.76,
          12.48,
          18.61,
          5.71,
          8.93,
          6.8,
          14.68,
          12.35,
          22.83,
          30.61,
          14.89,
          7.85,
          25.39,
          13.46,
          13.46,
          23.73,
          92.6,
          13.74,
          6.05,
          6.76,
          18.61,
          16.09,
          13.7,
          30.61,
          22.78,
          18.61,
          25.39,
          18.64,
          18.61,
          20.45,
          1.9,
          1.82,
          1.78,
          1.6,
          1.47,
          2.37,
          3.45,
          1.5,
          1.5,
          1.47,
          1.78,
          1.5,
          2.4,
          1.4,
          1.47,
          1.47,
          1.47,
          1.9,
          1.47,
          1.9,
          1.26,
          1.5,
          1.17,
          1.47,
          1.75,
          1.75,
          0.95,
          0.8,
          0.87,
          0.84,
          0.87,
          0.82,
          0.95,
          0.95,
          0.81,
          0.74,
          1.2,
          0.787,
          0.87,
          0.95,
          1.2,
          0.8,
          0.84,
          0.84,
          0.99,
          0.81,
          0.787,
          0.84,
          0.94,
          0.94,
          0.826,
          0.55,
          0.99,
          0.99,
          0.88,
          0.51,
          0.52,
          0.84,
          0.54,
          0.51,
          0.95,
          0.826,
          0.99,
          0.95,
          0.54,
          0.54,
          0.55,
          0.81,
          0.73,
          0.54,
          0.83,
          0.55,
          0.64,
          0.51,
          0.72,
          0.787,
          1.05,
          0.57,
          0.52,
          1.05,
          0.51,
          0.48,
          0.58,
          0.47,
          0.75,
          0.58,
          0.52,
          0.51,
          0.57,
          0.57,
          0.75,
          0.57,
          0.75,
          0.65,
          0.787,
          0.32,
          0.52,
          0.51,
          0.57,
          0.58,
          0.75,
          6.79,
          5.7,
          4.6,
          4.43,
          5.7,
          7.13,
          5.7,
          8.1,
          5.7,
          4.6,
          14.79,
          13.6,
          6.79,
          5.7,
          9.4,
          4.43,
          4.43,
          9.4,
          9.4,
          4.43,
          6.79,
          7.6,
          9.4,
          9.4,
          4.6,
          5.7,
          4.43,
          9.4,
          6.79,
          9.4,
          9.4,
          14.79,
          5.7,
          5.7,
          9.4,
          4.43,
          13.6,
          9.4,
          4.43,
          9.4,
          7.13,
          7.13,
          7.6,
          9.4,
          9.4,
          6.79,
          9.4,
          4.6,
          7.6,
          13.6,
          9.9,
          6.82,
          9.9,
          9.9,
          5.35,
          13.6,
          13.6,
          13.6,
          7,
          13.6,
          5.97,
          5.8,
          7.7,
          7,
          8.7,
          7,
          9.4,
          5.8,
          10,
          10,
          10,
          10,
          7.5,
          6.8,
          13.6,
          13.6,
          13.6,
          8.4,
          13.6,
          5.9,
          7.6,
          14,
          11.8,
          5.9,
          8.5,
          7.9,
          7.5,
          13.6,
          13.6,
          6.4,
          6.1,
          8.4,
          9.9,
          6.8,
          13.09,
          11.6,
          5.9,
          11,
          12.5,
          5.9
         ],
         "xaxis": "x",
         "yaxis": "y"
        }
       ],
       "layout": {
        "barmode": "relative",
        "legend": {
         "title": {
          "text": "Variable"
         },
         "tracegroupgap": 0
        },
        "template": {
         "data": {
          "bar": [
           {
            "error_x": {
             "color": "#2a3f5f"
            },
            "error_y": {
             "color": "#2a3f5f"
            },
            "marker": {
             "line": {
              "color": "#E5ECF6",
              "width": 0.5
             },
             "pattern": {
              "fillmode": "overlay",
              "size": 10,
              "solidity": 0.2
             }
            },
            "type": "bar"
           }
          ],
          "barpolar": [
           {
            "marker": {
             "line": {
              "color": "#E5ECF6",
              "width": 0.5
             },
             "pattern": {
              "fillmode": "overlay",
              "size": 10,
              "solidity": 0.2
             }
            },
            "type": "barpolar"
           }
          ],
          "carpet": [
           {
            "aaxis": {
             "endlinecolor": "#2a3f5f",
             "gridcolor": "white",
             "linecolor": "white",
             "minorgridcolor": "white",
             "startlinecolor": "#2a3f5f"
            },
            "baxis": {
             "endlinecolor": "#2a3f5f",
             "gridcolor": "white",
             "linecolor": "white",
             "minorgridcolor": "white",
             "startlinecolor": "#2a3f5f"
            },
            "type": "carpet"
           }
          ],
          "choropleth": [
           {
            "colorbar": {
             "outlinewidth": 0,
             "ticks": ""
            },
            "type": "choropleth"
           }
          ],
          "contour": [
           {
            "colorbar": {
             "outlinewidth": 0,
             "ticks": ""
            },
            "colorscale": [
             [
              0,
              "#0d0887"
             ],
             [
              0.1111111111111111,
              "#46039f"
             ],
             [
              0.2222222222222222,
              "#7201a8"
             ],
             [
              0.3333333333333333,
              "#9c179e"
             ],
             [
              0.4444444444444444,
              "#bd3786"
             ],
             [
              0.5555555555555556,
              "#d8576b"
             ],
             [
              0.6666666666666666,
              "#ed7953"
             ],
             [
              0.7777777777777778,
              "#fb9f3a"
             ],
             [
              0.8888888888888888,
              "#fdca26"
             ],
             [
              1,
              "#f0f921"
             ]
            ],
            "type": "contour"
           }
          ],
          "contourcarpet": [
           {
            "colorbar": {
             "outlinewidth": 0,
             "ticks": ""
            },
            "type": "contourcarpet"
           }
          ],
          "heatmap": [
           {
            "colorbar": {
             "outlinewidth": 0,
             "ticks": ""
            },
            "colorscale": [
             [
              0,
              "#0d0887"
             ],
             [
              0.1111111111111111,
              "#46039f"
             ],
             [
              0.2222222222222222,
              "#7201a8"
             ],
             [
              0.3333333333333333,
              "#9c179e"
             ],
             [
              0.4444444444444444,
              "#bd3786"
             ],
             [
              0.5555555555555556,
              "#d8576b"
             ],
             [
              0.6666666666666666,
              "#ed7953"
             ],
             [
              0.7777777777777778,
              "#fb9f3a"
             ],
             [
              0.8888888888888888,
              "#fdca26"
             ],
             [
              1,
              "#f0f921"
             ]
            ],
            "type": "heatmap"
           }
          ],
          "heatmapgl": [
           {
            "colorbar": {
             "outlinewidth": 0,
             "ticks": ""
            },
            "colorscale": [
             [
              0,
              "#0d0887"
             ],
             [
              0.1111111111111111,
              "#46039f"
             ],
             [
              0.2222222222222222,
              "#7201a8"
             ],
             [
              0.3333333333333333,
              "#9c179e"
             ],
             [
              0.4444444444444444,
              "#bd3786"
             ],
             [
              0.5555555555555556,
              "#d8576b"
             ],
             [
              0.6666666666666666,
              "#ed7953"
             ],
             [
              0.7777777777777778,
              "#fb9f3a"
             ],
             [
              0.8888888888888888,
              "#fdca26"
             ],
             [
              1,
              "#f0f921"
             ]
            ],
            "type": "heatmapgl"
           }
          ],
          "histogram": [
           {
            "marker": {
             "pattern": {
              "fillmode": "overlay",
              "size": 10,
              "solidity": 0.2
             }
            },
            "type": "histogram"
           }
          ],
          "histogram2d": [
           {
            "colorbar": {
             "outlinewidth": 0,
             "ticks": ""
            },
            "colorscale": [
             [
              0,
              "#0d0887"
             ],
             [
              0.1111111111111111,
              "#46039f"
             ],
             [
              0.2222222222222222,
              "#7201a8"
             ],
             [
              0.3333333333333333,
              "#9c179e"
             ],
             [
              0.4444444444444444,
              "#bd3786"
             ],
             [
              0.5555555555555556,
              "#d8576b"
             ],
             [
              0.6666666666666666,
              "#ed7953"
             ],
             [
              0.7777777777777778,
              "#fb9f3a"
             ],
             [
              0.8888888888888888,
              "#fdca26"
             ],
             [
              1,
              "#f0f921"
             ]
            ],
            "type": "histogram2d"
           }
          ],
          "histogram2dcontour": [
           {
            "colorbar": {
             "outlinewidth": 0,
             "ticks": ""
            },
            "colorscale": [
             [
              0,
              "#0d0887"
             ],
             [
              0.1111111111111111,
              "#46039f"
             ],
             [
              0.2222222222222222,
              "#7201a8"
             ],
             [
              0.3333333333333333,
              "#9c179e"
             ],
             [
              0.4444444444444444,
              "#bd3786"
             ],
             [
              0.5555555555555556,
              "#d8576b"
             ],
             [
              0.6666666666666666,
              "#ed7953"
             ],
             [
              0.7777777777777778,
              "#fb9f3a"
             ],
             [
              0.8888888888888888,
              "#fdca26"
             ],
             [
              1,
              "#f0f921"
             ]
            ],
            "type": "histogram2dcontour"
           }
          ],
          "mesh3d": [
           {
            "colorbar": {
             "outlinewidth": 0,
             "ticks": ""
            },
            "type": "mesh3d"
           }
          ],
          "parcoords": [
           {
            "line": {
             "colorbar": {
              "outlinewidth": 0,
              "ticks": ""
             }
            },
            "type": "parcoords"
           }
          ],
          "pie": [
           {
            "automargin": true,
            "type": "pie"
           }
          ],
          "scatter": [
           {
            "fillpattern": {
             "fillmode": "overlay",
             "size": 10,
             "solidity": 0.2
            },
            "type": "scatter"
           }
          ],
          "scatter3d": [
           {
            "line": {
             "colorbar": {
              "outlinewidth": 0,
              "ticks": ""
             }
            },
            "marker": {
             "colorbar": {
              "outlinewidth": 0,
              "ticks": ""
             }
            },
            "type": "scatter3d"
           }
          ],
          "scattercarpet": [
           {
            "marker": {
             "colorbar": {
              "outlinewidth": 0,
              "ticks": ""
             }
            },
            "type": "scattercarpet"
           }
          ],
          "scattergeo": [
           {
            "marker": {
             "colorbar": {
              "outlinewidth": 0,
              "ticks": ""
             }
            },
            "type": "scattergeo"
           }
          ],
          "scattergl": [
           {
            "marker": {
             "colorbar": {
              "outlinewidth": 0,
              "ticks": ""
             }
            },
            "type": "scattergl"
           }
          ],
          "scattermapbox": [
           {
            "marker": {
             "colorbar": {
              "outlinewidth": 0,
              "ticks": ""
             }
            },
            "type": "scattermapbox"
           }
          ],
          "scatterpolar": [
           {
            "marker": {
             "colorbar": {
              "outlinewidth": 0,
              "ticks": ""
             }
            },
            "type": "scatterpolar"
           }
          ],
          "scatterpolargl": [
           {
            "marker": {
             "colorbar": {
              "outlinewidth": 0,
              "ticks": ""
             }
            },
            "type": "scatterpolargl"
           }
          ],
          "scatterternary": [
           {
            "marker": {
             "colorbar": {
              "outlinewidth": 0,
              "ticks": ""
             }
            },
            "type": "scatterternary"
           }
          ],
          "surface": [
           {
            "colorbar": {
             "outlinewidth": 0,
             "ticks": ""
            },
            "colorscale": [
             [
              0,
              "#0d0887"
             ],
             [
              0.1111111111111111,
              "#46039f"
             ],
             [
              0.2222222222222222,
              "#7201a8"
             ],
             [
              0.3333333333333333,
              "#9c179e"
             ],
             [
              0.4444444444444444,
              "#bd3786"
             ],
             [
              0.5555555555555556,
              "#d8576b"
             ],
             [
              0.6666666666666666,
              "#ed7953"
             ],
             [
              0.7777777777777778,
              "#fb9f3a"
             ],
             [
              0.8888888888888888,
              "#fdca26"
             ],
             [
              1,
              "#f0f921"
             ]
            ],
            "type": "surface"
           }
          ],
          "table": [
           {
            "cells": {
             "fill": {
              "color": "#EBF0F8"
             },
             "line": {
              "color": "white"
             }
            },
            "header": {
             "fill": {
              "color": "#C8D4E3"
             },
             "line": {
              "color": "white"
             }
            },
            "type": "table"
           }
          ]
         },
         "layout": {
          "annotationdefaults": {
           "arrowcolor": "#2a3f5f",
           "arrowhead": 0,
           "arrowwidth": 1
          },
          "autotypenumbers": "strict",
          "coloraxis": {
           "colorbar": {
            "outlinewidth": 0,
            "ticks": ""
           }
          },
          "colorscale": {
           "diverging": [
            [
             0,
             "#8e0152"
            ],
            [
             0.1,
             "#c51b7d"
            ],
            [
             0.2,
             "#de77ae"
            ],
            [
             0.3,
             "#f1b6da"
            ],
            [
             0.4,
             "#fde0ef"
            ],
            [
             0.5,
             "#f7f7f7"
            ],
            [
             0.6,
             "#e6f5d0"
            ],
            [
             0.7,
             "#b8e186"
            ],
            [
             0.8,
             "#7fbc41"
            ],
            [
             0.9,
             "#4d9221"
            ],
            [
             1,
             "#276419"
            ]
           ],
           "sequential": [
            [
             0,
             "#0d0887"
            ],
            [
             0.1111111111111111,
             "#46039f"
            ],
            [
             0.2222222222222222,
             "#7201a8"
            ],
            [
             0.3333333333333333,
             "#9c179e"
            ],
            [
             0.4444444444444444,
             "#bd3786"
            ],
            [
             0.5555555555555556,
             "#d8576b"
            ],
            [
             0.6666666666666666,
             "#ed7953"
            ],
            [
             0.7777777777777778,
             "#fb9f3a"
            ],
            [
             0.8888888888888888,
             "#fdca26"
            ],
            [
             1,
             "#f0f921"
            ]
           ],
           "sequentialminus": [
            [
             0,
             "#0d0887"
            ],
            [
             0.1111111111111111,
             "#46039f"
            ],
            [
             0.2222222222222222,
             "#7201a8"
            ],
            [
             0.3333333333333333,
             "#9c179e"
            ],
            [
             0.4444444444444444,
             "#bd3786"
            ],
            [
             0.5555555555555556,
             "#d8576b"
            ],
            [
             0.6666666666666666,
             "#ed7953"
            ],
            [
             0.7777777777777778,
             "#fb9f3a"
            ],
            [
             0.8888888888888888,
             "#fdca26"
            ],
            [
             1,
             "#f0f921"
            ]
           ]
          },
          "colorway": [
           "#636efa",
           "#EF553B",
           "#00cc96",
           "#ab63fa",
           "#FFA15A",
           "#19d3f3",
           "#FF6692",
           "#B6E880",
           "#FF97FF",
           "#FECB52"
          ],
          "font": {
           "color": "#2a3f5f"
          },
          "geo": {
           "bgcolor": "white",
           "lakecolor": "white",
           "landcolor": "#E5ECF6",
           "showlakes": true,
           "showland": true,
           "subunitcolor": "white"
          },
          "hoverlabel": {
           "align": "left"
          },
          "hovermode": "closest",
          "mapbox": {
           "style": "light"
          },
          "paper_bgcolor": "white",
          "plot_bgcolor": "#E5ECF6",
          "polar": {
           "angularaxis": {
            "gridcolor": "white",
            "linecolor": "white",
            "ticks": ""
           },
           "bgcolor": "#E5ECF6",
           "radialaxis": {
            "gridcolor": "white",
            "linecolor": "white",
            "ticks": ""
           }
          },
          "scene": {
           "xaxis": {
            "backgroundcolor": "#E5ECF6",
            "gridcolor": "white",
            "gridwidth": 2,
            "linecolor": "white",
            "showbackground": true,
            "ticks": "",
            "zerolinecolor": "white"
           },
           "yaxis": {
            "backgroundcolor": "#E5ECF6",
            "gridcolor": "white",
            "gridwidth": 2,
            "linecolor": "white",
            "showbackground": true,
            "ticks": "",
            "zerolinecolor": "white"
           },
           "zaxis": {
            "backgroundcolor": "#E5ECF6",
            "gridcolor": "white",
            "gridwidth": 2,
            "linecolor": "white",
            "showbackground": true,
            "ticks": "",
            "zerolinecolor": "white"
           }
          },
          "shapedefaults": {
           "line": {
            "color": "#2a3f5f"
           }
          },
          "ternary": {
           "aaxis": {
            "gridcolor": "white",
            "linecolor": "white",
            "ticks": ""
           },
           "baxis": {
            "gridcolor": "white",
            "linecolor": "white",
            "ticks": ""
           },
           "bgcolor": "#E5ECF6",
           "caxis": {
            "gridcolor": "white",
            "linecolor": "white",
            "ticks": ""
           }
          },
          "title": {
           "x": 0.05
          },
          "xaxis": {
           "automargin": true,
           "gridcolor": "white",
           "linecolor": "white",
           "ticks": "",
           "title": {
            "standoff": 15
           },
           "zerolinecolor": "white",
           "zerolinewidth": 2
          },
          "yaxis": {
           "automargin": true,
           "gridcolor": "white",
           "linecolor": "white",
           "ticks": "",
           "title": {
            "standoff": 15
           },
           "zerolinecolor": "white",
           "zerolinewidth": 2
          }
         }
        },
        "title": {
         "text": "Distribution of Selling Prices and Present Prices"
        },
        "xaxis": {
         "anchor": "y",
         "domain": [
          0,
          1
         ],
         "title": {
          "text": "Price"
         }
        },
        "yaxis": {
         "anchor": "x",
         "domain": [
          0,
          1
         ],
         "title": {
          "text": "Frequency"
         }
        }
       }
      }
     },
     "metadata": {},
     "output_type": "display_data"
    },
    {
     "data": {
      "application/vnd.plotly.v1+json": {
       "config": {
        "plotlyServerURL": "https://plot.ly"
       },
       "data": [
        {
         "alignmentgroup": "True",
         "hovertemplate": "Variable=%{x}<br>Price=%{y}<extra></extra>",
         "legendgroup": "",
         "marker": {
          "color": "#87CEFA"
         },
         "name": "",
         "notched": false,
         "offsetgroup": "",
         "orientation": "v",
         "showlegend": false,
         "type": "box",
         "x": [
          "Selling_Price",
          "Selling_Price",
          "Selling_Price",
          "Selling_Price",
          "Selling_Price",
          "Selling_Price",
          "Selling_Price",
          "Selling_Price",
          "Selling_Price",
          "Selling_Price",
          "Selling_Price",
          "Selling_Price",
          "Selling_Price",
          "Selling_Price",
          "Selling_Price",
          "Selling_Price",
          "Selling_Price",
          "Selling_Price",
          "Selling_Price",
          "Selling_Price",
          "Selling_Price",
          "Selling_Price",
          "Selling_Price",
          "Selling_Price",
          "Selling_Price",
          "Selling_Price",
          "Selling_Price",
          "Selling_Price",
          "Selling_Price",
          "Selling_Price",
          "Selling_Price",
          "Selling_Price",
          "Selling_Price",
          "Selling_Price",
          "Selling_Price",
          "Selling_Price",
          "Selling_Price",
          "Selling_Price",
          "Selling_Price",
          "Selling_Price",
          "Selling_Price",
          "Selling_Price",
          "Selling_Price",
          "Selling_Price",
          "Selling_Price",
          "Selling_Price",
          "Selling_Price",
          "Selling_Price",
          "Selling_Price",
          "Selling_Price",
          "Selling_Price",
          "Selling_Price",
          "Selling_Price",
          "Selling_Price",
          "Selling_Price",
          "Selling_Price",
          "Selling_Price",
          "Selling_Price",
          "Selling_Price",
          "Selling_Price",
          "Selling_Price",
          "Selling_Price",
          "Selling_Price",
          "Selling_Price",
          "Selling_Price",
          "Selling_Price",
          "Selling_Price",
          "Selling_Price",
          "Selling_Price",
          "Selling_Price",
          "Selling_Price",
          "Selling_Price",
          "Selling_Price",
          "Selling_Price",
          "Selling_Price",
          "Selling_Price",
          "Selling_Price",
          "Selling_Price",
          "Selling_Price",
          "Selling_Price",
          "Selling_Price",
          "Selling_Price",
          "Selling_Price",
          "Selling_Price",
          "Selling_Price",
          "Selling_Price",
          "Selling_Price",
          "Selling_Price",
          "Selling_Price",
          "Selling_Price",
          "Selling_Price",
          "Selling_Price",
          "Selling_Price",
          "Selling_Price",
          "Selling_Price",
          "Selling_Price",
          "Selling_Price",
          "Selling_Price",
          "Selling_Price",
          "Selling_Price",
          "Selling_Price",
          "Selling_Price",
          "Selling_Price",
          "Selling_Price",
          "Selling_Price",
          "Selling_Price",
          "Selling_Price",
          "Selling_Price",
          "Selling_Price",
          "Selling_Price",
          "Selling_Price",
          "Selling_Price",
          "Selling_Price",
          "Selling_Price",
          "Selling_Price",
          "Selling_Price",
          "Selling_Price",
          "Selling_Price",
          "Selling_Price",
          "Selling_Price",
          "Selling_Price",
          "Selling_Price",
          "Selling_Price",
          "Selling_Price",
          "Selling_Price",
          "Selling_Price",
          "Selling_Price",
          "Selling_Price",
          "Selling_Price",
          "Selling_Price",
          "Selling_Price",
          "Selling_Price",
          "Selling_Price",
          "Selling_Price",
          "Selling_Price",
          "Selling_Price",
          "Selling_Price",
          "Selling_Price",
          "Selling_Price",
          "Selling_Price",
          "Selling_Price",
          "Selling_Price",
          "Selling_Price",
          "Selling_Price",
          "Selling_Price",
          "Selling_Price",
          "Selling_Price",
          "Selling_Price",
          "Selling_Price",
          "Selling_Price",
          "Selling_Price",
          "Selling_Price",
          "Selling_Price",
          "Selling_Price",
          "Selling_Price",
          "Selling_Price",
          "Selling_Price",
          "Selling_Price",
          "Selling_Price",
          "Selling_Price",
          "Selling_Price",
          "Selling_Price",
          "Selling_Price",
          "Selling_Price",
          "Selling_Price",
          "Selling_Price",
          "Selling_Price",
          "Selling_Price",
          "Selling_Price",
          "Selling_Price",
          "Selling_Price",
          "Selling_Price",
          "Selling_Price",
          "Selling_Price",
          "Selling_Price",
          "Selling_Price",
          "Selling_Price",
          "Selling_Price",
          "Selling_Price",
          "Selling_Price",
          "Selling_Price",
          "Selling_Price",
          "Selling_Price",
          "Selling_Price",
          "Selling_Price",
          "Selling_Price",
          "Selling_Price",
          "Selling_Price",
          "Selling_Price",
          "Selling_Price",
          "Selling_Price",
          "Selling_Price",
          "Selling_Price",
          "Selling_Price",
          "Selling_Price",
          "Selling_Price",
          "Selling_Price",
          "Selling_Price",
          "Selling_Price",
          "Selling_Price",
          "Selling_Price",
          "Selling_Price",
          "Selling_Price",
          "Selling_Price",
          "Selling_Price",
          "Selling_Price",
          "Selling_Price",
          "Selling_Price",
          "Selling_Price",
          "Selling_Price",
          "Selling_Price",
          "Selling_Price",
          "Selling_Price",
          "Selling_Price",
          "Selling_Price",
          "Selling_Price",
          "Selling_Price",
          "Selling_Price",
          "Selling_Price",
          "Selling_Price",
          "Selling_Price",
          "Selling_Price",
          "Selling_Price",
          "Selling_Price",
          "Selling_Price",
          "Selling_Price",
          "Selling_Price",
          "Selling_Price",
          "Selling_Price",
          "Selling_Price",
          "Selling_Price",
          "Selling_Price",
          "Selling_Price",
          "Selling_Price",
          "Selling_Price",
          "Selling_Price",
          "Selling_Price",
          "Selling_Price",
          "Selling_Price",
          "Selling_Price",
          "Selling_Price",
          "Selling_Price",
          "Selling_Price",
          "Selling_Price",
          "Selling_Price",
          "Selling_Price",
          "Selling_Price",
          "Selling_Price",
          "Selling_Price",
          "Selling_Price",
          "Selling_Price",
          "Selling_Price",
          "Selling_Price",
          "Selling_Price",
          "Selling_Price",
          "Selling_Price",
          "Selling_Price",
          "Selling_Price",
          "Selling_Price",
          "Selling_Price",
          "Selling_Price",
          "Selling_Price",
          "Selling_Price",
          "Selling_Price",
          "Selling_Price",
          "Selling_Price",
          "Selling_Price",
          "Selling_Price",
          "Selling_Price",
          "Selling_Price",
          "Selling_Price",
          "Selling_Price",
          "Selling_Price",
          "Selling_Price",
          "Selling_Price",
          "Selling_Price",
          "Selling_Price",
          "Selling_Price",
          "Selling_Price",
          "Selling_Price",
          "Selling_Price",
          "Selling_Price",
          "Selling_Price",
          "Selling_Price",
          "Selling_Price",
          "Selling_Price",
          "Selling_Price",
          "Selling_Price",
          "Selling_Price",
          "Selling_Price",
          "Selling_Price",
          "Selling_Price",
          "Selling_Price",
          "Selling_Price",
          "Selling_Price",
          "Selling_Price",
          "Selling_Price",
          "Selling_Price",
          "Selling_Price",
          "Selling_Price",
          "Selling_Price",
          "Present_Price",
          "Present_Price",
          "Present_Price",
          "Present_Price",
          "Present_Price",
          "Present_Price",
          "Present_Price",
          "Present_Price",
          "Present_Price",
          "Present_Price",
          "Present_Price",
          "Present_Price",
          "Present_Price",
          "Present_Price",
          "Present_Price",
          "Present_Price",
          "Present_Price",
          "Present_Price",
          "Present_Price",
          "Present_Price",
          "Present_Price",
          "Present_Price",
          "Present_Price",
          "Present_Price",
          "Present_Price",
          "Present_Price",
          "Present_Price",
          "Present_Price",
          "Present_Price",
          "Present_Price",
          "Present_Price",
          "Present_Price",
          "Present_Price",
          "Present_Price",
          "Present_Price",
          "Present_Price",
          "Present_Price",
          "Present_Price",
          "Present_Price",
          "Present_Price",
          "Present_Price",
          "Present_Price",
          "Present_Price",
          "Present_Price",
          "Present_Price",
          "Present_Price",
          "Present_Price",
          "Present_Price",
          "Present_Price",
          "Present_Price",
          "Present_Price",
          "Present_Price",
          "Present_Price",
          "Present_Price",
          "Present_Price",
          "Present_Price",
          "Present_Price",
          "Present_Price",
          "Present_Price",
          "Present_Price",
          "Present_Price",
          "Present_Price",
          "Present_Price",
          "Present_Price",
          "Present_Price",
          "Present_Price",
          "Present_Price",
          "Present_Price",
          "Present_Price",
          "Present_Price",
          "Present_Price",
          "Present_Price",
          "Present_Price",
          "Present_Price",
          "Present_Price",
          "Present_Price",
          "Present_Price",
          "Present_Price",
          "Present_Price",
          "Present_Price",
          "Present_Price",
          "Present_Price",
          "Present_Price",
          "Present_Price",
          "Present_Price",
          "Present_Price",
          "Present_Price",
          "Present_Price",
          "Present_Price",
          "Present_Price",
          "Present_Price",
          "Present_Price",
          "Present_Price",
          "Present_Price",
          "Present_Price",
          "Present_Price",
          "Present_Price",
          "Present_Price",
          "Present_Price",
          "Present_Price",
          "Present_Price",
          "Present_Price",
          "Present_Price",
          "Present_Price",
          "Present_Price",
          "Present_Price",
          "Present_Price",
          "Present_Price",
          "Present_Price",
          "Present_Price",
          "Present_Price",
          "Present_Price",
          "Present_Price",
          "Present_Price",
          "Present_Price",
          "Present_Price",
          "Present_Price",
          "Present_Price",
          "Present_Price",
          "Present_Price",
          "Present_Price",
          "Present_Price",
          "Present_Price",
          "Present_Price",
          "Present_Price",
          "Present_Price",
          "Present_Price",
          "Present_Price",
          "Present_Price",
          "Present_Price",
          "Present_Price",
          "Present_Price",
          "Present_Price",
          "Present_Price",
          "Present_Price",
          "Present_Price",
          "Present_Price",
          "Present_Price",
          "Present_Price",
          "Present_Price",
          "Present_Price",
          "Present_Price",
          "Present_Price",
          "Present_Price",
          "Present_Price",
          "Present_Price",
          "Present_Price",
          "Present_Price",
          "Present_Price",
          "Present_Price",
          "Present_Price",
          "Present_Price",
          "Present_Price",
          "Present_Price",
          "Present_Price",
          "Present_Price",
          "Present_Price",
          "Present_Price",
          "Present_Price",
          "Present_Price",
          "Present_Price",
          "Present_Price",
          "Present_Price",
          "Present_Price",
          "Present_Price",
          "Present_Price",
          "Present_Price",
          "Present_Price",
          "Present_Price",
          "Present_Price",
          "Present_Price",
          "Present_Price",
          "Present_Price",
          "Present_Price",
          "Present_Price",
          "Present_Price",
          "Present_Price",
          "Present_Price",
          "Present_Price",
          "Present_Price",
          "Present_Price",
          "Present_Price",
          "Present_Price",
          "Present_Price",
          "Present_Price",
          "Present_Price",
          "Present_Price",
          "Present_Price",
          "Present_Price",
          "Present_Price",
          "Present_Price",
          "Present_Price",
          "Present_Price",
          "Present_Price",
          "Present_Price",
          "Present_Price",
          "Present_Price",
          "Present_Price",
          "Present_Price",
          "Present_Price",
          "Present_Price",
          "Present_Price",
          "Present_Price",
          "Present_Price",
          "Present_Price",
          "Present_Price",
          "Present_Price",
          "Present_Price",
          "Present_Price",
          "Present_Price",
          "Present_Price",
          "Present_Price",
          "Present_Price",
          "Present_Price",
          "Present_Price",
          "Present_Price",
          "Present_Price",
          "Present_Price",
          "Present_Price",
          "Present_Price",
          "Present_Price",
          "Present_Price",
          "Present_Price",
          "Present_Price",
          "Present_Price",
          "Present_Price",
          "Present_Price",
          "Present_Price",
          "Present_Price",
          "Present_Price",
          "Present_Price",
          "Present_Price",
          "Present_Price",
          "Present_Price",
          "Present_Price",
          "Present_Price",
          "Present_Price",
          "Present_Price",
          "Present_Price",
          "Present_Price",
          "Present_Price",
          "Present_Price",
          "Present_Price",
          "Present_Price",
          "Present_Price",
          "Present_Price",
          "Present_Price",
          "Present_Price",
          "Present_Price",
          "Present_Price",
          "Present_Price",
          "Present_Price",
          "Present_Price",
          "Present_Price",
          "Present_Price",
          "Present_Price",
          "Present_Price",
          "Present_Price",
          "Present_Price",
          "Present_Price",
          "Present_Price",
          "Present_Price",
          "Present_Price",
          "Present_Price",
          "Present_Price",
          "Present_Price",
          "Present_Price",
          "Present_Price",
          "Present_Price",
          "Present_Price",
          "Present_Price",
          "Present_Price",
          "Present_Price",
          "Present_Price",
          "Present_Price",
          "Present_Price",
          "Present_Price",
          "Present_Price",
          "Present_Price",
          "Present_Price",
          "Present_Price",
          "Present_Price",
          "Present_Price",
          "Present_Price",
          "Present_Price",
          "Present_Price",
          "Present_Price",
          "Present_Price",
          "Present_Price",
          "Present_Price",
          "Present_Price",
          "Present_Price",
          "Present_Price",
          "Present_Price",
          "Present_Price",
          "Present_Price",
          "Present_Price",
          "Present_Price",
          "Present_Price",
          "Present_Price",
          "Present_Price"
         ],
         "x0": " ",
         "xaxis": "x",
         "y": [
          3.35,
          4.75,
          7.25,
          2.85,
          4.6,
          9.25,
          6.75,
          6.5,
          8.75,
          7.45,
          2.85,
          6.85,
          7.5,
          6.1,
          2.25,
          7.75,
          7.25,
          7.75,
          3.25,
          2.65,
          2.85,
          4.9,
          4.4,
          2.5,
          2.9,
          3,
          4.15,
          6,
          1.95,
          7.45,
          3.1,
          2.35,
          4.95,
          6,
          5.5,
          2.95,
          4.65,
          0.35,
          3,
          2.25,
          5.85,
          2.55,
          1.95,
          5.5,
          1.25,
          7.5,
          2.65,
          1.05,
          5.8,
          7.75,
          14.9,
          23,
          18,
          16,
          2.75,
          3.6,
          4.5,
          4.75,
          4.1,
          19.99,
          6.95,
          4.5,
          18.75,
          23.5,
          33,
          4.75,
          19.75,
          9.25,
          4.35,
          14.25,
          3.95,
          4.5,
          7.45,
          2.65,
          4.9,
          3.95,
          5.5,
          1.5,
          5.25,
          14.5,
          14.73,
          4.75,
          23,
          12.5,
          3.49,
          2.5,
          35,
          5.9,
          3.45,
          4.75,
          3.8,
          11.25,
          3.51,
          23,
          4,
          5.85,
          20.75,
          17,
          7.05,
          9.65,
          1.75,
          1.7,
          1.65,
          1.45,
          1.35,
          1.35,
          1.35,
          1.25,
          1.2,
          1.2,
          1.2,
          1.15,
          1.15,
          1.15,
          1.15,
          1.11,
          1.1,
          1.1,
          1.1,
          1.05,
          1.05,
          1.05,
          1.05,
          1,
          0.95,
          0.9,
          0.9,
          0.75,
          0.8,
          0.78,
          0.75,
          0.75,
          0.75,
          0.72,
          0.65,
          0.65,
          0.65,
          0.65,
          0.6,
          0.6,
          0.6,
          0.6,
          0.6,
          0.6,
          0.6,
          0.6,
          0.55,
          0.55,
          0.52,
          0.51,
          0.5,
          0.5,
          0.5,
          0.5,
          0.5,
          0.48,
          0.48,
          0.48,
          0.48,
          0.45,
          0.45,
          0.45,
          0.45,
          0.45,
          0.45,
          0.45,
          0.45,
          0.42,
          0.42,
          0.4,
          0.4,
          0.4,
          0.4,
          0.4,
          0.38,
          0.38,
          0.35,
          0.35,
          0.35,
          0.31,
          0.3,
          0.3,
          0.3,
          0.27,
          0.25,
          0.25,
          0.25,
          0.25,
          0.25,
          0.2,
          0.2,
          0.2,
          0.2,
          0.2,
          0.2,
          0.18,
          0.17,
          0.16,
          0.15,
          0.12,
          0.1,
          3.25,
          4.4,
          2.95,
          2.75,
          5.25,
          5.75,
          5.15,
          7.9,
          4.85,
          3.1,
          11.75,
          11.25,
          2.9,
          5.25,
          4.5,
          2.9,
          3.15,
          6.45,
          4.5,
          3.5,
          4.5,
          6,
          8.25,
          5.11,
          2.7,
          5.25,
          2.55,
          4.95,
          3.1,
          6.15,
          9.25,
          11.45,
          3.9,
          5.5,
          9.1,
          3.1,
          11.25,
          4.8,
          2,
          5.35,
          4.75,
          4.4,
          6.25,
          5.95,
          5.2,
          3.75,
          5.95,
          4,
          5.25,
          12.9,
          5,
          5.4,
          7.2,
          5.25,
          3,
          10.25,
          8.5,
          8.4,
          3.9,
          9.15,
          5.5,
          4,
          6.6,
          4,
          6.5,
          3.65,
          8.35,
          4.8,
          6.7,
          4.1,
          3,
          7.5,
          2.25,
          5.3,
          10.9,
          8.65,
          9.7,
          6,
          6.25,
          5.25,
          2.1,
          8.25,
          8.99,
          3.5,
          7.4,
          5.65,
          5.75,
          8.4,
          10.11,
          4.5,
          5.4,
          6.4,
          3.25,
          3.75,
          8.55,
          9.5,
          4,
          3.35,
          11.5,
          5.3,
          5.59,
          9.54,
          9.85,
          4.15,
          6.87,
          9.83,
          8.12,
          8.61,
          8.89,
          8.92,
          3.6,
          10.38,
          9.94,
          7.71,
          7.21,
          10.79,
          10.79,
          10.79,
          5.09,
          7.98,
          3.95,
          5.71,
          8.01,
          3.46,
          4.41,
          4.99,
          5.87,
          6.49,
          3.95,
          10.38,
          5.98,
          4.89,
          7.49,
          9.95,
          8.06,
          7.74,
          7.2,
          2.28,
          3.76,
          7.98,
          7.87,
          3.98,
          7.15,
          8.06,
          2.69,
          12.04,
          4.89,
          4.15,
          7.71,
          9.29,
          30.61,
          30.61,
          19.77,
          30.61,
          10.21,
          15.04,
          7.27,
          18.54,
          6.8,
          35.96,
          18.61,
          7.7,
          35.96,
          35.96,
          36.23,
          6.95,
          23.15,
          20.45,
          13.74,
          20.91,
          6.76,
          12.48,
          18.61,
          5.71,
          8.93,
          6.8,
          14.68,
          12.35,
          22.83,
          30.61,
          14.89,
          7.85,
          25.39,
          13.46,
          13.46,
          23.73,
          92.6,
          13.74,
          6.05,
          6.76,
          18.61,
          16.09,
          13.7,
          30.61,
          22.78,
          18.61,
          25.39,
          18.64,
          18.61,
          20.45,
          1.9,
          1.82,
          1.78,
          1.6,
          1.47,
          2.37,
          3.45,
          1.5,
          1.5,
          1.47,
          1.78,
          1.5,
          2.4,
          1.4,
          1.47,
          1.47,
          1.47,
          1.9,
          1.47,
          1.9,
          1.26,
          1.5,
          1.17,
          1.47,
          1.75,
          1.75,
          0.95,
          0.8,
          0.87,
          0.84,
          0.87,
          0.82,
          0.95,
          0.95,
          0.81,
          0.74,
          1.2,
          0.787,
          0.87,
          0.95,
          1.2,
          0.8,
          0.84,
          0.84,
          0.99,
          0.81,
          0.787,
          0.84,
          0.94,
          0.94,
          0.826,
          0.55,
          0.99,
          0.99,
          0.88,
          0.51,
          0.52,
          0.84,
          0.54,
          0.51,
          0.95,
          0.826,
          0.99,
          0.95,
          0.54,
          0.54,
          0.55,
          0.81,
          0.73,
          0.54,
          0.83,
          0.55,
          0.64,
          0.51,
          0.72,
          0.787,
          1.05,
          0.57,
          0.52,
          1.05,
          0.51,
          0.48,
          0.58,
          0.47,
          0.75,
          0.58,
          0.52,
          0.51,
          0.57,
          0.57,
          0.75,
          0.57,
          0.75,
          0.65,
          0.787,
          0.32,
          0.52,
          0.51,
          0.57,
          0.58,
          0.75,
          6.79,
          5.7,
          4.6,
          4.43,
          5.7,
          7.13,
          5.7,
          8.1,
          5.7,
          4.6,
          14.79,
          13.6,
          6.79,
          5.7,
          9.4,
          4.43,
          4.43,
          9.4,
          9.4,
          4.43,
          6.79,
          7.6,
          9.4,
          9.4,
          4.6,
          5.7,
          4.43,
          9.4,
          6.79,
          9.4,
          9.4,
          14.79,
          5.7,
          5.7,
          9.4,
          4.43,
          13.6,
          9.4,
          4.43,
          9.4,
          7.13,
          7.13,
          7.6,
          9.4,
          9.4,
          6.79,
          9.4,
          4.6,
          7.6,
          13.6,
          9.9,
          6.82,
          9.9,
          9.9,
          5.35,
          13.6,
          13.6,
          13.6,
          7,
          13.6,
          5.97,
          5.8,
          7.7,
          7,
          8.7,
          7,
          9.4,
          5.8,
          10,
          10,
          10,
          10,
          7.5,
          6.8,
          13.6,
          13.6,
          13.6,
          8.4,
          13.6,
          5.9,
          7.6,
          14,
          11.8,
          5.9,
          8.5,
          7.9,
          7.5,
          13.6,
          13.6,
          6.4,
          6.1,
          8.4,
          9.9,
          6.8,
          13.09,
          11.6,
          5.9,
          11,
          12.5,
          5.9
         ],
         "y0": " ",
         "yaxis": "y"
        }
       ],
       "layout": {
        "boxmode": "group",
        "legend": {
         "tracegroupgap": 0
        },
        "template": {
         "data": {
          "bar": [
           {
            "error_x": {
             "color": "#2a3f5f"
            },
            "error_y": {
             "color": "#2a3f5f"
            },
            "marker": {
             "line": {
              "color": "#E5ECF6",
              "width": 0.5
             },
             "pattern": {
              "fillmode": "overlay",
              "size": 10,
              "solidity": 0.2
             }
            },
            "type": "bar"
           }
          ],
          "barpolar": [
           {
            "marker": {
             "line": {
              "color": "#E5ECF6",
              "width": 0.5
             },
             "pattern": {
              "fillmode": "overlay",
              "size": 10,
              "solidity": 0.2
             }
            },
            "type": "barpolar"
           }
          ],
          "carpet": [
           {
            "aaxis": {
             "endlinecolor": "#2a3f5f",
             "gridcolor": "white",
             "linecolor": "white",
             "minorgridcolor": "white",
             "startlinecolor": "#2a3f5f"
            },
            "baxis": {
             "endlinecolor": "#2a3f5f",
             "gridcolor": "white",
             "linecolor": "white",
             "minorgridcolor": "white",
             "startlinecolor": "#2a3f5f"
            },
            "type": "carpet"
           }
          ],
          "choropleth": [
           {
            "colorbar": {
             "outlinewidth": 0,
             "ticks": ""
            },
            "type": "choropleth"
           }
          ],
          "contour": [
           {
            "colorbar": {
             "outlinewidth": 0,
             "ticks": ""
            },
            "colorscale": [
             [
              0,
              "#0d0887"
             ],
             [
              0.1111111111111111,
              "#46039f"
             ],
             [
              0.2222222222222222,
              "#7201a8"
             ],
             [
              0.3333333333333333,
              "#9c179e"
             ],
             [
              0.4444444444444444,
              "#bd3786"
             ],
             [
              0.5555555555555556,
              "#d8576b"
             ],
             [
              0.6666666666666666,
              "#ed7953"
             ],
             [
              0.7777777777777778,
              "#fb9f3a"
             ],
             [
              0.8888888888888888,
              "#fdca26"
             ],
             [
              1,
              "#f0f921"
             ]
            ],
            "type": "contour"
           }
          ],
          "contourcarpet": [
           {
            "colorbar": {
             "outlinewidth": 0,
             "ticks": ""
            },
            "type": "contourcarpet"
           }
          ],
          "heatmap": [
           {
            "colorbar": {
             "outlinewidth": 0,
             "ticks": ""
            },
            "colorscale": [
             [
              0,
              "#0d0887"
             ],
             [
              0.1111111111111111,
              "#46039f"
             ],
             [
              0.2222222222222222,
              "#7201a8"
             ],
             [
              0.3333333333333333,
              "#9c179e"
             ],
             [
              0.4444444444444444,
              "#bd3786"
             ],
             [
              0.5555555555555556,
              "#d8576b"
             ],
             [
              0.6666666666666666,
              "#ed7953"
             ],
             [
              0.7777777777777778,
              "#fb9f3a"
             ],
             [
              0.8888888888888888,
              "#fdca26"
             ],
             [
              1,
              "#f0f921"
             ]
            ],
            "type": "heatmap"
           }
          ],
          "heatmapgl": [
           {
            "colorbar": {
             "outlinewidth": 0,
             "ticks": ""
            },
            "colorscale": [
             [
              0,
              "#0d0887"
             ],
             [
              0.1111111111111111,
              "#46039f"
             ],
             [
              0.2222222222222222,
              "#7201a8"
             ],
             [
              0.3333333333333333,
              "#9c179e"
             ],
             [
              0.4444444444444444,
              "#bd3786"
             ],
             [
              0.5555555555555556,
              "#d8576b"
             ],
             [
              0.6666666666666666,
              "#ed7953"
             ],
             [
              0.7777777777777778,
              "#fb9f3a"
             ],
             [
              0.8888888888888888,
              "#fdca26"
             ],
             [
              1,
              "#f0f921"
             ]
            ],
            "type": "heatmapgl"
           }
          ],
          "histogram": [
           {
            "marker": {
             "pattern": {
              "fillmode": "overlay",
              "size": 10,
              "solidity": 0.2
             }
            },
            "type": "histogram"
           }
          ],
          "histogram2d": [
           {
            "colorbar": {
             "outlinewidth": 0,
             "ticks": ""
            },
            "colorscale": [
             [
              0,
              "#0d0887"
             ],
             [
              0.1111111111111111,
              "#46039f"
             ],
             [
              0.2222222222222222,
              "#7201a8"
             ],
             [
              0.3333333333333333,
              "#9c179e"
             ],
             [
              0.4444444444444444,
              "#bd3786"
             ],
             [
              0.5555555555555556,
              "#d8576b"
             ],
             [
              0.6666666666666666,
              "#ed7953"
             ],
             [
              0.7777777777777778,
              "#fb9f3a"
             ],
             [
              0.8888888888888888,
              "#fdca26"
             ],
             [
              1,
              "#f0f921"
             ]
            ],
            "type": "histogram2d"
           }
          ],
          "histogram2dcontour": [
           {
            "colorbar": {
             "outlinewidth": 0,
             "ticks": ""
            },
            "colorscale": [
             [
              0,
              "#0d0887"
             ],
             [
              0.1111111111111111,
              "#46039f"
             ],
             [
              0.2222222222222222,
              "#7201a8"
             ],
             [
              0.3333333333333333,
              "#9c179e"
             ],
             [
              0.4444444444444444,
              "#bd3786"
             ],
             [
              0.5555555555555556,
              "#d8576b"
             ],
             [
              0.6666666666666666,
              "#ed7953"
             ],
             [
              0.7777777777777778,
              "#fb9f3a"
             ],
             [
              0.8888888888888888,
              "#fdca26"
             ],
             [
              1,
              "#f0f921"
             ]
            ],
            "type": "histogram2dcontour"
           }
          ],
          "mesh3d": [
           {
            "colorbar": {
             "outlinewidth": 0,
             "ticks": ""
            },
            "type": "mesh3d"
           }
          ],
          "parcoords": [
           {
            "line": {
             "colorbar": {
              "outlinewidth": 0,
              "ticks": ""
             }
            },
            "type": "parcoords"
           }
          ],
          "pie": [
           {
            "automargin": true,
            "type": "pie"
           }
          ],
          "scatter": [
           {
            "fillpattern": {
             "fillmode": "overlay",
             "size": 10,
             "solidity": 0.2
            },
            "type": "scatter"
           }
          ],
          "scatter3d": [
           {
            "line": {
             "colorbar": {
              "outlinewidth": 0,
              "ticks": ""
             }
            },
            "marker": {
             "colorbar": {
              "outlinewidth": 0,
              "ticks": ""
             }
            },
            "type": "scatter3d"
           }
          ],
          "scattercarpet": [
           {
            "marker": {
             "colorbar": {
              "outlinewidth": 0,
              "ticks": ""
             }
            },
            "type": "scattercarpet"
           }
          ],
          "scattergeo": [
           {
            "marker": {
             "colorbar": {
              "outlinewidth": 0,
              "ticks": ""
             }
            },
            "type": "scattergeo"
           }
          ],
          "scattergl": [
           {
            "marker": {
             "colorbar": {
              "outlinewidth": 0,
              "ticks": ""
             }
            },
            "type": "scattergl"
           }
          ],
          "scattermapbox": [
           {
            "marker": {
             "colorbar": {
              "outlinewidth": 0,
              "ticks": ""
             }
            },
            "type": "scattermapbox"
           }
          ],
          "scatterpolar": [
           {
            "marker": {
             "colorbar": {
              "outlinewidth": 0,
              "ticks": ""
             }
            },
            "type": "scatterpolar"
           }
          ],
          "scatterpolargl": [
           {
            "marker": {
             "colorbar": {
              "outlinewidth": 0,
              "ticks": ""
             }
            },
            "type": "scatterpolargl"
           }
          ],
          "scatterternary": [
           {
            "marker": {
             "colorbar": {
              "outlinewidth": 0,
              "ticks": ""
             }
            },
            "type": "scatterternary"
           }
          ],
          "surface": [
           {
            "colorbar": {
             "outlinewidth": 0,
             "ticks": ""
            },
            "colorscale": [
             [
              0,
              "#0d0887"
             ],
             [
              0.1111111111111111,
              "#46039f"
             ],
             [
              0.2222222222222222,
              "#7201a8"
             ],
             [
              0.3333333333333333,
              "#9c179e"
             ],
             [
              0.4444444444444444,
              "#bd3786"
             ],
             [
              0.5555555555555556,
              "#d8576b"
             ],
             [
              0.6666666666666666,
              "#ed7953"
             ],
             [
              0.7777777777777778,
              "#fb9f3a"
             ],
             [
              0.8888888888888888,
              "#fdca26"
             ],
             [
              1,
              "#f0f921"
             ]
            ],
            "type": "surface"
           }
          ],
          "table": [
           {
            "cells": {
             "fill": {
              "color": "#EBF0F8"
             },
             "line": {
              "color": "white"
             }
            },
            "header": {
             "fill": {
              "color": "#C8D4E3"
             },
             "line": {
              "color": "white"
             }
            },
            "type": "table"
           }
          ]
         },
         "layout": {
          "annotationdefaults": {
           "arrowcolor": "#2a3f5f",
           "arrowhead": 0,
           "arrowwidth": 1
          },
          "autotypenumbers": "strict",
          "coloraxis": {
           "colorbar": {
            "outlinewidth": 0,
            "ticks": ""
           }
          },
          "colorscale": {
           "diverging": [
            [
             0,
             "#8e0152"
            ],
            [
             0.1,
             "#c51b7d"
            ],
            [
             0.2,
             "#de77ae"
            ],
            [
             0.3,
             "#f1b6da"
            ],
            [
             0.4,
             "#fde0ef"
            ],
            [
             0.5,
             "#f7f7f7"
            ],
            [
             0.6,
             "#e6f5d0"
            ],
            [
             0.7,
             "#b8e186"
            ],
            [
             0.8,
             "#7fbc41"
            ],
            [
             0.9,
             "#4d9221"
            ],
            [
             1,
             "#276419"
            ]
           ],
           "sequential": [
            [
             0,
             "#0d0887"
            ],
            [
             0.1111111111111111,
             "#46039f"
            ],
            [
             0.2222222222222222,
             "#7201a8"
            ],
            [
             0.3333333333333333,
             "#9c179e"
            ],
            [
             0.4444444444444444,
             "#bd3786"
            ],
            [
             0.5555555555555556,
             "#d8576b"
            ],
            [
             0.6666666666666666,
             "#ed7953"
            ],
            [
             0.7777777777777778,
             "#fb9f3a"
            ],
            [
             0.8888888888888888,
             "#fdca26"
            ],
            [
             1,
             "#f0f921"
            ]
           ],
           "sequentialminus": [
            [
             0,
             "#0d0887"
            ],
            [
             0.1111111111111111,
             "#46039f"
            ],
            [
             0.2222222222222222,
             "#7201a8"
            ],
            [
             0.3333333333333333,
             "#9c179e"
            ],
            [
             0.4444444444444444,
             "#bd3786"
            ],
            [
             0.5555555555555556,
             "#d8576b"
            ],
            [
             0.6666666666666666,
             "#ed7953"
            ],
            [
             0.7777777777777778,
             "#fb9f3a"
            ],
            [
             0.8888888888888888,
             "#fdca26"
            ],
            [
             1,
             "#f0f921"
            ]
           ]
          },
          "colorway": [
           "#636efa",
           "#EF553B",
           "#00cc96",
           "#ab63fa",
           "#FFA15A",
           "#19d3f3",
           "#FF6692",
           "#B6E880",
           "#FF97FF",
           "#FECB52"
          ],
          "font": {
           "color": "#2a3f5f"
          },
          "geo": {
           "bgcolor": "white",
           "lakecolor": "white",
           "landcolor": "#E5ECF6",
           "showlakes": true,
           "showland": true,
           "subunitcolor": "white"
          },
          "hoverlabel": {
           "align": "left"
          },
          "hovermode": "closest",
          "mapbox": {
           "style": "light"
          },
          "paper_bgcolor": "white",
          "plot_bgcolor": "#E5ECF6",
          "polar": {
           "angularaxis": {
            "gridcolor": "white",
            "linecolor": "white",
            "ticks": ""
           },
           "bgcolor": "#E5ECF6",
           "radialaxis": {
            "gridcolor": "white",
            "linecolor": "white",
            "ticks": ""
           }
          },
          "scene": {
           "xaxis": {
            "backgroundcolor": "#E5ECF6",
            "gridcolor": "white",
            "gridwidth": 2,
            "linecolor": "white",
            "showbackground": true,
            "ticks": "",
            "zerolinecolor": "white"
           },
           "yaxis": {
            "backgroundcolor": "#E5ECF6",
            "gridcolor": "white",
            "gridwidth": 2,
            "linecolor": "white",
            "showbackground": true,
            "ticks": "",
            "zerolinecolor": "white"
           },
           "zaxis": {
            "backgroundcolor": "#E5ECF6",
            "gridcolor": "white",
            "gridwidth": 2,
            "linecolor": "white",
            "showbackground": true,
            "ticks": "",
            "zerolinecolor": "white"
           }
          },
          "shapedefaults": {
           "line": {
            "color": "#2a3f5f"
           }
          },
          "ternary": {
           "aaxis": {
            "gridcolor": "white",
            "linecolor": "white",
            "ticks": ""
           },
           "baxis": {
            "gridcolor": "white",
            "linecolor": "white",
            "ticks": ""
           },
           "bgcolor": "#E5ECF6",
           "caxis": {
            "gridcolor": "white",
            "linecolor": "white",
            "ticks": ""
           }
          },
          "title": {
           "x": 0.05
          },
          "xaxis": {
           "automargin": true,
           "gridcolor": "white",
           "linecolor": "white",
           "ticks": "",
           "title": {
            "standoff": 15
           },
           "zerolinecolor": "white",
           "zerolinewidth": 2
          },
          "yaxis": {
           "automargin": true,
           "gridcolor": "white",
           "linecolor": "white",
           "ticks": "",
           "title": {
            "standoff": 15
           },
           "zerolinecolor": "white",
           "zerolinewidth": 2
          }
         }
        },
        "title": {
         "text": "Box Plot of Selling Prices and Present Prices"
        },
        "xaxis": {
         "anchor": "y",
         "domain": [
          0,
          1
         ],
         "title": {
          "text": "Variable"
         }
        },
        "yaxis": {
         "anchor": "x",
         "domain": [
          0,
          1
         ],
         "title": {
          "text": "Price"
         }
        }
       }
      }
     },
     "metadata": {},
     "output_type": "display_data"
    }
   ],
   "source": [
    "\n",
    "# Histograms for Selling_Price and Present_Price\n",
    "fig_prices = px.histogram(Data, x=['Selling_Price', 'Present_Price'], nbins=20,\n",
    "                          title='Distribution of Selling Prices and Present Prices',\n",
    "                          labels={'value': 'Price', 'variable': 'Variable'},\n",
    "                          color_discrete_sequence=['#87CEFA', '#90EE90'])\n",
    "fig_prices.update_layout(xaxis_title='Price', yaxis_title='Frequency')\n",
    "\n",
    "# Box Plot for Selling_Price and Present_Price\n",
    "fig_box_plot = px.box(Data.melt(value_vars=['Selling_Price', 'Present_Price']), x='variable', y='value',\n",
    "                      title='Box Plot of Selling Prices and Present Prices',\n",
    "                      labels={'value': 'Price', 'variable': 'Variable'},\n",
    "                      color_discrete_sequence=['#87CEFA', '#90EE90'])\n",
    "fig_box_plot.update_layout(xaxis_title='Variable', yaxis_title='Price')\n",
    "\n",
    "# Show the plots\n",
    "fig_prices.show()\n",
    "fig_box_plot.show()\n"
   ]
  },
  {
   "cell_type": "code",
   "execution_count": 13,
   "metadata": {},
   "outputs": [
    {
     "data": {
      "application/vnd.plotly.v1+json": {
       "config": {
        "plotlyServerURL": "https://plot.ly"
       },
       "data": [
        {
         "alignmentgroup": "True",
         "bingroup": "x",
         "hovertemplate": "Kilometers Driven=%{x}<br>count=%{y}<extra></extra>",
         "legendgroup": "",
         "marker": {
          "color": "#ff7f0e",
          "pattern": {
           "shape": ""
          }
         },
         "name": "",
         "nbinsx": 20,
         "offsetgroup": "",
         "orientation": "v",
         "showlegend": false,
         "type": "histogram",
         "x": [
          27000,
          43000,
          6900,
          5200,
          42450,
          2071,
          18796,
          33429,
          20273,
          42367,
          2135,
          51000,
          15000,
          26000,
          77427,
          43000,
          41678,
          43000,
          35500,
          41442,
          25000,
          2400,
          50000,
          45280,
          56879,
          20000,
          55138,
          16200,
          44542,
          45000,
          51439,
          54200,
          39000,
          45000,
          45000,
          49998,
          48767,
          127000,
          10079,
          62000,
          24524,
          46706,
          58000,
          45780,
          50000,
          15000,
          64532,
          65000,
          25870,
          37000,
          104707,
          40000,
          15000,
          135000,
          90000,
          70000,
          40534,
          50000,
          39485,
          41000,
          40001,
          40588,
          78000,
          47000,
          6000,
          45000,
          11000,
          59000,
          88000,
          12000,
          71000,
          45000,
          56001,
          43000,
          83000,
          36000,
          72000,
          135154,
          80000,
          89000,
          23000,
          40000,
          15000,
          38000,
          197176,
          142000,
          78000,
          56000,
          47000,
          40000,
          62000,
          58242,
          75000,
          40000,
          89000,
          72000,
          29000,
          8700,
          45000,
          50024,
          3000,
          1400,
          4000,
          1200,
          4100,
          21700,
          16500,
          15000,
          18000,
          11000,
          6000,
          8700,
          7000,
          35000,
          17000,
          17500,
          33000,
          14000,
          26000,
          5400,
          5700,
          6900,
          6000,
          46500,
          11500,
          40000,
          1300,
          7000,
          3000,
          5000,
          11000,
          18000,
          3500,
          500,
          11800,
          5000,
          23500,
          16000,
          15000,
          16600,
          32000,
          20000,
          29000,
          25000,
          25000,
          19000,
          15000,
          58000,
          45000,
          24000,
          6000,
          31000,
          13000,
          45000,
          8000,
          4300,
          15000,
          23000,
          8600,
          4000,
          24000,
          23000,
          14500,
          27000,
          14000,
          500,
          1000,
          42000,
          12000,
          14000,
          5500,
          6700,
          13700,
          1300,
          38600,
          75000,
          30000,
          24000,
          19000,
          213000,
          60000,
          50000,
          30000,
          21000,
          26000,
          1900,
          22000,
          32000,
          18000,
          55000,
          60000,
          25000,
          49000,
          24000,
          50000,
          35000,
          500000,
          33000,
          35000,
          53000,
          92233,
          58000,
          28200,
          53460,
          28282,
          3493,
          12479,
          34797,
          3435,
          21125,
          35775,
          43535,
          22671,
          31604,
          20114,
          36100,
          12500,
          15000,
          45078,
          36000,
          38488,
          32000,
          77632,
          61381,
          36198,
          22517,
          24678,
          57000,
          60000,
          52132,
          45000,
          15001,
          12900,
          53000,
          4492,
          15141,
          11849,
          68000,
          60241,
          23709,
          32322,
          35866,
          34000,
          7000,
          49000,
          71000,
          35000,
          36000,
          30000,
          17000,
          35934,
          56701,
          31427,
          48000,
          54242,
          53675,
          49562,
          40324,
          25000,
          36054,
          29223,
          5600,
          40023,
          16002,
          40026,
          21200,
          35000,
          19434,
          19000,
          18828,
          69341,
          69562,
          27600,
          61203,
          16500,
          30753,
          24800,
          21780,
          4000,
          40126,
          14465,
          50456,
          63000,
          9010,
          9800,
          15059,
          28569,
          44000,
          34000,
          10980,
          19000,
          31427,
          12000,
          38000,
          33019,
          60076,
          33988,
          60000,
          87934,
          9000,
          5464
         ],
         "xaxis": "x",
         "yaxis": "y"
        }
       ],
       "layout": {
        "barmode": "relative",
        "legend": {
         "tracegroupgap": 0
        },
        "template": {
         "data": {
          "bar": [
           {
            "error_x": {
             "color": "#2a3f5f"
            },
            "error_y": {
             "color": "#2a3f5f"
            },
            "marker": {
             "line": {
              "color": "#E5ECF6",
              "width": 0.5
             },
             "pattern": {
              "fillmode": "overlay",
              "size": 10,
              "solidity": 0.2
             }
            },
            "type": "bar"
           }
          ],
          "barpolar": [
           {
            "marker": {
             "line": {
              "color": "#E5ECF6",
              "width": 0.5
             },
             "pattern": {
              "fillmode": "overlay",
              "size": 10,
              "solidity": 0.2
             }
            },
            "type": "barpolar"
           }
          ],
          "carpet": [
           {
            "aaxis": {
             "endlinecolor": "#2a3f5f",
             "gridcolor": "white",
             "linecolor": "white",
             "minorgridcolor": "white",
             "startlinecolor": "#2a3f5f"
            },
            "baxis": {
             "endlinecolor": "#2a3f5f",
             "gridcolor": "white",
             "linecolor": "white",
             "minorgridcolor": "white",
             "startlinecolor": "#2a3f5f"
            },
            "type": "carpet"
           }
          ],
          "choropleth": [
           {
            "colorbar": {
             "outlinewidth": 0,
             "ticks": ""
            },
            "type": "choropleth"
           }
          ],
          "contour": [
           {
            "colorbar": {
             "outlinewidth": 0,
             "ticks": ""
            },
            "colorscale": [
             [
              0,
              "#0d0887"
             ],
             [
              0.1111111111111111,
              "#46039f"
             ],
             [
              0.2222222222222222,
              "#7201a8"
             ],
             [
              0.3333333333333333,
              "#9c179e"
             ],
             [
              0.4444444444444444,
              "#bd3786"
             ],
             [
              0.5555555555555556,
              "#d8576b"
             ],
             [
              0.6666666666666666,
              "#ed7953"
             ],
             [
              0.7777777777777778,
              "#fb9f3a"
             ],
             [
              0.8888888888888888,
              "#fdca26"
             ],
             [
              1,
              "#f0f921"
             ]
            ],
            "type": "contour"
           }
          ],
          "contourcarpet": [
           {
            "colorbar": {
             "outlinewidth": 0,
             "ticks": ""
            },
            "type": "contourcarpet"
           }
          ],
          "heatmap": [
           {
            "colorbar": {
             "outlinewidth": 0,
             "ticks": ""
            },
            "colorscale": [
             [
              0,
              "#0d0887"
             ],
             [
              0.1111111111111111,
              "#46039f"
             ],
             [
              0.2222222222222222,
              "#7201a8"
             ],
             [
              0.3333333333333333,
              "#9c179e"
             ],
             [
              0.4444444444444444,
              "#bd3786"
             ],
             [
              0.5555555555555556,
              "#d8576b"
             ],
             [
              0.6666666666666666,
              "#ed7953"
             ],
             [
              0.7777777777777778,
              "#fb9f3a"
             ],
             [
              0.8888888888888888,
              "#fdca26"
             ],
             [
              1,
              "#f0f921"
             ]
            ],
            "type": "heatmap"
           }
          ],
          "heatmapgl": [
           {
            "colorbar": {
             "outlinewidth": 0,
             "ticks": ""
            },
            "colorscale": [
             [
              0,
              "#0d0887"
             ],
             [
              0.1111111111111111,
              "#46039f"
             ],
             [
              0.2222222222222222,
              "#7201a8"
             ],
             [
              0.3333333333333333,
              "#9c179e"
             ],
             [
              0.4444444444444444,
              "#bd3786"
             ],
             [
              0.5555555555555556,
              "#d8576b"
             ],
             [
              0.6666666666666666,
              "#ed7953"
             ],
             [
              0.7777777777777778,
              "#fb9f3a"
             ],
             [
              0.8888888888888888,
              "#fdca26"
             ],
             [
              1,
              "#f0f921"
             ]
            ],
            "type": "heatmapgl"
           }
          ],
          "histogram": [
           {
            "marker": {
             "pattern": {
              "fillmode": "overlay",
              "size": 10,
              "solidity": 0.2
             }
            },
            "type": "histogram"
           }
          ],
          "histogram2d": [
           {
            "colorbar": {
             "outlinewidth": 0,
             "ticks": ""
            },
            "colorscale": [
             [
              0,
              "#0d0887"
             ],
             [
              0.1111111111111111,
              "#46039f"
             ],
             [
              0.2222222222222222,
              "#7201a8"
             ],
             [
              0.3333333333333333,
              "#9c179e"
             ],
             [
              0.4444444444444444,
              "#bd3786"
             ],
             [
              0.5555555555555556,
              "#d8576b"
             ],
             [
              0.6666666666666666,
              "#ed7953"
             ],
             [
              0.7777777777777778,
              "#fb9f3a"
             ],
             [
              0.8888888888888888,
              "#fdca26"
             ],
             [
              1,
              "#f0f921"
             ]
            ],
            "type": "histogram2d"
           }
          ],
          "histogram2dcontour": [
           {
            "colorbar": {
             "outlinewidth": 0,
             "ticks": ""
            },
            "colorscale": [
             [
              0,
              "#0d0887"
             ],
             [
              0.1111111111111111,
              "#46039f"
             ],
             [
              0.2222222222222222,
              "#7201a8"
             ],
             [
              0.3333333333333333,
              "#9c179e"
             ],
             [
              0.4444444444444444,
              "#bd3786"
             ],
             [
              0.5555555555555556,
              "#d8576b"
             ],
             [
              0.6666666666666666,
              "#ed7953"
             ],
             [
              0.7777777777777778,
              "#fb9f3a"
             ],
             [
              0.8888888888888888,
              "#fdca26"
             ],
             [
              1,
              "#f0f921"
             ]
            ],
            "type": "histogram2dcontour"
           }
          ],
          "mesh3d": [
           {
            "colorbar": {
             "outlinewidth": 0,
             "ticks": ""
            },
            "type": "mesh3d"
           }
          ],
          "parcoords": [
           {
            "line": {
             "colorbar": {
              "outlinewidth": 0,
              "ticks": ""
             }
            },
            "type": "parcoords"
           }
          ],
          "pie": [
           {
            "automargin": true,
            "type": "pie"
           }
          ],
          "scatter": [
           {
            "fillpattern": {
             "fillmode": "overlay",
             "size": 10,
             "solidity": 0.2
            },
            "type": "scatter"
           }
          ],
          "scatter3d": [
           {
            "line": {
             "colorbar": {
              "outlinewidth": 0,
              "ticks": ""
             }
            },
            "marker": {
             "colorbar": {
              "outlinewidth": 0,
              "ticks": ""
             }
            },
            "type": "scatter3d"
           }
          ],
          "scattercarpet": [
           {
            "marker": {
             "colorbar": {
              "outlinewidth": 0,
              "ticks": ""
             }
            },
            "type": "scattercarpet"
           }
          ],
          "scattergeo": [
           {
            "marker": {
             "colorbar": {
              "outlinewidth": 0,
              "ticks": ""
             }
            },
            "type": "scattergeo"
           }
          ],
          "scattergl": [
           {
            "marker": {
             "colorbar": {
              "outlinewidth": 0,
              "ticks": ""
             }
            },
            "type": "scattergl"
           }
          ],
          "scattermapbox": [
           {
            "marker": {
             "colorbar": {
              "outlinewidth": 0,
              "ticks": ""
             }
            },
            "type": "scattermapbox"
           }
          ],
          "scatterpolar": [
           {
            "marker": {
             "colorbar": {
              "outlinewidth": 0,
              "ticks": ""
             }
            },
            "type": "scatterpolar"
           }
          ],
          "scatterpolargl": [
           {
            "marker": {
             "colorbar": {
              "outlinewidth": 0,
              "ticks": ""
             }
            },
            "type": "scatterpolargl"
           }
          ],
          "scatterternary": [
           {
            "marker": {
             "colorbar": {
              "outlinewidth": 0,
              "ticks": ""
             }
            },
            "type": "scatterternary"
           }
          ],
          "surface": [
           {
            "colorbar": {
             "outlinewidth": 0,
             "ticks": ""
            },
            "colorscale": [
             [
              0,
              "#0d0887"
             ],
             [
              0.1111111111111111,
              "#46039f"
             ],
             [
              0.2222222222222222,
              "#7201a8"
             ],
             [
              0.3333333333333333,
              "#9c179e"
             ],
             [
              0.4444444444444444,
              "#bd3786"
             ],
             [
              0.5555555555555556,
              "#d8576b"
             ],
             [
              0.6666666666666666,
              "#ed7953"
             ],
             [
              0.7777777777777778,
              "#fb9f3a"
             ],
             [
              0.8888888888888888,
              "#fdca26"
             ],
             [
              1,
              "#f0f921"
             ]
            ],
            "type": "surface"
           }
          ],
          "table": [
           {
            "cells": {
             "fill": {
              "color": "#EBF0F8"
             },
             "line": {
              "color": "white"
             }
            },
            "header": {
             "fill": {
              "color": "#C8D4E3"
             },
             "line": {
              "color": "white"
             }
            },
            "type": "table"
           }
          ]
         },
         "layout": {
          "annotationdefaults": {
           "arrowcolor": "#2a3f5f",
           "arrowhead": 0,
           "arrowwidth": 1
          },
          "autotypenumbers": "strict",
          "coloraxis": {
           "colorbar": {
            "outlinewidth": 0,
            "ticks": ""
           }
          },
          "colorscale": {
           "diverging": [
            [
             0,
             "#8e0152"
            ],
            [
             0.1,
             "#c51b7d"
            ],
            [
             0.2,
             "#de77ae"
            ],
            [
             0.3,
             "#f1b6da"
            ],
            [
             0.4,
             "#fde0ef"
            ],
            [
             0.5,
             "#f7f7f7"
            ],
            [
             0.6,
             "#e6f5d0"
            ],
            [
             0.7,
             "#b8e186"
            ],
            [
             0.8,
             "#7fbc41"
            ],
            [
             0.9,
             "#4d9221"
            ],
            [
             1,
             "#276419"
            ]
           ],
           "sequential": [
            [
             0,
             "#0d0887"
            ],
            [
             0.1111111111111111,
             "#46039f"
            ],
            [
             0.2222222222222222,
             "#7201a8"
            ],
            [
             0.3333333333333333,
             "#9c179e"
            ],
            [
             0.4444444444444444,
             "#bd3786"
            ],
            [
             0.5555555555555556,
             "#d8576b"
            ],
            [
             0.6666666666666666,
             "#ed7953"
            ],
            [
             0.7777777777777778,
             "#fb9f3a"
            ],
            [
             0.8888888888888888,
             "#fdca26"
            ],
            [
             1,
             "#f0f921"
            ]
           ],
           "sequentialminus": [
            [
             0,
             "#0d0887"
            ],
            [
             0.1111111111111111,
             "#46039f"
            ],
            [
             0.2222222222222222,
             "#7201a8"
            ],
            [
             0.3333333333333333,
             "#9c179e"
            ],
            [
             0.4444444444444444,
             "#bd3786"
            ],
            [
             0.5555555555555556,
             "#d8576b"
            ],
            [
             0.6666666666666666,
             "#ed7953"
            ],
            [
             0.7777777777777778,
             "#fb9f3a"
            ],
            [
             0.8888888888888888,
             "#fdca26"
            ],
            [
             1,
             "#f0f921"
            ]
           ]
          },
          "colorway": [
           "#636efa",
           "#EF553B",
           "#00cc96",
           "#ab63fa",
           "#FFA15A",
           "#19d3f3",
           "#FF6692",
           "#B6E880",
           "#FF97FF",
           "#FECB52"
          ],
          "font": {
           "color": "#2a3f5f"
          },
          "geo": {
           "bgcolor": "white",
           "lakecolor": "white",
           "landcolor": "#E5ECF6",
           "showlakes": true,
           "showland": true,
           "subunitcolor": "white"
          },
          "hoverlabel": {
           "align": "left"
          },
          "hovermode": "closest",
          "mapbox": {
           "style": "light"
          },
          "paper_bgcolor": "white",
          "plot_bgcolor": "#E5ECF6",
          "polar": {
           "angularaxis": {
            "gridcolor": "white",
            "linecolor": "white",
            "ticks": ""
           },
           "bgcolor": "#E5ECF6",
           "radialaxis": {
            "gridcolor": "white",
            "linecolor": "white",
            "ticks": ""
           }
          },
          "scene": {
           "xaxis": {
            "backgroundcolor": "#E5ECF6",
            "gridcolor": "white",
            "gridwidth": 2,
            "linecolor": "white",
            "showbackground": true,
            "ticks": "",
            "zerolinecolor": "white"
           },
           "yaxis": {
            "backgroundcolor": "#E5ECF6",
            "gridcolor": "white",
            "gridwidth": 2,
            "linecolor": "white",
            "showbackground": true,
            "ticks": "",
            "zerolinecolor": "white"
           },
           "zaxis": {
            "backgroundcolor": "#E5ECF6",
            "gridcolor": "white",
            "gridwidth": 2,
            "linecolor": "white",
            "showbackground": true,
            "ticks": "",
            "zerolinecolor": "white"
           }
          },
          "shapedefaults": {
           "line": {
            "color": "#2a3f5f"
           }
          },
          "ternary": {
           "aaxis": {
            "gridcolor": "white",
            "linecolor": "white",
            "ticks": ""
           },
           "baxis": {
            "gridcolor": "white",
            "linecolor": "white",
            "ticks": ""
           },
           "bgcolor": "#E5ECF6",
           "caxis": {
            "gridcolor": "white",
            "linecolor": "white",
            "ticks": ""
           }
          },
          "title": {
           "x": 0.05
          },
          "xaxis": {
           "automargin": true,
           "gridcolor": "white",
           "linecolor": "white",
           "ticks": "",
           "title": {
            "standoff": 15
           },
           "zerolinecolor": "white",
           "zerolinewidth": 2
          },
          "yaxis": {
           "automargin": true,
           "gridcolor": "white",
           "linecolor": "white",
           "ticks": "",
           "title": {
            "standoff": 15
           },
           "zerolinecolor": "white",
           "zerolinewidth": 2
          }
         }
        },
        "title": {
         "text": "Distribution of Kilometers Driven"
        },
        "xaxis": {
         "anchor": "y",
         "domain": [
          0,
          1
         ],
         "title": {
          "text": "Kilometers Driven"
         }
        },
        "yaxis": {
         "anchor": "x",
         "domain": [
          0,
          1
         ],
         "title": {
          "text": "Frequency"
         }
        }
       }
      }
     },
     "metadata": {},
     "output_type": "display_data"
    },
    {
     "name": "stdout",
     "output_type": "stream",
     "text": [
      "Mean Kilometers Driven: 36947.20598006644\n",
      "Median Kilometers Driven: 32000.0\n",
      "Standard Deviation of Kilometers Driven: 38886.88388206788\n"
     ]
    }
   ],
   "source": [
    "\n",
    "# Histogram for Kms_Driven\n",
    "fig_kms_driven = px.histogram(Data, x='Kms_Driven', nbins=20, title='Distribution of Kilometers Driven',\n",
    "                               labels={'Kms_Driven': 'Kilometers Driven', 'count': 'Frequency'},\n",
    "                               color_discrete_sequence=['#ff7f0e'])\n",
    "fig_kms_driven.update_layout(xaxis_title='Kilometers Driven', yaxis_title='Frequency')\n",
    "\n",
    "# Show the histogram\n",
    "fig_kms_driven.show()\n",
    "\n",
    "# Summary Statistics for Kms_Driven\n",
    "kms_mean = Data['Kms_Driven'].mean()\n",
    "kms_median = Data['Kms_Driven'].median()\n",
    "kms_std = Data['Kms_Driven'].std()\n",
    "\n",
    "print(f\"Mean Kilometers Driven: {kms_mean}\")\n",
    "print(f\"Median Kilometers Driven: {kms_median}\")\n",
    "print(f\"Standard Deviation of Kilometers Driven: {kms_std}\")\n"
   ]
  },
  {
   "cell_type": "code",
   "execution_count": 14,
   "metadata": {},
   "outputs": [
    {
     "data": {
      "application/vnd.plotly.v1+json": {
       "config": {
        "plotlyServerURL": "https://plot.ly"
       },
       "data": [
        {
         "alignmentgroup": "True",
         "bingroup": "x",
         "hovertemplate": "Number of Owners=%{x}<br>count=%{y}<extra></extra>",
         "legendgroup": "",
         "marker": {
          "color": "#8dd3c7",
          "pattern": {
           "shape": ""
          }
         },
         "name": "",
         "offsetgroup": "",
         "orientation": "v",
         "showlegend": false,
         "type": "histogram",
         "x": [
          0,
          0,
          0,
          0,
          0,
          0,
          0,
          0,
          0,
          0,
          0,
          0,
          0,
          0,
          0,
          0,
          0,
          0,
          0,
          0,
          0,
          0,
          0,
          0,
          0,
          0,
          0,
          0,
          0,
          0,
          0,
          0,
          0,
          0,
          0,
          0,
          0,
          0,
          0,
          0,
          0,
          0,
          0,
          0,
          0,
          0,
          0,
          0,
          0,
          0,
          0,
          0,
          0,
          0,
          0,
          0,
          0,
          0,
          1,
          0,
          0,
          0,
          0,
          0,
          0,
          0,
          0,
          0,
          0,
          0,
          0,
          0,
          0,
          0,
          0,
          0,
          0,
          0,
          0,
          0,
          0,
          0,
          0,
          0,
          0,
          3,
          0,
          0,
          0,
          0,
          0,
          0,
          0,
          0,
          0,
          0,
          0,
          0,
          0,
          0,
          0,
          0,
          0,
          0,
          0,
          0,
          1,
          0,
          0,
          0,
          0,
          0,
          0,
          0,
          0,
          0,
          0,
          0,
          0,
          0,
          0,
          0,
          0,
          0,
          0,
          0,
          0,
          0,
          0,
          0,
          0,
          0,
          0,
          0,
          0,
          0,
          0,
          0,
          0,
          0,
          0,
          0,
          0,
          0,
          0,
          0,
          0,
          0,
          0,
          0,
          0,
          0,
          0,
          0,
          0,
          0,
          0,
          0,
          0,
          0,
          0,
          0,
          0,
          0,
          0,
          0,
          0,
          0,
          0,
          0,
          0,
          0,
          0,
          0,
          0,
          0,
          0,
          0,
          0,
          0,
          0,
          0,
          0,
          0,
          1,
          0,
          0,
          0,
          0,
          0,
          0,
          1,
          1,
          1,
          0,
          0,
          0,
          0,
          1,
          0,
          0,
          1,
          0,
          0,
          0,
          1,
          0,
          0,
          0,
          0,
          0,
          0,
          0,
          0,
          0,
          0,
          0,
          0,
          0,
          0,
          0,
          0,
          0,
          0,
          0,
          0,
          0,
          0,
          0,
          0,
          0,
          0,
          0,
          0,
          0,
          0,
          0,
          0,
          0,
          0,
          0,
          1,
          0,
          0,
          0,
          0,
          0,
          0,
          0,
          0,
          0,
          0,
          0,
          0,
          0,
          0,
          0,
          0,
          0,
          0,
          0,
          0,
          0,
          0,
          0,
          0,
          0,
          0,
          0,
          0,
          0,
          0,
          0,
          0,
          0,
          0,
          0,
          0,
          0,
          0,
          0,
          0,
          0,
          0,
          0,
          0,
          0,
          0,
          0,
          0,
          0,
          0,
          0,
          0,
          0,
          0,
          0,
          0,
          0,
          0,
          0
         ],
         "xaxis": "x",
         "yaxis": "y"
        }
       ],
       "layout": {
        "barmode": "relative",
        "legend": {
         "tracegroupgap": 0
        },
        "template": {
         "data": {
          "bar": [
           {
            "error_x": {
             "color": "#2a3f5f"
            },
            "error_y": {
             "color": "#2a3f5f"
            },
            "marker": {
             "line": {
              "color": "#E5ECF6",
              "width": 0.5
             },
             "pattern": {
              "fillmode": "overlay",
              "size": 10,
              "solidity": 0.2
             }
            },
            "type": "bar"
           }
          ],
          "barpolar": [
           {
            "marker": {
             "line": {
              "color": "#E5ECF6",
              "width": 0.5
             },
             "pattern": {
              "fillmode": "overlay",
              "size": 10,
              "solidity": 0.2
             }
            },
            "type": "barpolar"
           }
          ],
          "carpet": [
           {
            "aaxis": {
             "endlinecolor": "#2a3f5f",
             "gridcolor": "white",
             "linecolor": "white",
             "minorgridcolor": "white",
             "startlinecolor": "#2a3f5f"
            },
            "baxis": {
             "endlinecolor": "#2a3f5f",
             "gridcolor": "white",
             "linecolor": "white",
             "minorgridcolor": "white",
             "startlinecolor": "#2a3f5f"
            },
            "type": "carpet"
           }
          ],
          "choropleth": [
           {
            "colorbar": {
             "outlinewidth": 0,
             "ticks": ""
            },
            "type": "choropleth"
           }
          ],
          "contour": [
           {
            "colorbar": {
             "outlinewidth": 0,
             "ticks": ""
            },
            "colorscale": [
             [
              0,
              "#0d0887"
             ],
             [
              0.1111111111111111,
              "#46039f"
             ],
             [
              0.2222222222222222,
              "#7201a8"
             ],
             [
              0.3333333333333333,
              "#9c179e"
             ],
             [
              0.4444444444444444,
              "#bd3786"
             ],
             [
              0.5555555555555556,
              "#d8576b"
             ],
             [
              0.6666666666666666,
              "#ed7953"
             ],
             [
              0.7777777777777778,
              "#fb9f3a"
             ],
             [
              0.8888888888888888,
              "#fdca26"
             ],
             [
              1,
              "#f0f921"
             ]
            ],
            "type": "contour"
           }
          ],
          "contourcarpet": [
           {
            "colorbar": {
             "outlinewidth": 0,
             "ticks": ""
            },
            "type": "contourcarpet"
           }
          ],
          "heatmap": [
           {
            "colorbar": {
             "outlinewidth": 0,
             "ticks": ""
            },
            "colorscale": [
             [
              0,
              "#0d0887"
             ],
             [
              0.1111111111111111,
              "#46039f"
             ],
             [
              0.2222222222222222,
              "#7201a8"
             ],
             [
              0.3333333333333333,
              "#9c179e"
             ],
             [
              0.4444444444444444,
              "#bd3786"
             ],
             [
              0.5555555555555556,
              "#d8576b"
             ],
             [
              0.6666666666666666,
              "#ed7953"
             ],
             [
              0.7777777777777778,
              "#fb9f3a"
             ],
             [
              0.8888888888888888,
              "#fdca26"
             ],
             [
              1,
              "#f0f921"
             ]
            ],
            "type": "heatmap"
           }
          ],
          "heatmapgl": [
           {
            "colorbar": {
             "outlinewidth": 0,
             "ticks": ""
            },
            "colorscale": [
             [
              0,
              "#0d0887"
             ],
             [
              0.1111111111111111,
              "#46039f"
             ],
             [
              0.2222222222222222,
              "#7201a8"
             ],
             [
              0.3333333333333333,
              "#9c179e"
             ],
             [
              0.4444444444444444,
              "#bd3786"
             ],
             [
              0.5555555555555556,
              "#d8576b"
             ],
             [
              0.6666666666666666,
              "#ed7953"
             ],
             [
              0.7777777777777778,
              "#fb9f3a"
             ],
             [
              0.8888888888888888,
              "#fdca26"
             ],
             [
              1,
              "#f0f921"
             ]
            ],
            "type": "heatmapgl"
           }
          ],
          "histogram": [
           {
            "marker": {
             "pattern": {
              "fillmode": "overlay",
              "size": 10,
              "solidity": 0.2
             }
            },
            "type": "histogram"
           }
          ],
          "histogram2d": [
           {
            "colorbar": {
             "outlinewidth": 0,
             "ticks": ""
            },
            "colorscale": [
             [
              0,
              "#0d0887"
             ],
             [
              0.1111111111111111,
              "#46039f"
             ],
             [
              0.2222222222222222,
              "#7201a8"
             ],
             [
              0.3333333333333333,
              "#9c179e"
             ],
             [
              0.4444444444444444,
              "#bd3786"
             ],
             [
              0.5555555555555556,
              "#d8576b"
             ],
             [
              0.6666666666666666,
              "#ed7953"
             ],
             [
              0.7777777777777778,
              "#fb9f3a"
             ],
             [
              0.8888888888888888,
              "#fdca26"
             ],
             [
              1,
              "#f0f921"
             ]
            ],
            "type": "histogram2d"
           }
          ],
          "histogram2dcontour": [
           {
            "colorbar": {
             "outlinewidth": 0,
             "ticks": ""
            },
            "colorscale": [
             [
              0,
              "#0d0887"
             ],
             [
              0.1111111111111111,
              "#46039f"
             ],
             [
              0.2222222222222222,
              "#7201a8"
             ],
             [
              0.3333333333333333,
              "#9c179e"
             ],
             [
              0.4444444444444444,
              "#bd3786"
             ],
             [
              0.5555555555555556,
              "#d8576b"
             ],
             [
              0.6666666666666666,
              "#ed7953"
             ],
             [
              0.7777777777777778,
              "#fb9f3a"
             ],
             [
              0.8888888888888888,
              "#fdca26"
             ],
             [
              1,
              "#f0f921"
             ]
            ],
            "type": "histogram2dcontour"
           }
          ],
          "mesh3d": [
           {
            "colorbar": {
             "outlinewidth": 0,
             "ticks": ""
            },
            "type": "mesh3d"
           }
          ],
          "parcoords": [
           {
            "line": {
             "colorbar": {
              "outlinewidth": 0,
              "ticks": ""
             }
            },
            "type": "parcoords"
           }
          ],
          "pie": [
           {
            "automargin": true,
            "type": "pie"
           }
          ],
          "scatter": [
           {
            "fillpattern": {
             "fillmode": "overlay",
             "size": 10,
             "solidity": 0.2
            },
            "type": "scatter"
           }
          ],
          "scatter3d": [
           {
            "line": {
             "colorbar": {
              "outlinewidth": 0,
              "ticks": ""
             }
            },
            "marker": {
             "colorbar": {
              "outlinewidth": 0,
              "ticks": ""
             }
            },
            "type": "scatter3d"
           }
          ],
          "scattercarpet": [
           {
            "marker": {
             "colorbar": {
              "outlinewidth": 0,
              "ticks": ""
             }
            },
            "type": "scattercarpet"
           }
          ],
          "scattergeo": [
           {
            "marker": {
             "colorbar": {
              "outlinewidth": 0,
              "ticks": ""
             }
            },
            "type": "scattergeo"
           }
          ],
          "scattergl": [
           {
            "marker": {
             "colorbar": {
              "outlinewidth": 0,
              "ticks": ""
             }
            },
            "type": "scattergl"
           }
          ],
          "scattermapbox": [
           {
            "marker": {
             "colorbar": {
              "outlinewidth": 0,
              "ticks": ""
             }
            },
            "type": "scattermapbox"
           }
          ],
          "scatterpolar": [
           {
            "marker": {
             "colorbar": {
              "outlinewidth": 0,
              "ticks": ""
             }
            },
            "type": "scatterpolar"
           }
          ],
          "scatterpolargl": [
           {
            "marker": {
             "colorbar": {
              "outlinewidth": 0,
              "ticks": ""
             }
            },
            "type": "scatterpolargl"
           }
          ],
          "scatterternary": [
           {
            "marker": {
             "colorbar": {
              "outlinewidth": 0,
              "ticks": ""
             }
            },
            "type": "scatterternary"
           }
          ],
          "surface": [
           {
            "colorbar": {
             "outlinewidth": 0,
             "ticks": ""
            },
            "colorscale": [
             [
              0,
              "#0d0887"
             ],
             [
              0.1111111111111111,
              "#46039f"
             ],
             [
              0.2222222222222222,
              "#7201a8"
             ],
             [
              0.3333333333333333,
              "#9c179e"
             ],
             [
              0.4444444444444444,
              "#bd3786"
             ],
             [
              0.5555555555555556,
              "#d8576b"
             ],
             [
              0.6666666666666666,
              "#ed7953"
             ],
             [
              0.7777777777777778,
              "#fb9f3a"
             ],
             [
              0.8888888888888888,
              "#fdca26"
             ],
             [
              1,
              "#f0f921"
             ]
            ],
            "type": "surface"
           }
          ],
          "table": [
           {
            "cells": {
             "fill": {
              "color": "#EBF0F8"
             },
             "line": {
              "color": "white"
             }
            },
            "header": {
             "fill": {
              "color": "#C8D4E3"
             },
             "line": {
              "color": "white"
             }
            },
            "type": "table"
           }
          ]
         },
         "layout": {
          "annotationdefaults": {
           "arrowcolor": "#2a3f5f",
           "arrowhead": 0,
           "arrowwidth": 1
          },
          "autotypenumbers": "strict",
          "coloraxis": {
           "colorbar": {
            "outlinewidth": 0,
            "ticks": ""
           }
          },
          "colorscale": {
           "diverging": [
            [
             0,
             "#8e0152"
            ],
            [
             0.1,
             "#c51b7d"
            ],
            [
             0.2,
             "#de77ae"
            ],
            [
             0.3,
             "#f1b6da"
            ],
            [
             0.4,
             "#fde0ef"
            ],
            [
             0.5,
             "#f7f7f7"
            ],
            [
             0.6,
             "#e6f5d0"
            ],
            [
             0.7,
             "#b8e186"
            ],
            [
             0.8,
             "#7fbc41"
            ],
            [
             0.9,
             "#4d9221"
            ],
            [
             1,
             "#276419"
            ]
           ],
           "sequential": [
            [
             0,
             "#0d0887"
            ],
            [
             0.1111111111111111,
             "#46039f"
            ],
            [
             0.2222222222222222,
             "#7201a8"
            ],
            [
             0.3333333333333333,
             "#9c179e"
            ],
            [
             0.4444444444444444,
             "#bd3786"
            ],
            [
             0.5555555555555556,
             "#d8576b"
            ],
            [
             0.6666666666666666,
             "#ed7953"
            ],
            [
             0.7777777777777778,
             "#fb9f3a"
            ],
            [
             0.8888888888888888,
             "#fdca26"
            ],
            [
             1,
             "#f0f921"
            ]
           ],
           "sequentialminus": [
            [
             0,
             "#0d0887"
            ],
            [
             0.1111111111111111,
             "#46039f"
            ],
            [
             0.2222222222222222,
             "#7201a8"
            ],
            [
             0.3333333333333333,
             "#9c179e"
            ],
            [
             0.4444444444444444,
             "#bd3786"
            ],
            [
             0.5555555555555556,
             "#d8576b"
            ],
            [
             0.6666666666666666,
             "#ed7953"
            ],
            [
             0.7777777777777778,
             "#fb9f3a"
            ],
            [
             0.8888888888888888,
             "#fdca26"
            ],
            [
             1,
             "#f0f921"
            ]
           ]
          },
          "colorway": [
           "#636efa",
           "#EF553B",
           "#00cc96",
           "#ab63fa",
           "#FFA15A",
           "#19d3f3",
           "#FF6692",
           "#B6E880",
           "#FF97FF",
           "#FECB52"
          ],
          "font": {
           "color": "#2a3f5f"
          },
          "geo": {
           "bgcolor": "white",
           "lakecolor": "white",
           "landcolor": "#E5ECF6",
           "showlakes": true,
           "showland": true,
           "subunitcolor": "white"
          },
          "hoverlabel": {
           "align": "left"
          },
          "hovermode": "closest",
          "mapbox": {
           "style": "light"
          },
          "paper_bgcolor": "white",
          "plot_bgcolor": "#E5ECF6",
          "polar": {
           "angularaxis": {
            "gridcolor": "white",
            "linecolor": "white",
            "ticks": ""
           },
           "bgcolor": "#E5ECF6",
           "radialaxis": {
            "gridcolor": "white",
            "linecolor": "white",
            "ticks": ""
           }
          },
          "scene": {
           "xaxis": {
            "backgroundcolor": "#E5ECF6",
            "gridcolor": "white",
            "gridwidth": 2,
            "linecolor": "white",
            "showbackground": true,
            "ticks": "",
            "zerolinecolor": "white"
           },
           "yaxis": {
            "backgroundcolor": "#E5ECF6",
            "gridcolor": "white",
            "gridwidth": 2,
            "linecolor": "white",
            "showbackground": true,
            "ticks": "",
            "zerolinecolor": "white"
           },
           "zaxis": {
            "backgroundcolor": "#E5ECF6",
            "gridcolor": "white",
            "gridwidth": 2,
            "linecolor": "white",
            "showbackground": true,
            "ticks": "",
            "zerolinecolor": "white"
           }
          },
          "shapedefaults": {
           "line": {
            "color": "#2a3f5f"
           }
          },
          "ternary": {
           "aaxis": {
            "gridcolor": "white",
            "linecolor": "white",
            "ticks": ""
           },
           "baxis": {
            "gridcolor": "white",
            "linecolor": "white",
            "ticks": ""
           },
           "bgcolor": "#E5ECF6",
           "caxis": {
            "gridcolor": "white",
            "linecolor": "white",
            "ticks": ""
           }
          },
          "title": {
           "x": 0.05
          },
          "xaxis": {
           "automargin": true,
           "gridcolor": "white",
           "linecolor": "white",
           "ticks": "",
           "title": {
            "standoff": 15
           },
           "zerolinecolor": "white",
           "zerolinewidth": 2
          },
          "yaxis": {
           "automargin": true,
           "gridcolor": "white",
           "linecolor": "white",
           "ticks": "",
           "title": {
            "standoff": 15
           },
           "zerolinecolor": "white",
           "zerolinewidth": 2
          }
         }
        },
        "title": {
         "text": "Distribution of Number of Owners"
        },
        "xaxis": {
         "anchor": "y",
         "domain": [
          0,
          1
         ],
         "title": {
          "text": "Number of Owners"
         }
        },
        "yaxis": {
         "anchor": "x",
         "domain": [
          0,
          1
         ],
         "title": {
          "text": "Count"
         }
        }
       }
      }
     },
     "metadata": {},
     "output_type": "display_data"
    },
    {
     "name": "stdout",
     "output_type": "stream",
     "text": [
      "Value Counts for Number of Owners:\n",
      "   Number of Owners  Count\n",
      "0                 0    290\n",
      "1                 1     10\n",
      "2                 3      1\n"
     ]
    }
   ],
   "source": [
    "# Count Plot for Owner\n",
    "fig_owner = px.histogram(Data, x='Owner', title='Distribution of Number of Owners',\n",
    "                         labels={'Owner': 'Number of Owners', 'count': 'Count'},\n",
    "                         color_discrete_sequence=['#8dd3c7'])\n",
    "fig_owner.update_layout(xaxis_title='Number of Owners', yaxis_title='Count')\n",
    "\n",
    "# Show the plot\n",
    "fig_owner.show()\n",
    "\n",
    "# Value Counts for Owner\n",
    "owner_counts = Data['Owner'].value_counts().reset_index()\n",
    "owner_counts.columns = ['Number of Owners', 'Count']\n",
    "print(\"Value Counts for Number of Owners:\")\n",
    "print(owner_counts)"
   ]
  },
  {
   "cell_type": "markdown",
   "metadata": {},
   "source": [
    "# Categorical Variables"
   ]
  },
  {
   "cell_type": "code",
   "execution_count": 15,
   "metadata": {},
   "outputs": [
    {
     "data": {
      "application/vnd.plotly.v1+json": {
       "config": {
        "plotlyServerURL": "https://plot.ly"
       },
       "data": [
        {
         "alignmentgroup": "True",
         "bingroup": "x",
         "hovertemplate": "Fuel Type=%{x}<br>count=%{y}<extra></extra>",
         "legendgroup": "",
         "marker": {
          "color": "#66c2a5",
          "pattern": {
           "shape": ""
          }
         },
         "name": "",
         "offsetgroup": "",
         "orientation": "v",
         "showlegend": false,
         "type": "histogram",
         "x": [
          "Petrol",
          "Diesel",
          "Petrol",
          "Petrol",
          "Diesel",
          "Diesel",
          "Petrol",
          "Diesel",
          "Diesel",
          "Diesel",
          "Petrol",
          "Diesel",
          "Petrol",
          "Petrol",
          "Petrol",
          "Diesel",
          "Diesel",
          "Diesel",
          "CNG",
          "Petrol",
          "Petrol",
          "Petrol",
          "Petrol",
          "Petrol",
          "Petrol",
          "Petrol",
          "Petrol",
          "Petrol",
          "Petrol",
          "Diesel",
          "Diesel",
          "Petrol",
          "Diesel",
          "Diesel",
          "Diesel",
          "CNG",
          "Petrol",
          "Petrol",
          "Petrol",
          "Petrol",
          "Petrol",
          "Petrol",
          "Petrol",
          "Diesel",
          "Petrol",
          "Petrol",
          "Petrol",
          "Petrol",
          "Petrol",
          "Petrol",
          "Diesel",
          "Diesel",
          "Diesel",
          "Diesel",
          "Petrol",
          "Petrol",
          "Petrol",
          "Petrol",
          "Petrol",
          "Diesel",
          "Petrol",
          "Petrol",
          "Diesel",
          "Diesel",
          "Diesel",
          "Diesel",
          "Petrol",
          "Diesel",
          "Petrol",
          "Petrol",
          "Diesel",
          "Diesel",
          "Petrol",
          "Petrol",
          "Diesel",
          "Petrol",
          "Petrol",
          "Petrol",
          "Petrol",
          "Diesel",
          "Diesel",
          "Diesel",
          "Diesel",
          "Diesel",
          "Diesel",
          "Petrol",
          "Diesel",
          "Petrol",
          "Petrol",
          "Petrol",
          "Petrol",
          "Diesel",
          "Petrol",
          "Diesel",
          "Petrol",
          "Petrol",
          "Diesel",
          "Petrol",
          "Petrol",
          "Diesel",
          "Petrol",
          "Petrol",
          "Petrol",
          "Petrol",
          "Petrol",
          "Petrol",
          "Petrol",
          "Petrol",
          "Petrol",
          "Petrol",
          "Petrol",
          "Petrol",
          "Petrol",
          "Petrol",
          "Petrol",
          "Petrol",
          "Petrol",
          "Petrol",
          "Petrol",
          "Petrol",
          "Petrol",
          "Petrol",
          "Petrol",
          "Petrol",
          "Petrol",
          "Petrol",
          "Petrol",
          "Petrol",
          "Petrol",
          "Petrol",
          "Petrol",
          "Petrol",
          "Petrol",
          "Petrol",
          "Petrol",
          "Petrol",
          "Petrol",
          "Petrol",
          "Petrol",
          "Petrol",
          "Petrol",
          "Petrol",
          "Petrol",
          "Petrol",
          "Petrol",
          "Petrol",
          "Petrol",
          "Petrol",
          "Petrol",
          "Petrol",
          "Petrol",
          "Petrol",
          "Petrol",
          "Petrol",
          "Petrol",
          "Petrol",
          "Petrol",
          "Petrol",
          "Petrol",
          "Petrol",
          "Petrol",
          "Petrol",
          "Petrol",
          "Petrol",
          "Petrol",
          "Petrol",
          "Petrol",
          "Petrol",
          "Petrol",
          "Petrol",
          "Petrol",
          "Petrol",
          "Petrol",
          "Petrol",
          "Petrol",
          "Petrol",
          "Petrol",
          "Petrol",
          "Petrol",
          "Petrol",
          "Petrol",
          "Petrol",
          "Petrol",
          "Petrol",
          "Petrol",
          "Petrol",
          "Petrol",
          "Petrol",
          "Petrol",
          "Petrol",
          "Petrol",
          "Petrol",
          "Petrol",
          "Petrol",
          "Petrol",
          "Petrol",
          "Petrol",
          "Petrol",
          "Petrol",
          "Petrol",
          "Petrol",
          "Diesel",
          "Petrol",
          "Petrol",
          "Petrol",
          "Petrol",
          "Petrol",
          "Petrol",
          "Petrol",
          "Diesel",
          "Petrol",
          "Diesel",
          "Petrol",
          "Petrol",
          "Petrol",
          "Petrol",
          "Petrol",
          "Petrol",
          "Petrol",
          "Petrol",
          "Petrol",
          "Petrol",
          "Diesel",
          "Diesel",
          "Petrol",
          "Petrol",
          "Petrol",
          "Petrol",
          "Diesel",
          "Diesel",
          "Diesel",
          "Petrol",
          "Petrol",
          "Diesel",
          "Petrol",
          "Petrol",
          "Petrol",
          "Diesel",
          "Petrol",
          "Petrol",
          "Diesel",
          "Petrol",
          "Petrol",
          "Petrol",
          "Diesel",
          "Diesel",
          "Petrol",
          "Petrol",
          "Petrol",
          "Petrol",
          "Diesel",
          "Petrol",
          "Petrol",
          "Diesel",
          "Petrol",
          "Petrol",
          "Petrol",
          "Petrol",
          "Petrol",
          "Petrol",
          "Petrol",
          "Petrol",
          "Petrol",
          "Petrol",
          "Petrol",
          "Petrol",
          "Petrol",
          "Diesel",
          "Petrol",
          "Petrol",
          "Petrol",
          "Petrol",
          "Petrol",
          "Petrol",
          "Petrol",
          "Petrol",
          "Petrol",
          "Petrol",
          "Petrol",
          "Petrol",
          "Petrol",
          "Petrol",
          "Diesel",
          "Petrol",
          "Petrol",
          "Petrol",
          "Petrol",
          "Petrol",
          "Petrol",
          "Petrol",
          "Petrol",
          "Petrol",
          "Petrol",
          "Petrol",
          "Petrol",
          "Diesel",
          "Diesel",
          "Petrol",
          "Petrol",
          "Diesel",
          "Petrol"
         ],
         "xaxis": "x",
         "yaxis": "y"
        }
       ],
       "layout": {
        "barmode": "relative",
        "legend": {
         "tracegroupgap": 0
        },
        "template": {
         "data": {
          "bar": [
           {
            "error_x": {
             "color": "#2a3f5f"
            },
            "error_y": {
             "color": "#2a3f5f"
            },
            "marker": {
             "line": {
              "color": "#E5ECF6",
              "width": 0.5
             },
             "pattern": {
              "fillmode": "overlay",
              "size": 10,
              "solidity": 0.2
             }
            },
            "type": "bar"
           }
          ],
          "barpolar": [
           {
            "marker": {
             "line": {
              "color": "#E5ECF6",
              "width": 0.5
             },
             "pattern": {
              "fillmode": "overlay",
              "size": 10,
              "solidity": 0.2
             }
            },
            "type": "barpolar"
           }
          ],
          "carpet": [
           {
            "aaxis": {
             "endlinecolor": "#2a3f5f",
             "gridcolor": "white",
             "linecolor": "white",
             "minorgridcolor": "white",
             "startlinecolor": "#2a3f5f"
            },
            "baxis": {
             "endlinecolor": "#2a3f5f",
             "gridcolor": "white",
             "linecolor": "white",
             "minorgridcolor": "white",
             "startlinecolor": "#2a3f5f"
            },
            "type": "carpet"
           }
          ],
          "choropleth": [
           {
            "colorbar": {
             "outlinewidth": 0,
             "ticks": ""
            },
            "type": "choropleth"
           }
          ],
          "contour": [
           {
            "colorbar": {
             "outlinewidth": 0,
             "ticks": ""
            },
            "colorscale": [
             [
              0,
              "#0d0887"
             ],
             [
              0.1111111111111111,
              "#46039f"
             ],
             [
              0.2222222222222222,
              "#7201a8"
             ],
             [
              0.3333333333333333,
              "#9c179e"
             ],
             [
              0.4444444444444444,
              "#bd3786"
             ],
             [
              0.5555555555555556,
              "#d8576b"
             ],
             [
              0.6666666666666666,
              "#ed7953"
             ],
             [
              0.7777777777777778,
              "#fb9f3a"
             ],
             [
              0.8888888888888888,
              "#fdca26"
             ],
             [
              1,
              "#f0f921"
             ]
            ],
            "type": "contour"
           }
          ],
          "contourcarpet": [
           {
            "colorbar": {
             "outlinewidth": 0,
             "ticks": ""
            },
            "type": "contourcarpet"
           }
          ],
          "heatmap": [
           {
            "colorbar": {
             "outlinewidth": 0,
             "ticks": ""
            },
            "colorscale": [
             [
              0,
              "#0d0887"
             ],
             [
              0.1111111111111111,
              "#46039f"
             ],
             [
              0.2222222222222222,
              "#7201a8"
             ],
             [
              0.3333333333333333,
              "#9c179e"
             ],
             [
              0.4444444444444444,
              "#bd3786"
             ],
             [
              0.5555555555555556,
              "#d8576b"
             ],
             [
              0.6666666666666666,
              "#ed7953"
             ],
             [
              0.7777777777777778,
              "#fb9f3a"
             ],
             [
              0.8888888888888888,
              "#fdca26"
             ],
             [
              1,
              "#f0f921"
             ]
            ],
            "type": "heatmap"
           }
          ],
          "heatmapgl": [
           {
            "colorbar": {
             "outlinewidth": 0,
             "ticks": ""
            },
            "colorscale": [
             [
              0,
              "#0d0887"
             ],
             [
              0.1111111111111111,
              "#46039f"
             ],
             [
              0.2222222222222222,
              "#7201a8"
             ],
             [
              0.3333333333333333,
              "#9c179e"
             ],
             [
              0.4444444444444444,
              "#bd3786"
             ],
             [
              0.5555555555555556,
              "#d8576b"
             ],
             [
              0.6666666666666666,
              "#ed7953"
             ],
             [
              0.7777777777777778,
              "#fb9f3a"
             ],
             [
              0.8888888888888888,
              "#fdca26"
             ],
             [
              1,
              "#f0f921"
             ]
            ],
            "type": "heatmapgl"
           }
          ],
          "histogram": [
           {
            "marker": {
             "pattern": {
              "fillmode": "overlay",
              "size": 10,
              "solidity": 0.2
             }
            },
            "type": "histogram"
           }
          ],
          "histogram2d": [
           {
            "colorbar": {
             "outlinewidth": 0,
             "ticks": ""
            },
            "colorscale": [
             [
              0,
              "#0d0887"
             ],
             [
              0.1111111111111111,
              "#46039f"
             ],
             [
              0.2222222222222222,
              "#7201a8"
             ],
             [
              0.3333333333333333,
              "#9c179e"
             ],
             [
              0.4444444444444444,
              "#bd3786"
             ],
             [
              0.5555555555555556,
              "#d8576b"
             ],
             [
              0.6666666666666666,
              "#ed7953"
             ],
             [
              0.7777777777777778,
              "#fb9f3a"
             ],
             [
              0.8888888888888888,
              "#fdca26"
             ],
             [
              1,
              "#f0f921"
             ]
            ],
            "type": "histogram2d"
           }
          ],
          "histogram2dcontour": [
           {
            "colorbar": {
             "outlinewidth": 0,
             "ticks": ""
            },
            "colorscale": [
             [
              0,
              "#0d0887"
             ],
             [
              0.1111111111111111,
              "#46039f"
             ],
             [
              0.2222222222222222,
              "#7201a8"
             ],
             [
              0.3333333333333333,
              "#9c179e"
             ],
             [
              0.4444444444444444,
              "#bd3786"
             ],
             [
              0.5555555555555556,
              "#d8576b"
             ],
             [
              0.6666666666666666,
              "#ed7953"
             ],
             [
              0.7777777777777778,
              "#fb9f3a"
             ],
             [
              0.8888888888888888,
              "#fdca26"
             ],
             [
              1,
              "#f0f921"
             ]
            ],
            "type": "histogram2dcontour"
           }
          ],
          "mesh3d": [
           {
            "colorbar": {
             "outlinewidth": 0,
             "ticks": ""
            },
            "type": "mesh3d"
           }
          ],
          "parcoords": [
           {
            "line": {
             "colorbar": {
              "outlinewidth": 0,
              "ticks": ""
             }
            },
            "type": "parcoords"
           }
          ],
          "pie": [
           {
            "automargin": true,
            "type": "pie"
           }
          ],
          "scatter": [
           {
            "fillpattern": {
             "fillmode": "overlay",
             "size": 10,
             "solidity": 0.2
            },
            "type": "scatter"
           }
          ],
          "scatter3d": [
           {
            "line": {
             "colorbar": {
              "outlinewidth": 0,
              "ticks": ""
             }
            },
            "marker": {
             "colorbar": {
              "outlinewidth": 0,
              "ticks": ""
             }
            },
            "type": "scatter3d"
           }
          ],
          "scattercarpet": [
           {
            "marker": {
             "colorbar": {
              "outlinewidth": 0,
              "ticks": ""
             }
            },
            "type": "scattercarpet"
           }
          ],
          "scattergeo": [
           {
            "marker": {
             "colorbar": {
              "outlinewidth": 0,
              "ticks": ""
             }
            },
            "type": "scattergeo"
           }
          ],
          "scattergl": [
           {
            "marker": {
             "colorbar": {
              "outlinewidth": 0,
              "ticks": ""
             }
            },
            "type": "scattergl"
           }
          ],
          "scattermapbox": [
           {
            "marker": {
             "colorbar": {
              "outlinewidth": 0,
              "ticks": ""
             }
            },
            "type": "scattermapbox"
           }
          ],
          "scatterpolar": [
           {
            "marker": {
             "colorbar": {
              "outlinewidth": 0,
              "ticks": ""
             }
            },
            "type": "scatterpolar"
           }
          ],
          "scatterpolargl": [
           {
            "marker": {
             "colorbar": {
              "outlinewidth": 0,
              "ticks": ""
             }
            },
            "type": "scatterpolargl"
           }
          ],
          "scatterternary": [
           {
            "marker": {
             "colorbar": {
              "outlinewidth": 0,
              "ticks": ""
             }
            },
            "type": "scatterternary"
           }
          ],
          "surface": [
           {
            "colorbar": {
             "outlinewidth": 0,
             "ticks": ""
            },
            "colorscale": [
             [
              0,
              "#0d0887"
             ],
             [
              0.1111111111111111,
              "#46039f"
             ],
             [
              0.2222222222222222,
              "#7201a8"
             ],
             [
              0.3333333333333333,
              "#9c179e"
             ],
             [
              0.4444444444444444,
              "#bd3786"
             ],
             [
              0.5555555555555556,
              "#d8576b"
             ],
             [
              0.6666666666666666,
              "#ed7953"
             ],
             [
              0.7777777777777778,
              "#fb9f3a"
             ],
             [
              0.8888888888888888,
              "#fdca26"
             ],
             [
              1,
              "#f0f921"
             ]
            ],
            "type": "surface"
           }
          ],
          "table": [
           {
            "cells": {
             "fill": {
              "color": "#EBF0F8"
             },
             "line": {
              "color": "white"
             }
            },
            "header": {
             "fill": {
              "color": "#C8D4E3"
             },
             "line": {
              "color": "white"
             }
            },
            "type": "table"
           }
          ]
         },
         "layout": {
          "annotationdefaults": {
           "arrowcolor": "#2a3f5f",
           "arrowhead": 0,
           "arrowwidth": 1
          },
          "autotypenumbers": "strict",
          "coloraxis": {
           "colorbar": {
            "outlinewidth": 0,
            "ticks": ""
           }
          },
          "colorscale": {
           "diverging": [
            [
             0,
             "#8e0152"
            ],
            [
             0.1,
             "#c51b7d"
            ],
            [
             0.2,
             "#de77ae"
            ],
            [
             0.3,
             "#f1b6da"
            ],
            [
             0.4,
             "#fde0ef"
            ],
            [
             0.5,
             "#f7f7f7"
            ],
            [
             0.6,
             "#e6f5d0"
            ],
            [
             0.7,
             "#b8e186"
            ],
            [
             0.8,
             "#7fbc41"
            ],
            [
             0.9,
             "#4d9221"
            ],
            [
             1,
             "#276419"
            ]
           ],
           "sequential": [
            [
             0,
             "#0d0887"
            ],
            [
             0.1111111111111111,
             "#46039f"
            ],
            [
             0.2222222222222222,
             "#7201a8"
            ],
            [
             0.3333333333333333,
             "#9c179e"
            ],
            [
             0.4444444444444444,
             "#bd3786"
            ],
            [
             0.5555555555555556,
             "#d8576b"
            ],
            [
             0.6666666666666666,
             "#ed7953"
            ],
            [
             0.7777777777777778,
             "#fb9f3a"
            ],
            [
             0.8888888888888888,
             "#fdca26"
            ],
            [
             1,
             "#f0f921"
            ]
           ],
           "sequentialminus": [
            [
             0,
             "#0d0887"
            ],
            [
             0.1111111111111111,
             "#46039f"
            ],
            [
             0.2222222222222222,
             "#7201a8"
            ],
            [
             0.3333333333333333,
             "#9c179e"
            ],
            [
             0.4444444444444444,
             "#bd3786"
            ],
            [
             0.5555555555555556,
             "#d8576b"
            ],
            [
             0.6666666666666666,
             "#ed7953"
            ],
            [
             0.7777777777777778,
             "#fb9f3a"
            ],
            [
             0.8888888888888888,
             "#fdca26"
            ],
            [
             1,
             "#f0f921"
            ]
           ]
          },
          "colorway": [
           "#636efa",
           "#EF553B",
           "#00cc96",
           "#ab63fa",
           "#FFA15A",
           "#19d3f3",
           "#FF6692",
           "#B6E880",
           "#FF97FF",
           "#FECB52"
          ],
          "font": {
           "color": "#2a3f5f"
          },
          "geo": {
           "bgcolor": "white",
           "lakecolor": "white",
           "landcolor": "#E5ECF6",
           "showlakes": true,
           "showland": true,
           "subunitcolor": "white"
          },
          "hoverlabel": {
           "align": "left"
          },
          "hovermode": "closest",
          "mapbox": {
           "style": "light"
          },
          "paper_bgcolor": "white",
          "plot_bgcolor": "#E5ECF6",
          "polar": {
           "angularaxis": {
            "gridcolor": "white",
            "linecolor": "white",
            "ticks": ""
           },
           "bgcolor": "#E5ECF6",
           "radialaxis": {
            "gridcolor": "white",
            "linecolor": "white",
            "ticks": ""
           }
          },
          "scene": {
           "xaxis": {
            "backgroundcolor": "#E5ECF6",
            "gridcolor": "white",
            "gridwidth": 2,
            "linecolor": "white",
            "showbackground": true,
            "ticks": "",
            "zerolinecolor": "white"
           },
           "yaxis": {
            "backgroundcolor": "#E5ECF6",
            "gridcolor": "white",
            "gridwidth": 2,
            "linecolor": "white",
            "showbackground": true,
            "ticks": "",
            "zerolinecolor": "white"
           },
           "zaxis": {
            "backgroundcolor": "#E5ECF6",
            "gridcolor": "white",
            "gridwidth": 2,
            "linecolor": "white",
            "showbackground": true,
            "ticks": "",
            "zerolinecolor": "white"
           }
          },
          "shapedefaults": {
           "line": {
            "color": "#2a3f5f"
           }
          },
          "ternary": {
           "aaxis": {
            "gridcolor": "white",
            "linecolor": "white",
            "ticks": ""
           },
           "baxis": {
            "gridcolor": "white",
            "linecolor": "white",
            "ticks": ""
           },
           "bgcolor": "#E5ECF6",
           "caxis": {
            "gridcolor": "white",
            "linecolor": "white",
            "ticks": ""
           }
          },
          "title": {
           "x": 0.05
          },
          "xaxis": {
           "automargin": true,
           "gridcolor": "white",
           "linecolor": "white",
           "ticks": "",
           "title": {
            "standoff": 15
           },
           "zerolinecolor": "white",
           "zerolinewidth": 2
          },
          "yaxis": {
           "automargin": true,
           "gridcolor": "white",
           "linecolor": "white",
           "ticks": "",
           "title": {
            "standoff": 15
           },
           "zerolinecolor": "white",
           "zerolinewidth": 2
          }
         }
        },
        "title": {
         "text": "Distribution of Fuel Types"
        },
        "xaxis": {
         "anchor": "y",
         "categoryarray": [
          "Petrol",
          "Diesel",
          "CNG"
         ],
         "categoryorder": "array",
         "domain": [
          0,
          1
         ],
         "title": {
          "text": "Fuel Type"
         }
        },
        "yaxis": {
         "anchor": "x",
         "domain": [
          0,
          1
         ],
         "title": {
          "text": "Count"
         }
        }
       }
      }
     },
     "metadata": {},
     "output_type": "display_data"
    },
    {
     "data": {
      "application/vnd.plotly.v1+json": {
       "config": {
        "plotlyServerURL": "https://plot.ly"
       },
       "data": [
        {
         "alignmentgroup": "True",
         "bingroup": "x",
         "hovertemplate": "Seller Type=%{x}<br>count=%{y}<extra></extra>",
         "legendgroup": "",
         "marker": {
          "color": "#fc8d62",
          "pattern": {
           "shape": ""
          }
         },
         "name": "",
         "offsetgroup": "",
         "orientation": "v",
         "showlegend": false,
         "type": "histogram",
         "x": [
          "Dealer",
          "Dealer",
          "Dealer",
          "Dealer",
          "Dealer",
          "Dealer",
          "Dealer",
          "Dealer",
          "Dealer",
          "Dealer",
          "Dealer",
          "Dealer",
          "Dealer",
          "Dealer",
          "Dealer",
          "Dealer",
          "Dealer",
          "Dealer",
          "Dealer",
          "Dealer",
          "Dealer",
          "Dealer",
          "Dealer",
          "Dealer",
          "Dealer",
          "Dealer",
          "Dealer",
          "Individual",
          "Dealer",
          "Dealer",
          "Dealer",
          "Dealer",
          "Dealer",
          "Dealer",
          "Dealer",
          "Dealer",
          "Dealer",
          "Individual",
          "Dealer",
          "Dealer",
          "Dealer",
          "Dealer",
          "Dealer",
          "Dealer",
          "Dealer",
          "Dealer",
          "Dealer",
          "Dealer",
          "Dealer",
          "Dealer",
          "Dealer",
          "Dealer",
          "Dealer",
          "Individual",
          "Individual",
          "Dealer",
          "Dealer",
          "Dealer",
          "Dealer",
          "Dealer",
          "Dealer",
          "Dealer",
          "Dealer",
          "Dealer",
          "Dealer",
          "Dealer",
          "Dealer",
          "Dealer",
          "Dealer",
          "Dealer",
          "Dealer",
          "Dealer",
          "Dealer",
          "Dealer",
          "Dealer",
          "Dealer",
          "Dealer",
          "Dealer",
          "Dealer",
          "Dealer",
          "Dealer",
          "Dealer",
          "Dealer",
          "Dealer",
          "Dealer",
          "Individual",
          "Dealer",
          "Dealer",
          "Dealer",
          "Dealer",
          "Dealer",
          "Dealer",
          "Dealer",
          "Dealer",
          "Dealer",
          "Dealer",
          "Dealer",
          "Dealer",
          "Dealer",
          "Dealer",
          "Individual",
          "Individual",
          "Individual",
          "Individual",
          "Individual",
          "Individual",
          "Individual",
          "Individual",
          "Individual",
          "Individual",
          "Individual",
          "Individual",
          "Individual",
          "Individual",
          "Individual",
          "Individual",
          "Individual",
          "Individual",
          "Individual",
          "Individual",
          "Individual",
          "Individual",
          "Individual",
          "Individual",
          "Individual",
          "Individual",
          "Individual",
          "Individual",
          "Individual",
          "Individual",
          "Individual",
          "Individual",
          "Individual",
          "Individual",
          "Individual",
          "Individual",
          "Individual",
          "Individual",
          "Individual",
          "Individual",
          "Individual",
          "Individual",
          "Individual",
          "Individual",
          "Individual",
          "Individual",
          "Individual",
          "Individual",
          "Individual",
          "Individual",
          "Individual",
          "Individual",
          "Individual",
          "Individual",
          "Individual",
          "Individual",
          "Individual",
          "Individual",
          "Individual",
          "Individual",
          "Individual",
          "Individual",
          "Individual",
          "Individual",
          "Individual",
          "Individual",
          "Individual",
          "Individual",
          "Individual",
          "Individual",
          "Individual",
          "Individual",
          "Individual",
          "Individual",
          "Individual",
          "Individual",
          "Individual",
          "Individual",
          "Individual",
          "Individual",
          "Individual",
          "Individual",
          "Individual",
          "Individual",
          "Individual",
          "Individual",
          "Individual",
          "Individual",
          "Individual",
          "Individual",
          "Individual",
          "Individual",
          "Individual",
          "Individual",
          "Individual",
          "Individual",
          "Individual",
          "Individual",
          "Individual",
          "Individual",
          "Individual",
          "Dealer",
          "Dealer",
          "Dealer",
          "Dealer",
          "Dealer",
          "Dealer",
          "Dealer",
          "Dealer",
          "Dealer",
          "Dealer",
          "Dealer",
          "Dealer",
          "Dealer",
          "Dealer",
          "Dealer",
          "Dealer",
          "Dealer",
          "Dealer",
          "Dealer",
          "Dealer",
          "Dealer",
          "Dealer",
          "Dealer",
          "Dealer",
          "Dealer",
          "Dealer",
          "Dealer",
          "Dealer",
          "Dealer",
          "Dealer",
          "Dealer",
          "Dealer",
          "Dealer",
          "Dealer",
          "Dealer",
          "Dealer",
          "Dealer",
          "Dealer",
          "Dealer",
          "Dealer",
          "Dealer",
          "Dealer",
          "Dealer",
          "Dealer",
          "Dealer",
          "Dealer",
          "Dealer",
          "Dealer",
          "Dealer",
          "Dealer",
          "Dealer",
          "Dealer",
          "Dealer",
          "Dealer",
          "Dealer",
          "Dealer",
          "Dealer",
          "Dealer",
          "Dealer",
          "Dealer",
          "Dealer",
          "Dealer",
          "Dealer",
          "Dealer",
          "Dealer",
          "Dealer",
          "Dealer",
          "Dealer",
          "Dealer",
          "Dealer",
          "Dealer",
          "Dealer",
          "Dealer",
          "Dealer",
          "Dealer",
          "Dealer",
          "Dealer",
          "Dealer",
          "Dealer",
          "Dealer",
          "Dealer",
          "Dealer",
          "Dealer",
          "Dealer",
          "Dealer",
          "Dealer",
          "Dealer",
          "Dealer",
          "Dealer",
          "Dealer",
          "Dealer",
          "Dealer",
          "Dealer",
          "Dealer",
          "Dealer",
          "Dealer",
          "Dealer",
          "Dealer",
          "Dealer",
          "Dealer"
         ],
         "xaxis": "x",
         "yaxis": "y"
        }
       ],
       "layout": {
        "barmode": "relative",
        "legend": {
         "tracegroupgap": 0
        },
        "template": {
         "data": {
          "bar": [
           {
            "error_x": {
             "color": "#2a3f5f"
            },
            "error_y": {
             "color": "#2a3f5f"
            },
            "marker": {
             "line": {
              "color": "#E5ECF6",
              "width": 0.5
             },
             "pattern": {
              "fillmode": "overlay",
              "size": 10,
              "solidity": 0.2
             }
            },
            "type": "bar"
           }
          ],
          "barpolar": [
           {
            "marker": {
             "line": {
              "color": "#E5ECF6",
              "width": 0.5
             },
             "pattern": {
              "fillmode": "overlay",
              "size": 10,
              "solidity": 0.2
             }
            },
            "type": "barpolar"
           }
          ],
          "carpet": [
           {
            "aaxis": {
             "endlinecolor": "#2a3f5f",
             "gridcolor": "white",
             "linecolor": "white",
             "minorgridcolor": "white",
             "startlinecolor": "#2a3f5f"
            },
            "baxis": {
             "endlinecolor": "#2a3f5f",
             "gridcolor": "white",
             "linecolor": "white",
             "minorgridcolor": "white",
             "startlinecolor": "#2a3f5f"
            },
            "type": "carpet"
           }
          ],
          "choropleth": [
           {
            "colorbar": {
             "outlinewidth": 0,
             "ticks": ""
            },
            "type": "choropleth"
           }
          ],
          "contour": [
           {
            "colorbar": {
             "outlinewidth": 0,
             "ticks": ""
            },
            "colorscale": [
             [
              0,
              "#0d0887"
             ],
             [
              0.1111111111111111,
              "#46039f"
             ],
             [
              0.2222222222222222,
              "#7201a8"
             ],
             [
              0.3333333333333333,
              "#9c179e"
             ],
             [
              0.4444444444444444,
              "#bd3786"
             ],
             [
              0.5555555555555556,
              "#d8576b"
             ],
             [
              0.6666666666666666,
              "#ed7953"
             ],
             [
              0.7777777777777778,
              "#fb9f3a"
             ],
             [
              0.8888888888888888,
              "#fdca26"
             ],
             [
              1,
              "#f0f921"
             ]
            ],
            "type": "contour"
           }
          ],
          "contourcarpet": [
           {
            "colorbar": {
             "outlinewidth": 0,
             "ticks": ""
            },
            "type": "contourcarpet"
           }
          ],
          "heatmap": [
           {
            "colorbar": {
             "outlinewidth": 0,
             "ticks": ""
            },
            "colorscale": [
             [
              0,
              "#0d0887"
             ],
             [
              0.1111111111111111,
              "#46039f"
             ],
             [
              0.2222222222222222,
              "#7201a8"
             ],
             [
              0.3333333333333333,
              "#9c179e"
             ],
             [
              0.4444444444444444,
              "#bd3786"
             ],
             [
              0.5555555555555556,
              "#d8576b"
             ],
             [
              0.6666666666666666,
              "#ed7953"
             ],
             [
              0.7777777777777778,
              "#fb9f3a"
             ],
             [
              0.8888888888888888,
              "#fdca26"
             ],
             [
              1,
              "#f0f921"
             ]
            ],
            "type": "heatmap"
           }
          ],
          "heatmapgl": [
           {
            "colorbar": {
             "outlinewidth": 0,
             "ticks": ""
            },
            "colorscale": [
             [
              0,
              "#0d0887"
             ],
             [
              0.1111111111111111,
              "#46039f"
             ],
             [
              0.2222222222222222,
              "#7201a8"
             ],
             [
              0.3333333333333333,
              "#9c179e"
             ],
             [
              0.4444444444444444,
              "#bd3786"
             ],
             [
              0.5555555555555556,
              "#d8576b"
             ],
             [
              0.6666666666666666,
              "#ed7953"
             ],
             [
              0.7777777777777778,
              "#fb9f3a"
             ],
             [
              0.8888888888888888,
              "#fdca26"
             ],
             [
              1,
              "#f0f921"
             ]
            ],
            "type": "heatmapgl"
           }
          ],
          "histogram": [
           {
            "marker": {
             "pattern": {
              "fillmode": "overlay",
              "size": 10,
              "solidity": 0.2
             }
            },
            "type": "histogram"
           }
          ],
          "histogram2d": [
           {
            "colorbar": {
             "outlinewidth": 0,
             "ticks": ""
            },
            "colorscale": [
             [
              0,
              "#0d0887"
             ],
             [
              0.1111111111111111,
              "#46039f"
             ],
             [
              0.2222222222222222,
              "#7201a8"
             ],
             [
              0.3333333333333333,
              "#9c179e"
             ],
             [
              0.4444444444444444,
              "#bd3786"
             ],
             [
              0.5555555555555556,
              "#d8576b"
             ],
             [
              0.6666666666666666,
              "#ed7953"
             ],
             [
              0.7777777777777778,
              "#fb9f3a"
             ],
             [
              0.8888888888888888,
              "#fdca26"
             ],
             [
              1,
              "#f0f921"
             ]
            ],
            "type": "histogram2d"
           }
          ],
          "histogram2dcontour": [
           {
            "colorbar": {
             "outlinewidth": 0,
             "ticks": ""
            },
            "colorscale": [
             [
              0,
              "#0d0887"
             ],
             [
              0.1111111111111111,
              "#46039f"
             ],
             [
              0.2222222222222222,
              "#7201a8"
             ],
             [
              0.3333333333333333,
              "#9c179e"
             ],
             [
              0.4444444444444444,
              "#bd3786"
             ],
             [
              0.5555555555555556,
              "#d8576b"
             ],
             [
              0.6666666666666666,
              "#ed7953"
             ],
             [
              0.7777777777777778,
              "#fb9f3a"
             ],
             [
              0.8888888888888888,
              "#fdca26"
             ],
             [
              1,
              "#f0f921"
             ]
            ],
            "type": "histogram2dcontour"
           }
          ],
          "mesh3d": [
           {
            "colorbar": {
             "outlinewidth": 0,
             "ticks": ""
            },
            "type": "mesh3d"
           }
          ],
          "parcoords": [
           {
            "line": {
             "colorbar": {
              "outlinewidth": 0,
              "ticks": ""
             }
            },
            "type": "parcoords"
           }
          ],
          "pie": [
           {
            "automargin": true,
            "type": "pie"
           }
          ],
          "scatter": [
           {
            "fillpattern": {
             "fillmode": "overlay",
             "size": 10,
             "solidity": 0.2
            },
            "type": "scatter"
           }
          ],
          "scatter3d": [
           {
            "line": {
             "colorbar": {
              "outlinewidth": 0,
              "ticks": ""
             }
            },
            "marker": {
             "colorbar": {
              "outlinewidth": 0,
              "ticks": ""
             }
            },
            "type": "scatter3d"
           }
          ],
          "scattercarpet": [
           {
            "marker": {
             "colorbar": {
              "outlinewidth": 0,
              "ticks": ""
             }
            },
            "type": "scattercarpet"
           }
          ],
          "scattergeo": [
           {
            "marker": {
             "colorbar": {
              "outlinewidth": 0,
              "ticks": ""
             }
            },
            "type": "scattergeo"
           }
          ],
          "scattergl": [
           {
            "marker": {
             "colorbar": {
              "outlinewidth": 0,
              "ticks": ""
             }
            },
            "type": "scattergl"
           }
          ],
          "scattermapbox": [
           {
            "marker": {
             "colorbar": {
              "outlinewidth": 0,
              "ticks": ""
             }
            },
            "type": "scattermapbox"
           }
          ],
          "scatterpolar": [
           {
            "marker": {
             "colorbar": {
              "outlinewidth": 0,
              "ticks": ""
             }
            },
            "type": "scatterpolar"
           }
          ],
          "scatterpolargl": [
           {
            "marker": {
             "colorbar": {
              "outlinewidth": 0,
              "ticks": ""
             }
            },
            "type": "scatterpolargl"
           }
          ],
          "scatterternary": [
           {
            "marker": {
             "colorbar": {
              "outlinewidth": 0,
              "ticks": ""
             }
            },
            "type": "scatterternary"
           }
          ],
          "surface": [
           {
            "colorbar": {
             "outlinewidth": 0,
             "ticks": ""
            },
            "colorscale": [
             [
              0,
              "#0d0887"
             ],
             [
              0.1111111111111111,
              "#46039f"
             ],
             [
              0.2222222222222222,
              "#7201a8"
             ],
             [
              0.3333333333333333,
              "#9c179e"
             ],
             [
              0.4444444444444444,
              "#bd3786"
             ],
             [
              0.5555555555555556,
              "#d8576b"
             ],
             [
              0.6666666666666666,
              "#ed7953"
             ],
             [
              0.7777777777777778,
              "#fb9f3a"
             ],
             [
              0.8888888888888888,
              "#fdca26"
             ],
             [
              1,
              "#f0f921"
             ]
            ],
            "type": "surface"
           }
          ],
          "table": [
           {
            "cells": {
             "fill": {
              "color": "#EBF0F8"
             },
             "line": {
              "color": "white"
             }
            },
            "header": {
             "fill": {
              "color": "#C8D4E3"
             },
             "line": {
              "color": "white"
             }
            },
            "type": "table"
           }
          ]
         },
         "layout": {
          "annotationdefaults": {
           "arrowcolor": "#2a3f5f",
           "arrowhead": 0,
           "arrowwidth": 1
          },
          "autotypenumbers": "strict",
          "coloraxis": {
           "colorbar": {
            "outlinewidth": 0,
            "ticks": ""
           }
          },
          "colorscale": {
           "diverging": [
            [
             0,
             "#8e0152"
            ],
            [
             0.1,
             "#c51b7d"
            ],
            [
             0.2,
             "#de77ae"
            ],
            [
             0.3,
             "#f1b6da"
            ],
            [
             0.4,
             "#fde0ef"
            ],
            [
             0.5,
             "#f7f7f7"
            ],
            [
             0.6,
             "#e6f5d0"
            ],
            [
             0.7,
             "#b8e186"
            ],
            [
             0.8,
             "#7fbc41"
            ],
            [
             0.9,
             "#4d9221"
            ],
            [
             1,
             "#276419"
            ]
           ],
           "sequential": [
            [
             0,
             "#0d0887"
            ],
            [
             0.1111111111111111,
             "#46039f"
            ],
            [
             0.2222222222222222,
             "#7201a8"
            ],
            [
             0.3333333333333333,
             "#9c179e"
            ],
            [
             0.4444444444444444,
             "#bd3786"
            ],
            [
             0.5555555555555556,
             "#d8576b"
            ],
            [
             0.6666666666666666,
             "#ed7953"
            ],
            [
             0.7777777777777778,
             "#fb9f3a"
            ],
            [
             0.8888888888888888,
             "#fdca26"
            ],
            [
             1,
             "#f0f921"
            ]
           ],
           "sequentialminus": [
            [
             0,
             "#0d0887"
            ],
            [
             0.1111111111111111,
             "#46039f"
            ],
            [
             0.2222222222222222,
             "#7201a8"
            ],
            [
             0.3333333333333333,
             "#9c179e"
            ],
            [
             0.4444444444444444,
             "#bd3786"
            ],
            [
             0.5555555555555556,
             "#d8576b"
            ],
            [
             0.6666666666666666,
             "#ed7953"
            ],
            [
             0.7777777777777778,
             "#fb9f3a"
            ],
            [
             0.8888888888888888,
             "#fdca26"
            ],
            [
             1,
             "#f0f921"
            ]
           ]
          },
          "colorway": [
           "#636efa",
           "#EF553B",
           "#00cc96",
           "#ab63fa",
           "#FFA15A",
           "#19d3f3",
           "#FF6692",
           "#B6E880",
           "#FF97FF",
           "#FECB52"
          ],
          "font": {
           "color": "#2a3f5f"
          },
          "geo": {
           "bgcolor": "white",
           "lakecolor": "white",
           "landcolor": "#E5ECF6",
           "showlakes": true,
           "showland": true,
           "subunitcolor": "white"
          },
          "hoverlabel": {
           "align": "left"
          },
          "hovermode": "closest",
          "mapbox": {
           "style": "light"
          },
          "paper_bgcolor": "white",
          "plot_bgcolor": "#E5ECF6",
          "polar": {
           "angularaxis": {
            "gridcolor": "white",
            "linecolor": "white",
            "ticks": ""
           },
           "bgcolor": "#E5ECF6",
           "radialaxis": {
            "gridcolor": "white",
            "linecolor": "white",
            "ticks": ""
           }
          },
          "scene": {
           "xaxis": {
            "backgroundcolor": "#E5ECF6",
            "gridcolor": "white",
            "gridwidth": 2,
            "linecolor": "white",
            "showbackground": true,
            "ticks": "",
            "zerolinecolor": "white"
           },
           "yaxis": {
            "backgroundcolor": "#E5ECF6",
            "gridcolor": "white",
            "gridwidth": 2,
            "linecolor": "white",
            "showbackground": true,
            "ticks": "",
            "zerolinecolor": "white"
           },
           "zaxis": {
            "backgroundcolor": "#E5ECF6",
            "gridcolor": "white",
            "gridwidth": 2,
            "linecolor": "white",
            "showbackground": true,
            "ticks": "",
            "zerolinecolor": "white"
           }
          },
          "shapedefaults": {
           "line": {
            "color": "#2a3f5f"
           }
          },
          "ternary": {
           "aaxis": {
            "gridcolor": "white",
            "linecolor": "white",
            "ticks": ""
           },
           "baxis": {
            "gridcolor": "white",
            "linecolor": "white",
            "ticks": ""
           },
           "bgcolor": "#E5ECF6",
           "caxis": {
            "gridcolor": "white",
            "linecolor": "white",
            "ticks": ""
           }
          },
          "title": {
           "x": 0.05
          },
          "xaxis": {
           "automargin": true,
           "gridcolor": "white",
           "linecolor": "white",
           "ticks": "",
           "title": {
            "standoff": 15
           },
           "zerolinecolor": "white",
           "zerolinewidth": 2
          },
          "yaxis": {
           "automargin": true,
           "gridcolor": "white",
           "linecolor": "white",
           "ticks": "",
           "title": {
            "standoff": 15
           },
           "zerolinecolor": "white",
           "zerolinewidth": 2
          }
         }
        },
        "title": {
         "text": "Distribution of Seller Types"
        },
        "xaxis": {
         "anchor": "y",
         "domain": [
          0,
          1
         ],
         "title": {
          "text": "Seller Type"
         }
        },
        "yaxis": {
         "anchor": "x",
         "domain": [
          0,
          1
         ],
         "title": {
          "text": "Count"
         }
        }
       }
      }
     },
     "metadata": {},
     "output_type": "display_data"
    },
    {
     "data": {
      "application/vnd.plotly.v1+json": {
       "config": {
        "plotlyServerURL": "https://plot.ly"
       },
       "data": [
        {
         "alignmentgroup": "True",
         "bingroup": "x",
         "hovertemplate": "Transmission Type=%{x}<br>count=%{y}<extra></extra>",
         "legendgroup": "",
         "marker": {
          "color": "#8da0cb",
          "pattern": {
           "shape": ""
          }
         },
         "name": "",
         "offsetgroup": "",
         "orientation": "v",
         "showlegend": false,
         "type": "histogram",
         "x": [
          "Manual",
          "Manual",
          "Manual",
          "Manual",
          "Manual",
          "Manual",
          "Manual",
          "Manual",
          "Manual",
          "Manual",
          "Manual",
          "Manual",
          "Automatic",
          "Manual",
          "Manual",
          "Manual",
          "Manual",
          "Manual",
          "Manual",
          "Manual",
          "Manual",
          "Manual",
          "Automatic",
          "Manual",
          "Manual",
          "Manual",
          "Manual",
          "Manual",
          "Manual",
          "Manual",
          "Manual",
          "Manual",
          "Manual",
          "Manual",
          "Manual",
          "Manual",
          "Manual",
          "Manual",
          "Manual",
          "Manual",
          "Automatic",
          "Manual",
          "Manual",
          "Manual",
          "Manual",
          "Automatic",
          "Manual",
          "Manual",
          "Manual",
          "Automatic",
          "Automatic",
          "Automatic",
          "Automatic",
          "Automatic",
          "Manual",
          "Automatic",
          "Manual",
          "Manual",
          "Manual",
          "Automatic",
          "Manual",
          "Manual",
          "Automatic",
          "Automatic",
          "Automatic",
          "Manual",
          "Automatic",
          "Manual",
          "Manual",
          "Manual",
          "Manual",
          "Manual",
          "Manual",
          "Manual",
          "Manual",
          "Manual",
          "Manual",
          "Automatic",
          "Automatic",
          "Automatic",
          "Manual",
          "Manual",
          "Automatic",
          "Manual",
          "Manual",
          "Automatic",
          "Manual",
          "Manual",
          "Manual",
          "Manual",
          "Manual",
          "Manual",
          "Manual",
          "Automatic",
          "Automatic",
          "Manual",
          "Automatic",
          "Manual",
          "Manual",
          "Manual",
          "Manual",
          "Manual",
          "Manual",
          "Manual",
          "Manual",
          "Manual",
          "Manual",
          "Manual",
          "Manual",
          "Manual",
          "Manual",
          "Manual",
          "Manual",
          "Manual",
          "Manual",
          "Manual",
          "Manual",
          "Manual",
          "Manual",
          "Manual",
          "Manual",
          "Manual",
          "Manual",
          "Manual",
          "Manual",
          "Manual",
          "Manual",
          "Manual",
          "Manual",
          "Manual",
          "Manual",
          "Manual",
          "Manual",
          "Manual",
          "Manual",
          "Manual",
          "Manual",
          "Manual",
          "Manual",
          "Manual",
          "Manual",
          "Manual",
          "Manual",
          "Manual",
          "Manual",
          "Manual",
          "Manual",
          "Manual",
          "Manual",
          "Manual",
          "Manual",
          "Manual",
          "Manual",
          "Manual",
          "Manual",
          "Automatic",
          "Manual",
          "Manual",
          "Manual",
          "Automatic",
          "Manual",
          "Manual",
          "Manual",
          "Manual",
          "Manual",
          "Automatic",
          "Manual",
          "Manual",
          "Manual",
          "Manual",
          "Manual",
          "Manual",
          "Manual",
          "Automatic",
          "Manual",
          "Manual",
          "Manual",
          "Automatic",
          "Automatic",
          "Manual",
          "Manual",
          "Manual",
          "Manual",
          "Manual",
          "Manual",
          "Automatic",
          "Automatic",
          "Manual",
          "Manual",
          "Manual",
          "Manual",
          "Manual",
          "Manual",
          "Manual",
          "Manual",
          "Manual",
          "Automatic",
          "Manual",
          "Manual",
          "Manual",
          "Manual",
          "Manual",
          "Manual",
          "Manual",
          "Manual",
          "Manual",
          "Manual",
          "Automatic",
          "Manual",
          "Manual",
          "Manual",
          "Manual",
          "Manual",
          "Manual",
          "Manual",
          "Manual",
          "Manual",
          "Manual",
          "Manual",
          "Manual",
          "Manual",
          "Automatic",
          "Manual",
          "Manual",
          "Automatic",
          "Manual",
          "Manual",
          "Manual",
          "Manual",
          "Manual",
          "Manual",
          "Manual",
          "Automatic",
          "Manual",
          "Manual",
          "Manual",
          "Manual",
          "Manual",
          "Manual",
          "Manual",
          "Manual",
          "Manual",
          "Manual",
          "Manual",
          "Manual",
          "Manual",
          "Manual",
          "Manual",
          "Manual",
          "Manual",
          "Manual",
          "Manual",
          "Automatic",
          "Manual",
          "Manual",
          "Manual",
          "Manual",
          "Manual",
          "Manual",
          "Manual",
          "Manual",
          "Manual",
          "Manual",
          "Manual",
          "Manual",
          "Manual",
          "Manual",
          "Manual",
          "Manual",
          "Manual",
          "Manual",
          "Manual",
          "Manual",
          "Manual",
          "Manual",
          "Automatic",
          "Manual",
          "Manual",
          "Manual",
          "Manual",
          "Manual",
          "Manual",
          "Manual",
          "Manual",
          "Manual",
          "Automatic",
          "Manual",
          "Automatic",
          "Manual",
          "Manual",
          "Manual",
          "Manual",
          "Manual",
          "Manual",
          "Manual",
          "Manual",
          "Manual",
          "Manual",
          "Manual",
          "Manual",
          "Manual"
         ],
         "xaxis": "x",
         "yaxis": "y"
        }
       ],
       "layout": {
        "barmode": "relative",
        "legend": {
         "tracegroupgap": 0
        },
        "template": {
         "data": {
          "bar": [
           {
            "error_x": {
             "color": "#2a3f5f"
            },
            "error_y": {
             "color": "#2a3f5f"
            },
            "marker": {
             "line": {
              "color": "#E5ECF6",
              "width": 0.5
             },
             "pattern": {
              "fillmode": "overlay",
              "size": 10,
              "solidity": 0.2
             }
            },
            "type": "bar"
           }
          ],
          "barpolar": [
           {
            "marker": {
             "line": {
              "color": "#E5ECF6",
              "width": 0.5
             },
             "pattern": {
              "fillmode": "overlay",
              "size": 10,
              "solidity": 0.2
             }
            },
            "type": "barpolar"
           }
          ],
          "carpet": [
           {
            "aaxis": {
             "endlinecolor": "#2a3f5f",
             "gridcolor": "white",
             "linecolor": "white",
             "minorgridcolor": "white",
             "startlinecolor": "#2a3f5f"
            },
            "baxis": {
             "endlinecolor": "#2a3f5f",
             "gridcolor": "white",
             "linecolor": "white",
             "minorgridcolor": "white",
             "startlinecolor": "#2a3f5f"
            },
            "type": "carpet"
           }
          ],
          "choropleth": [
           {
            "colorbar": {
             "outlinewidth": 0,
             "ticks": ""
            },
            "type": "choropleth"
           }
          ],
          "contour": [
           {
            "colorbar": {
             "outlinewidth": 0,
             "ticks": ""
            },
            "colorscale": [
             [
              0,
              "#0d0887"
             ],
             [
              0.1111111111111111,
              "#46039f"
             ],
             [
              0.2222222222222222,
              "#7201a8"
             ],
             [
              0.3333333333333333,
              "#9c179e"
             ],
             [
              0.4444444444444444,
              "#bd3786"
             ],
             [
              0.5555555555555556,
              "#d8576b"
             ],
             [
              0.6666666666666666,
              "#ed7953"
             ],
             [
              0.7777777777777778,
              "#fb9f3a"
             ],
             [
              0.8888888888888888,
              "#fdca26"
             ],
             [
              1,
              "#f0f921"
             ]
            ],
            "type": "contour"
           }
          ],
          "contourcarpet": [
           {
            "colorbar": {
             "outlinewidth": 0,
             "ticks": ""
            },
            "type": "contourcarpet"
           }
          ],
          "heatmap": [
           {
            "colorbar": {
             "outlinewidth": 0,
             "ticks": ""
            },
            "colorscale": [
             [
              0,
              "#0d0887"
             ],
             [
              0.1111111111111111,
              "#46039f"
             ],
             [
              0.2222222222222222,
              "#7201a8"
             ],
             [
              0.3333333333333333,
              "#9c179e"
             ],
             [
              0.4444444444444444,
              "#bd3786"
             ],
             [
              0.5555555555555556,
              "#d8576b"
             ],
             [
              0.6666666666666666,
              "#ed7953"
             ],
             [
              0.7777777777777778,
              "#fb9f3a"
             ],
             [
              0.8888888888888888,
              "#fdca26"
             ],
             [
              1,
              "#f0f921"
             ]
            ],
            "type": "heatmap"
           }
          ],
          "heatmapgl": [
           {
            "colorbar": {
             "outlinewidth": 0,
             "ticks": ""
            },
            "colorscale": [
             [
              0,
              "#0d0887"
             ],
             [
              0.1111111111111111,
              "#46039f"
             ],
             [
              0.2222222222222222,
              "#7201a8"
             ],
             [
              0.3333333333333333,
              "#9c179e"
             ],
             [
              0.4444444444444444,
              "#bd3786"
             ],
             [
              0.5555555555555556,
              "#d8576b"
             ],
             [
              0.6666666666666666,
              "#ed7953"
             ],
             [
              0.7777777777777778,
              "#fb9f3a"
             ],
             [
              0.8888888888888888,
              "#fdca26"
             ],
             [
              1,
              "#f0f921"
             ]
            ],
            "type": "heatmapgl"
           }
          ],
          "histogram": [
           {
            "marker": {
             "pattern": {
              "fillmode": "overlay",
              "size": 10,
              "solidity": 0.2
             }
            },
            "type": "histogram"
           }
          ],
          "histogram2d": [
           {
            "colorbar": {
             "outlinewidth": 0,
             "ticks": ""
            },
            "colorscale": [
             [
              0,
              "#0d0887"
             ],
             [
              0.1111111111111111,
              "#46039f"
             ],
             [
              0.2222222222222222,
              "#7201a8"
             ],
             [
              0.3333333333333333,
              "#9c179e"
             ],
             [
              0.4444444444444444,
              "#bd3786"
             ],
             [
              0.5555555555555556,
              "#d8576b"
             ],
             [
              0.6666666666666666,
              "#ed7953"
             ],
             [
              0.7777777777777778,
              "#fb9f3a"
             ],
             [
              0.8888888888888888,
              "#fdca26"
             ],
             [
              1,
              "#f0f921"
             ]
            ],
            "type": "histogram2d"
           }
          ],
          "histogram2dcontour": [
           {
            "colorbar": {
             "outlinewidth": 0,
             "ticks": ""
            },
            "colorscale": [
             [
              0,
              "#0d0887"
             ],
             [
              0.1111111111111111,
              "#46039f"
             ],
             [
              0.2222222222222222,
              "#7201a8"
             ],
             [
              0.3333333333333333,
              "#9c179e"
             ],
             [
              0.4444444444444444,
              "#bd3786"
             ],
             [
              0.5555555555555556,
              "#d8576b"
             ],
             [
              0.6666666666666666,
              "#ed7953"
             ],
             [
              0.7777777777777778,
              "#fb9f3a"
             ],
             [
              0.8888888888888888,
              "#fdca26"
             ],
             [
              1,
              "#f0f921"
             ]
            ],
            "type": "histogram2dcontour"
           }
          ],
          "mesh3d": [
           {
            "colorbar": {
             "outlinewidth": 0,
             "ticks": ""
            },
            "type": "mesh3d"
           }
          ],
          "parcoords": [
           {
            "line": {
             "colorbar": {
              "outlinewidth": 0,
              "ticks": ""
             }
            },
            "type": "parcoords"
           }
          ],
          "pie": [
           {
            "automargin": true,
            "type": "pie"
           }
          ],
          "scatter": [
           {
            "fillpattern": {
             "fillmode": "overlay",
             "size": 10,
             "solidity": 0.2
            },
            "type": "scatter"
           }
          ],
          "scatter3d": [
           {
            "line": {
             "colorbar": {
              "outlinewidth": 0,
              "ticks": ""
             }
            },
            "marker": {
             "colorbar": {
              "outlinewidth": 0,
              "ticks": ""
             }
            },
            "type": "scatter3d"
           }
          ],
          "scattercarpet": [
           {
            "marker": {
             "colorbar": {
              "outlinewidth": 0,
              "ticks": ""
             }
            },
            "type": "scattercarpet"
           }
          ],
          "scattergeo": [
           {
            "marker": {
             "colorbar": {
              "outlinewidth": 0,
              "ticks": ""
             }
            },
            "type": "scattergeo"
           }
          ],
          "scattergl": [
           {
            "marker": {
             "colorbar": {
              "outlinewidth": 0,
              "ticks": ""
             }
            },
            "type": "scattergl"
           }
          ],
          "scattermapbox": [
           {
            "marker": {
             "colorbar": {
              "outlinewidth": 0,
              "ticks": ""
             }
            },
            "type": "scattermapbox"
           }
          ],
          "scatterpolar": [
           {
            "marker": {
             "colorbar": {
              "outlinewidth": 0,
              "ticks": ""
             }
            },
            "type": "scatterpolar"
           }
          ],
          "scatterpolargl": [
           {
            "marker": {
             "colorbar": {
              "outlinewidth": 0,
              "ticks": ""
             }
            },
            "type": "scatterpolargl"
           }
          ],
          "scatterternary": [
           {
            "marker": {
             "colorbar": {
              "outlinewidth": 0,
              "ticks": ""
             }
            },
            "type": "scatterternary"
           }
          ],
          "surface": [
           {
            "colorbar": {
             "outlinewidth": 0,
             "ticks": ""
            },
            "colorscale": [
             [
              0,
              "#0d0887"
             ],
             [
              0.1111111111111111,
              "#46039f"
             ],
             [
              0.2222222222222222,
              "#7201a8"
             ],
             [
              0.3333333333333333,
              "#9c179e"
             ],
             [
              0.4444444444444444,
              "#bd3786"
             ],
             [
              0.5555555555555556,
              "#d8576b"
             ],
             [
              0.6666666666666666,
              "#ed7953"
             ],
             [
              0.7777777777777778,
              "#fb9f3a"
             ],
             [
              0.8888888888888888,
              "#fdca26"
             ],
             [
              1,
              "#f0f921"
             ]
            ],
            "type": "surface"
           }
          ],
          "table": [
           {
            "cells": {
             "fill": {
              "color": "#EBF0F8"
             },
             "line": {
              "color": "white"
             }
            },
            "header": {
             "fill": {
              "color": "#C8D4E3"
             },
             "line": {
              "color": "white"
             }
            },
            "type": "table"
           }
          ]
         },
         "layout": {
          "annotationdefaults": {
           "arrowcolor": "#2a3f5f",
           "arrowhead": 0,
           "arrowwidth": 1
          },
          "autotypenumbers": "strict",
          "coloraxis": {
           "colorbar": {
            "outlinewidth": 0,
            "ticks": ""
           }
          },
          "colorscale": {
           "diverging": [
            [
             0,
             "#8e0152"
            ],
            [
             0.1,
             "#c51b7d"
            ],
            [
             0.2,
             "#de77ae"
            ],
            [
             0.3,
             "#f1b6da"
            ],
            [
             0.4,
             "#fde0ef"
            ],
            [
             0.5,
             "#f7f7f7"
            ],
            [
             0.6,
             "#e6f5d0"
            ],
            [
             0.7,
             "#b8e186"
            ],
            [
             0.8,
             "#7fbc41"
            ],
            [
             0.9,
             "#4d9221"
            ],
            [
             1,
             "#276419"
            ]
           ],
           "sequential": [
            [
             0,
             "#0d0887"
            ],
            [
             0.1111111111111111,
             "#46039f"
            ],
            [
             0.2222222222222222,
             "#7201a8"
            ],
            [
             0.3333333333333333,
             "#9c179e"
            ],
            [
             0.4444444444444444,
             "#bd3786"
            ],
            [
             0.5555555555555556,
             "#d8576b"
            ],
            [
             0.6666666666666666,
             "#ed7953"
            ],
            [
             0.7777777777777778,
             "#fb9f3a"
            ],
            [
             0.8888888888888888,
             "#fdca26"
            ],
            [
             1,
             "#f0f921"
            ]
           ],
           "sequentialminus": [
            [
             0,
             "#0d0887"
            ],
            [
             0.1111111111111111,
             "#46039f"
            ],
            [
             0.2222222222222222,
             "#7201a8"
            ],
            [
             0.3333333333333333,
             "#9c179e"
            ],
            [
             0.4444444444444444,
             "#bd3786"
            ],
            [
             0.5555555555555556,
             "#d8576b"
            ],
            [
             0.6666666666666666,
             "#ed7953"
            ],
            [
             0.7777777777777778,
             "#fb9f3a"
            ],
            [
             0.8888888888888888,
             "#fdca26"
            ],
            [
             1,
             "#f0f921"
            ]
           ]
          },
          "colorway": [
           "#636efa",
           "#EF553B",
           "#00cc96",
           "#ab63fa",
           "#FFA15A",
           "#19d3f3",
           "#FF6692",
           "#B6E880",
           "#FF97FF",
           "#FECB52"
          ],
          "font": {
           "color": "#2a3f5f"
          },
          "geo": {
           "bgcolor": "white",
           "lakecolor": "white",
           "landcolor": "#E5ECF6",
           "showlakes": true,
           "showland": true,
           "subunitcolor": "white"
          },
          "hoverlabel": {
           "align": "left"
          },
          "hovermode": "closest",
          "mapbox": {
           "style": "light"
          },
          "paper_bgcolor": "white",
          "plot_bgcolor": "#E5ECF6",
          "polar": {
           "angularaxis": {
            "gridcolor": "white",
            "linecolor": "white",
            "ticks": ""
           },
           "bgcolor": "#E5ECF6",
           "radialaxis": {
            "gridcolor": "white",
            "linecolor": "white",
            "ticks": ""
           }
          },
          "scene": {
           "xaxis": {
            "backgroundcolor": "#E5ECF6",
            "gridcolor": "white",
            "gridwidth": 2,
            "linecolor": "white",
            "showbackground": true,
            "ticks": "",
            "zerolinecolor": "white"
           },
           "yaxis": {
            "backgroundcolor": "#E5ECF6",
            "gridcolor": "white",
            "gridwidth": 2,
            "linecolor": "white",
            "showbackground": true,
            "ticks": "",
            "zerolinecolor": "white"
           },
           "zaxis": {
            "backgroundcolor": "#E5ECF6",
            "gridcolor": "white",
            "gridwidth": 2,
            "linecolor": "white",
            "showbackground": true,
            "ticks": "",
            "zerolinecolor": "white"
           }
          },
          "shapedefaults": {
           "line": {
            "color": "#2a3f5f"
           }
          },
          "ternary": {
           "aaxis": {
            "gridcolor": "white",
            "linecolor": "white",
            "ticks": ""
           },
           "baxis": {
            "gridcolor": "white",
            "linecolor": "white",
            "ticks": ""
           },
           "bgcolor": "#E5ECF6",
           "caxis": {
            "gridcolor": "white",
            "linecolor": "white",
            "ticks": ""
           }
          },
          "title": {
           "x": 0.05
          },
          "xaxis": {
           "automargin": true,
           "gridcolor": "white",
           "linecolor": "white",
           "ticks": "",
           "title": {
            "standoff": 15
           },
           "zerolinecolor": "white",
           "zerolinewidth": 2
          },
          "yaxis": {
           "automargin": true,
           "gridcolor": "white",
           "linecolor": "white",
           "ticks": "",
           "title": {
            "standoff": 15
           },
           "zerolinecolor": "white",
           "zerolinewidth": 2
          }
         }
        },
        "title": {
         "text": "Distribution of Transmission Types"
        },
        "xaxis": {
         "anchor": "y",
         "domain": [
          0,
          1
         ],
         "title": {
          "text": "Transmission Type"
         }
        },
        "yaxis": {
         "anchor": "x",
         "domain": [
          0,
          1
         ],
         "title": {
          "text": "Count"
         }
        }
       }
      }
     },
     "metadata": {},
     "output_type": "display_data"
    }
   ],
   "source": [
    "\n",
    "# Count Plot for Fuel_Type\n",
    "fig_fuel_type = px.histogram(Data, x='Fuel_Type', title='Distribution of Fuel Types',\n",
    "                              labels={'Fuel_Type': 'Fuel Type', 'count': 'Count'},\n",
    "                              category_orders={'Fuel_Type': ['Petrol', 'Diesel', 'CNG']},\n",
    "                              color_discrete_sequence=['#66c2a5'])\n",
    "fig_fuel_type.update_layout(xaxis_title='Fuel Type', yaxis_title='Count')\n",
    "\n",
    "# Count Plot for Seller_Type\n",
    "fig_seller_type = px.histogram(Data, x='Seller_Type', title='Distribution of Seller Types',\n",
    "                                labels={'Seller_Type': 'Seller Type', 'count': 'Count'},\n",
    "                                color_discrete_sequence=['#fc8d62'])\n",
    "fig_seller_type.update_layout(xaxis_title='Seller Type', yaxis_title='Count')\n",
    "\n",
    "# Count Plot for Transmission\n",
    "fig_transmission = px.histogram(Data, x='Transmission', title='Distribution of Transmission Types',\n",
    "                                 labels={'Transmission': 'Transmission Type', 'count': 'Count'},\n",
    "                                 color_discrete_sequence=['#8da0cb'])\n",
    "fig_transmission.update_layout(xaxis_title='Transmission Type', yaxis_title='Count')\n",
    "\n",
    "# Show the plots\n",
    "fig_fuel_type.show()\n",
    "fig_seller_type.show()\n",
    "fig_transmission.show()\n"
   ]
  },
  {
   "cell_type": "code",
   "execution_count": 16,
   "metadata": {},
   "outputs": [
    {
     "data": {
      "application/vnd.plotly.v1+json": {
       "config": {
        "plotlyServerURL": "https://plot.ly"
       },
       "data": [
        {
         "alignmentgroup": "True",
         "hovertemplate": "Car Name=%{x}<br>Count=%{y}<extra></extra>",
         "legendgroup": "",
         "marker": {
          "color": "#636efa",
          "pattern": {
           "shape": ""
          }
         },
         "name": "",
         "offsetgroup": "",
         "orientation": "v",
         "showlegend": false,
         "textposition": "auto",
         "type": "bar",
         "x": [
          "city",
          "corolla altis",
          "verna",
          "fortuner",
          "brio",
          "ciaz",
          "innova",
          "i20",
          "grand i10",
          "jazz",
          "amaze",
          "Royal Enfield Classic 350",
          "ertiga",
          "eon",
          "sx4",
          "alto k10",
          "i10",
          "swift",
          "Bajaj Pulsar 150",
          "Royal Enfield Thunder 350",
          "ritz",
          "wagon r",
          "etios liva",
          "dzire",
          "xcent",
          "etios cross",
          "Royal Enfield Thunder 500",
          "TVS Apache RTR 160",
          "Yamaha FZ S V 2.0",
          "creta",
          "Honda CB Hornet 160R",
          "etios g",
          "Bajaj Avenger 220",
          "Bajaj Pulsar NS 200",
          "Bajaj Discover 125",
          "Bajaj Pulsar 220 F",
          "TVS Apache RTR 180",
          "Yamaha FZ  v 2.0",
          "Honda Activa 4G",
          "Hero Extreme",
          "Honda CB twister",
          "Hero Splender iSmart",
          "Activa 3g",
          "Hero Passion Pro",
          "Honda CB Shine",
          "Bajaj Avenger 220 dtsi",
          "Honda CBR 150",
          "elantra",
          "Royal Enfield Classic 500",
          "KTM RC200",
          "Honda Karizma",
          "Bajaj  ct 100",
          "Hero  Ignitor Disc",
          "TVS Jupyter",
          "Hero Honda Passion Pro",
          "Hero Splender Plus",
          "vitara brezza",
          "Bajaj Discover 100",
          "Suzuki Access 125",
          "s cross",
          "alto 800",
          "baleno",
          "TVS Wego",
          "Hero  CBZ Xtreme",
          "Hero Glamour",
          "ignis",
          "Hero Super Splendor",
          "800",
          "Hero Hunk",
          "Honda Activa 125",
          "corolla",
          "Hero Honda CBZ extreme",
          "Yamaha FZ 16",
          "camry",
          "land cruiser",
          "UM Renegade Mojave",
          "Bajaj Dominar 400",
          "KTM RC390",
          "Hyosung GT250R",
          "KTM 390 Duke ",
          "Mahindra Mojo XT300",
          "Bajaj Pulsar RS200",
          "Royal Enfield Bullet 350",
          "Bajaj Avenger 150",
          "Bajaj Avenger 150 street",
          "Honda CB Unicorn",
          "omni",
          "Bajaj Pulsar  NS 200",
          "Hero Passion X pro",
          "Yamaha Fazer ",
          "TVS Sport ",
          "Honda Dream Yuga ",
          "etios gd",
          "Honda CB Trigger",
          "Yamaha FZ S ",
          "Bajaj Pulsar 135 LS",
          "Activa 4g",
          "Bajaj Avenger Street 220"
         ],
         "xaxis": "x",
         "y": [
          26,
          16,
          14,
          11,
          10,
          9,
          9,
          9,
          8,
          7,
          7,
          7,
          6,
          6,
          6,
          5,
          5,
          5,
          4,
          4,
          4,
          4,
          4,
          4,
          3,
          3,
          3,
          3,
          3,
          3,
          3,
          3,
          3,
          3,
          2,
          2,
          2,
          2,
          2,
          2,
          2,
          2,
          2,
          2,
          2,
          2,
          2,
          2,
          2,
          2,
          2,
          1,
          1,
          1,
          1,
          1,
          1,
          1,
          1,
          1,
          1,
          1,
          1,
          1,
          1,
          1,
          1,
          1,
          1,
          1,
          1,
          1,
          1,
          1,
          1,
          1,
          1,
          1,
          1,
          1,
          1,
          1,
          1,
          1,
          1,
          1,
          1,
          1,
          1,
          1,
          1,
          1,
          1,
          1,
          1,
          1,
          1,
          1
         ],
         "yaxis": "y"
        }
       ],
       "layout": {
        "barmode": "relative",
        "legend": {
         "tracegroupgap": 0
        },
        "template": {
         "data": {
          "bar": [
           {
            "error_x": {
             "color": "#2a3f5f"
            },
            "error_y": {
             "color": "#2a3f5f"
            },
            "marker": {
             "line": {
              "color": "#E5ECF6",
              "width": 0.5
             },
             "pattern": {
              "fillmode": "overlay",
              "size": 10,
              "solidity": 0.2
             }
            },
            "type": "bar"
           }
          ],
          "barpolar": [
           {
            "marker": {
             "line": {
              "color": "#E5ECF6",
              "width": 0.5
             },
             "pattern": {
              "fillmode": "overlay",
              "size": 10,
              "solidity": 0.2
             }
            },
            "type": "barpolar"
           }
          ],
          "carpet": [
           {
            "aaxis": {
             "endlinecolor": "#2a3f5f",
             "gridcolor": "white",
             "linecolor": "white",
             "minorgridcolor": "white",
             "startlinecolor": "#2a3f5f"
            },
            "baxis": {
             "endlinecolor": "#2a3f5f",
             "gridcolor": "white",
             "linecolor": "white",
             "minorgridcolor": "white",
             "startlinecolor": "#2a3f5f"
            },
            "type": "carpet"
           }
          ],
          "choropleth": [
           {
            "colorbar": {
             "outlinewidth": 0,
             "ticks": ""
            },
            "type": "choropleth"
           }
          ],
          "contour": [
           {
            "colorbar": {
             "outlinewidth": 0,
             "ticks": ""
            },
            "colorscale": [
             [
              0,
              "#0d0887"
             ],
             [
              0.1111111111111111,
              "#46039f"
             ],
             [
              0.2222222222222222,
              "#7201a8"
             ],
             [
              0.3333333333333333,
              "#9c179e"
             ],
             [
              0.4444444444444444,
              "#bd3786"
             ],
             [
              0.5555555555555556,
              "#d8576b"
             ],
             [
              0.6666666666666666,
              "#ed7953"
             ],
             [
              0.7777777777777778,
              "#fb9f3a"
             ],
             [
              0.8888888888888888,
              "#fdca26"
             ],
             [
              1,
              "#f0f921"
             ]
            ],
            "type": "contour"
           }
          ],
          "contourcarpet": [
           {
            "colorbar": {
             "outlinewidth": 0,
             "ticks": ""
            },
            "type": "contourcarpet"
           }
          ],
          "heatmap": [
           {
            "colorbar": {
             "outlinewidth": 0,
             "ticks": ""
            },
            "colorscale": [
             [
              0,
              "#0d0887"
             ],
             [
              0.1111111111111111,
              "#46039f"
             ],
             [
              0.2222222222222222,
              "#7201a8"
             ],
             [
              0.3333333333333333,
              "#9c179e"
             ],
             [
              0.4444444444444444,
              "#bd3786"
             ],
             [
              0.5555555555555556,
              "#d8576b"
             ],
             [
              0.6666666666666666,
              "#ed7953"
             ],
             [
              0.7777777777777778,
              "#fb9f3a"
             ],
             [
              0.8888888888888888,
              "#fdca26"
             ],
             [
              1,
              "#f0f921"
             ]
            ],
            "type": "heatmap"
           }
          ],
          "heatmapgl": [
           {
            "colorbar": {
             "outlinewidth": 0,
             "ticks": ""
            },
            "colorscale": [
             [
              0,
              "#0d0887"
             ],
             [
              0.1111111111111111,
              "#46039f"
             ],
             [
              0.2222222222222222,
              "#7201a8"
             ],
             [
              0.3333333333333333,
              "#9c179e"
             ],
             [
              0.4444444444444444,
              "#bd3786"
             ],
             [
              0.5555555555555556,
              "#d8576b"
             ],
             [
              0.6666666666666666,
              "#ed7953"
             ],
             [
              0.7777777777777778,
              "#fb9f3a"
             ],
             [
              0.8888888888888888,
              "#fdca26"
             ],
             [
              1,
              "#f0f921"
             ]
            ],
            "type": "heatmapgl"
           }
          ],
          "histogram": [
           {
            "marker": {
             "pattern": {
              "fillmode": "overlay",
              "size": 10,
              "solidity": 0.2
             }
            },
            "type": "histogram"
           }
          ],
          "histogram2d": [
           {
            "colorbar": {
             "outlinewidth": 0,
             "ticks": ""
            },
            "colorscale": [
             [
              0,
              "#0d0887"
             ],
             [
              0.1111111111111111,
              "#46039f"
             ],
             [
              0.2222222222222222,
              "#7201a8"
             ],
             [
              0.3333333333333333,
              "#9c179e"
             ],
             [
              0.4444444444444444,
              "#bd3786"
             ],
             [
              0.5555555555555556,
              "#d8576b"
             ],
             [
              0.6666666666666666,
              "#ed7953"
             ],
             [
              0.7777777777777778,
              "#fb9f3a"
             ],
             [
              0.8888888888888888,
              "#fdca26"
             ],
             [
              1,
              "#f0f921"
             ]
            ],
            "type": "histogram2d"
           }
          ],
          "histogram2dcontour": [
           {
            "colorbar": {
             "outlinewidth": 0,
             "ticks": ""
            },
            "colorscale": [
             [
              0,
              "#0d0887"
             ],
             [
              0.1111111111111111,
              "#46039f"
             ],
             [
              0.2222222222222222,
              "#7201a8"
             ],
             [
              0.3333333333333333,
              "#9c179e"
             ],
             [
              0.4444444444444444,
              "#bd3786"
             ],
             [
              0.5555555555555556,
              "#d8576b"
             ],
             [
              0.6666666666666666,
              "#ed7953"
             ],
             [
              0.7777777777777778,
              "#fb9f3a"
             ],
             [
              0.8888888888888888,
              "#fdca26"
             ],
             [
              1,
              "#f0f921"
             ]
            ],
            "type": "histogram2dcontour"
           }
          ],
          "mesh3d": [
           {
            "colorbar": {
             "outlinewidth": 0,
             "ticks": ""
            },
            "type": "mesh3d"
           }
          ],
          "parcoords": [
           {
            "line": {
             "colorbar": {
              "outlinewidth": 0,
              "ticks": ""
             }
            },
            "type": "parcoords"
           }
          ],
          "pie": [
           {
            "automargin": true,
            "type": "pie"
           }
          ],
          "scatter": [
           {
            "fillpattern": {
             "fillmode": "overlay",
             "size": 10,
             "solidity": 0.2
            },
            "type": "scatter"
           }
          ],
          "scatter3d": [
           {
            "line": {
             "colorbar": {
              "outlinewidth": 0,
              "ticks": ""
             }
            },
            "marker": {
             "colorbar": {
              "outlinewidth": 0,
              "ticks": ""
             }
            },
            "type": "scatter3d"
           }
          ],
          "scattercarpet": [
           {
            "marker": {
             "colorbar": {
              "outlinewidth": 0,
              "ticks": ""
             }
            },
            "type": "scattercarpet"
           }
          ],
          "scattergeo": [
           {
            "marker": {
             "colorbar": {
              "outlinewidth": 0,
              "ticks": ""
             }
            },
            "type": "scattergeo"
           }
          ],
          "scattergl": [
           {
            "marker": {
             "colorbar": {
              "outlinewidth": 0,
              "ticks": ""
             }
            },
            "type": "scattergl"
           }
          ],
          "scattermapbox": [
           {
            "marker": {
             "colorbar": {
              "outlinewidth": 0,
              "ticks": ""
             }
            },
            "type": "scattermapbox"
           }
          ],
          "scatterpolar": [
           {
            "marker": {
             "colorbar": {
              "outlinewidth": 0,
              "ticks": ""
             }
            },
            "type": "scatterpolar"
           }
          ],
          "scatterpolargl": [
           {
            "marker": {
             "colorbar": {
              "outlinewidth": 0,
              "ticks": ""
             }
            },
            "type": "scatterpolargl"
           }
          ],
          "scatterternary": [
           {
            "marker": {
             "colorbar": {
              "outlinewidth": 0,
              "ticks": ""
             }
            },
            "type": "scatterternary"
           }
          ],
          "surface": [
           {
            "colorbar": {
             "outlinewidth": 0,
             "ticks": ""
            },
            "colorscale": [
             [
              0,
              "#0d0887"
             ],
             [
              0.1111111111111111,
              "#46039f"
             ],
             [
              0.2222222222222222,
              "#7201a8"
             ],
             [
              0.3333333333333333,
              "#9c179e"
             ],
             [
              0.4444444444444444,
              "#bd3786"
             ],
             [
              0.5555555555555556,
              "#d8576b"
             ],
             [
              0.6666666666666666,
              "#ed7953"
             ],
             [
              0.7777777777777778,
              "#fb9f3a"
             ],
             [
              0.8888888888888888,
              "#fdca26"
             ],
             [
              1,
              "#f0f921"
             ]
            ],
            "type": "surface"
           }
          ],
          "table": [
           {
            "cells": {
             "fill": {
              "color": "#EBF0F8"
             },
             "line": {
              "color": "white"
             }
            },
            "header": {
             "fill": {
              "color": "#C8D4E3"
             },
             "line": {
              "color": "white"
             }
            },
            "type": "table"
           }
          ]
         },
         "layout": {
          "annotationdefaults": {
           "arrowcolor": "#2a3f5f",
           "arrowhead": 0,
           "arrowwidth": 1
          },
          "autotypenumbers": "strict",
          "coloraxis": {
           "colorbar": {
            "outlinewidth": 0,
            "ticks": ""
           }
          },
          "colorscale": {
           "diverging": [
            [
             0,
             "#8e0152"
            ],
            [
             0.1,
             "#c51b7d"
            ],
            [
             0.2,
             "#de77ae"
            ],
            [
             0.3,
             "#f1b6da"
            ],
            [
             0.4,
             "#fde0ef"
            ],
            [
             0.5,
             "#f7f7f7"
            ],
            [
             0.6,
             "#e6f5d0"
            ],
            [
             0.7,
             "#b8e186"
            ],
            [
             0.8,
             "#7fbc41"
            ],
            [
             0.9,
             "#4d9221"
            ],
            [
             1,
             "#276419"
            ]
           ],
           "sequential": [
            [
             0,
             "#0d0887"
            ],
            [
             0.1111111111111111,
             "#46039f"
            ],
            [
             0.2222222222222222,
             "#7201a8"
            ],
            [
             0.3333333333333333,
             "#9c179e"
            ],
            [
             0.4444444444444444,
             "#bd3786"
            ],
            [
             0.5555555555555556,
             "#d8576b"
            ],
            [
             0.6666666666666666,
             "#ed7953"
            ],
            [
             0.7777777777777778,
             "#fb9f3a"
            ],
            [
             0.8888888888888888,
             "#fdca26"
            ],
            [
             1,
             "#f0f921"
            ]
           ],
           "sequentialminus": [
            [
             0,
             "#0d0887"
            ],
            [
             0.1111111111111111,
             "#46039f"
            ],
            [
             0.2222222222222222,
             "#7201a8"
            ],
            [
             0.3333333333333333,
             "#9c179e"
            ],
            [
             0.4444444444444444,
             "#bd3786"
            ],
            [
             0.5555555555555556,
             "#d8576b"
            ],
            [
             0.6666666666666666,
             "#ed7953"
            ],
            [
             0.7777777777777778,
             "#fb9f3a"
            ],
            [
             0.8888888888888888,
             "#fdca26"
            ],
            [
             1,
             "#f0f921"
            ]
           ]
          },
          "colorway": [
           "#636efa",
           "#EF553B",
           "#00cc96",
           "#ab63fa",
           "#FFA15A",
           "#19d3f3",
           "#FF6692",
           "#B6E880",
           "#FF97FF",
           "#FECB52"
          ],
          "font": {
           "color": "#2a3f5f"
          },
          "geo": {
           "bgcolor": "white",
           "lakecolor": "white",
           "landcolor": "#E5ECF6",
           "showlakes": true,
           "showland": true,
           "subunitcolor": "white"
          },
          "hoverlabel": {
           "align": "left"
          },
          "hovermode": "closest",
          "mapbox": {
           "style": "light"
          },
          "paper_bgcolor": "white",
          "plot_bgcolor": "#E5ECF6",
          "polar": {
           "angularaxis": {
            "gridcolor": "white",
            "linecolor": "white",
            "ticks": ""
           },
           "bgcolor": "#E5ECF6",
           "radialaxis": {
            "gridcolor": "white",
            "linecolor": "white",
            "ticks": ""
           }
          },
          "scene": {
           "xaxis": {
            "backgroundcolor": "#E5ECF6",
            "gridcolor": "white",
            "gridwidth": 2,
            "linecolor": "white",
            "showbackground": true,
            "ticks": "",
            "zerolinecolor": "white"
           },
           "yaxis": {
            "backgroundcolor": "#E5ECF6",
            "gridcolor": "white",
            "gridwidth": 2,
            "linecolor": "white",
            "showbackground": true,
            "ticks": "",
            "zerolinecolor": "white"
           },
           "zaxis": {
            "backgroundcolor": "#E5ECF6",
            "gridcolor": "white",
            "gridwidth": 2,
            "linecolor": "white",
            "showbackground": true,
            "ticks": "",
            "zerolinecolor": "white"
           }
          },
          "shapedefaults": {
           "line": {
            "color": "#2a3f5f"
           }
          },
          "ternary": {
           "aaxis": {
            "gridcolor": "white",
            "linecolor": "white",
            "ticks": ""
           },
           "baxis": {
            "gridcolor": "white",
            "linecolor": "white",
            "ticks": ""
           },
           "bgcolor": "#E5ECF6",
           "caxis": {
            "gridcolor": "white",
            "linecolor": "white",
            "ticks": ""
           }
          },
          "title": {
           "x": 0.05
          },
          "xaxis": {
           "automargin": true,
           "gridcolor": "white",
           "linecolor": "white",
           "ticks": "",
           "title": {
            "standoff": 15
           },
           "zerolinecolor": "white",
           "zerolinewidth": 2
          },
          "yaxis": {
           "automargin": true,
           "gridcolor": "white",
           "linecolor": "white",
           "ticks": "",
           "title": {
            "standoff": 15
           },
           "zerolinecolor": "white",
           "zerolinewidth": 2
          }
         }
        },
        "title": {
         "text": "Value Counts for Car Names"
        },
        "xaxis": {
         "anchor": "y",
         "domain": [
          0,
          1
         ],
         "title": {
          "text": "Car Name"
         }
        },
        "yaxis": {
         "anchor": "x",
         "domain": [
          0,
          1
         ],
         "title": {
          "text": "Count"
         }
        }
       }
      }
     },
     "metadata": {},
     "output_type": "display_data"
    },
    {
     "data": {
      "application/vnd.plotly.v1+json": {
       "config": {
        "plotlyServerURL": "https://plot.ly"
       },
       "data": [
        {
         "alignmentgroup": "True",
         "hovertemplate": "Company=%{x}<br>Count=%{y}<extra></extra>",
         "legendgroup": "",
         "marker": {
          "color": "#636efa",
          "pattern": {
           "shape": ""
          }
         },
         "name": "",
         "offsetgroup": "",
         "orientation": "v",
         "showlegend": false,
         "textposition": "auto",
         "type": "bar",
         "x": [
          "honda",
          "maruti suzuki",
          "hyndai",
          "other",
          "toyota",
          "bajaj",
          "hero",
          "yamaha",
          "tvs"
         ],
         "xaxis": "x",
         "y": [
          70,
          50,
          50,
          39,
          36,
          25,
          15,
          8,
          8
         ],
         "yaxis": "y"
        }
       ],
       "layout": {
        "barmode": "relative",
        "legend": {
         "tracegroupgap": 0
        },
        "template": {
         "data": {
          "bar": [
           {
            "error_x": {
             "color": "#2a3f5f"
            },
            "error_y": {
             "color": "#2a3f5f"
            },
            "marker": {
             "line": {
              "color": "#E5ECF6",
              "width": 0.5
             },
             "pattern": {
              "fillmode": "overlay",
              "size": 10,
              "solidity": 0.2
             }
            },
            "type": "bar"
           }
          ],
          "barpolar": [
           {
            "marker": {
             "line": {
              "color": "#E5ECF6",
              "width": 0.5
             },
             "pattern": {
              "fillmode": "overlay",
              "size": 10,
              "solidity": 0.2
             }
            },
            "type": "barpolar"
           }
          ],
          "carpet": [
           {
            "aaxis": {
             "endlinecolor": "#2a3f5f",
             "gridcolor": "white",
             "linecolor": "white",
             "minorgridcolor": "white",
             "startlinecolor": "#2a3f5f"
            },
            "baxis": {
             "endlinecolor": "#2a3f5f",
             "gridcolor": "white",
             "linecolor": "white",
             "minorgridcolor": "white",
             "startlinecolor": "#2a3f5f"
            },
            "type": "carpet"
           }
          ],
          "choropleth": [
           {
            "colorbar": {
             "outlinewidth": 0,
             "ticks": ""
            },
            "type": "choropleth"
           }
          ],
          "contour": [
           {
            "colorbar": {
             "outlinewidth": 0,
             "ticks": ""
            },
            "colorscale": [
             [
              0,
              "#0d0887"
             ],
             [
              0.1111111111111111,
              "#46039f"
             ],
             [
              0.2222222222222222,
              "#7201a8"
             ],
             [
              0.3333333333333333,
              "#9c179e"
             ],
             [
              0.4444444444444444,
              "#bd3786"
             ],
             [
              0.5555555555555556,
              "#d8576b"
             ],
             [
              0.6666666666666666,
              "#ed7953"
             ],
             [
              0.7777777777777778,
              "#fb9f3a"
             ],
             [
              0.8888888888888888,
              "#fdca26"
             ],
             [
              1,
              "#f0f921"
             ]
            ],
            "type": "contour"
           }
          ],
          "contourcarpet": [
           {
            "colorbar": {
             "outlinewidth": 0,
             "ticks": ""
            },
            "type": "contourcarpet"
           }
          ],
          "heatmap": [
           {
            "colorbar": {
             "outlinewidth": 0,
             "ticks": ""
            },
            "colorscale": [
             [
              0,
              "#0d0887"
             ],
             [
              0.1111111111111111,
              "#46039f"
             ],
             [
              0.2222222222222222,
              "#7201a8"
             ],
             [
              0.3333333333333333,
              "#9c179e"
             ],
             [
              0.4444444444444444,
              "#bd3786"
             ],
             [
              0.5555555555555556,
              "#d8576b"
             ],
             [
              0.6666666666666666,
              "#ed7953"
             ],
             [
              0.7777777777777778,
              "#fb9f3a"
             ],
             [
              0.8888888888888888,
              "#fdca26"
             ],
             [
              1,
              "#f0f921"
             ]
            ],
            "type": "heatmap"
           }
          ],
          "heatmapgl": [
           {
            "colorbar": {
             "outlinewidth": 0,
             "ticks": ""
            },
            "colorscale": [
             [
              0,
              "#0d0887"
             ],
             [
              0.1111111111111111,
              "#46039f"
             ],
             [
              0.2222222222222222,
              "#7201a8"
             ],
             [
              0.3333333333333333,
              "#9c179e"
             ],
             [
              0.4444444444444444,
              "#bd3786"
             ],
             [
              0.5555555555555556,
              "#d8576b"
             ],
             [
              0.6666666666666666,
              "#ed7953"
             ],
             [
              0.7777777777777778,
              "#fb9f3a"
             ],
             [
              0.8888888888888888,
              "#fdca26"
             ],
             [
              1,
              "#f0f921"
             ]
            ],
            "type": "heatmapgl"
           }
          ],
          "histogram": [
           {
            "marker": {
             "pattern": {
              "fillmode": "overlay",
              "size": 10,
              "solidity": 0.2
             }
            },
            "type": "histogram"
           }
          ],
          "histogram2d": [
           {
            "colorbar": {
             "outlinewidth": 0,
             "ticks": ""
            },
            "colorscale": [
             [
              0,
              "#0d0887"
             ],
             [
              0.1111111111111111,
              "#46039f"
             ],
             [
              0.2222222222222222,
              "#7201a8"
             ],
             [
              0.3333333333333333,
              "#9c179e"
             ],
             [
              0.4444444444444444,
              "#bd3786"
             ],
             [
              0.5555555555555556,
              "#d8576b"
             ],
             [
              0.6666666666666666,
              "#ed7953"
             ],
             [
              0.7777777777777778,
              "#fb9f3a"
             ],
             [
              0.8888888888888888,
              "#fdca26"
             ],
             [
              1,
              "#f0f921"
             ]
            ],
            "type": "histogram2d"
           }
          ],
          "histogram2dcontour": [
           {
            "colorbar": {
             "outlinewidth": 0,
             "ticks": ""
            },
            "colorscale": [
             [
              0,
              "#0d0887"
             ],
             [
              0.1111111111111111,
              "#46039f"
             ],
             [
              0.2222222222222222,
              "#7201a8"
             ],
             [
              0.3333333333333333,
              "#9c179e"
             ],
             [
              0.4444444444444444,
              "#bd3786"
             ],
             [
              0.5555555555555556,
              "#d8576b"
             ],
             [
              0.6666666666666666,
              "#ed7953"
             ],
             [
              0.7777777777777778,
              "#fb9f3a"
             ],
             [
              0.8888888888888888,
              "#fdca26"
             ],
             [
              1,
              "#f0f921"
             ]
            ],
            "type": "histogram2dcontour"
           }
          ],
          "mesh3d": [
           {
            "colorbar": {
             "outlinewidth": 0,
             "ticks": ""
            },
            "type": "mesh3d"
           }
          ],
          "parcoords": [
           {
            "line": {
             "colorbar": {
              "outlinewidth": 0,
              "ticks": ""
             }
            },
            "type": "parcoords"
           }
          ],
          "pie": [
           {
            "automargin": true,
            "type": "pie"
           }
          ],
          "scatter": [
           {
            "fillpattern": {
             "fillmode": "overlay",
             "size": 10,
             "solidity": 0.2
            },
            "type": "scatter"
           }
          ],
          "scatter3d": [
           {
            "line": {
             "colorbar": {
              "outlinewidth": 0,
              "ticks": ""
             }
            },
            "marker": {
             "colorbar": {
              "outlinewidth": 0,
              "ticks": ""
             }
            },
            "type": "scatter3d"
           }
          ],
          "scattercarpet": [
           {
            "marker": {
             "colorbar": {
              "outlinewidth": 0,
              "ticks": ""
             }
            },
            "type": "scattercarpet"
           }
          ],
          "scattergeo": [
           {
            "marker": {
             "colorbar": {
              "outlinewidth": 0,
              "ticks": ""
             }
            },
            "type": "scattergeo"
           }
          ],
          "scattergl": [
           {
            "marker": {
             "colorbar": {
              "outlinewidth": 0,
              "ticks": ""
             }
            },
            "type": "scattergl"
           }
          ],
          "scattermapbox": [
           {
            "marker": {
             "colorbar": {
              "outlinewidth": 0,
              "ticks": ""
             }
            },
            "type": "scattermapbox"
           }
          ],
          "scatterpolar": [
           {
            "marker": {
             "colorbar": {
              "outlinewidth": 0,
              "ticks": ""
             }
            },
            "type": "scatterpolar"
           }
          ],
          "scatterpolargl": [
           {
            "marker": {
             "colorbar": {
              "outlinewidth": 0,
              "ticks": ""
             }
            },
            "type": "scatterpolargl"
           }
          ],
          "scatterternary": [
           {
            "marker": {
             "colorbar": {
              "outlinewidth": 0,
              "ticks": ""
             }
            },
            "type": "scatterternary"
           }
          ],
          "surface": [
           {
            "colorbar": {
             "outlinewidth": 0,
             "ticks": ""
            },
            "colorscale": [
             [
              0,
              "#0d0887"
             ],
             [
              0.1111111111111111,
              "#46039f"
             ],
             [
              0.2222222222222222,
              "#7201a8"
             ],
             [
              0.3333333333333333,
              "#9c179e"
             ],
             [
              0.4444444444444444,
              "#bd3786"
             ],
             [
              0.5555555555555556,
              "#d8576b"
             ],
             [
              0.6666666666666666,
              "#ed7953"
             ],
             [
              0.7777777777777778,
              "#fb9f3a"
             ],
             [
              0.8888888888888888,
              "#fdca26"
             ],
             [
              1,
              "#f0f921"
             ]
            ],
            "type": "surface"
           }
          ],
          "table": [
           {
            "cells": {
             "fill": {
              "color": "#EBF0F8"
             },
             "line": {
              "color": "white"
             }
            },
            "header": {
             "fill": {
              "color": "#C8D4E3"
             },
             "line": {
              "color": "white"
             }
            },
            "type": "table"
           }
          ]
         },
         "layout": {
          "annotationdefaults": {
           "arrowcolor": "#2a3f5f",
           "arrowhead": 0,
           "arrowwidth": 1
          },
          "autotypenumbers": "strict",
          "coloraxis": {
           "colorbar": {
            "outlinewidth": 0,
            "ticks": ""
           }
          },
          "colorscale": {
           "diverging": [
            [
             0,
             "#8e0152"
            ],
            [
             0.1,
             "#c51b7d"
            ],
            [
             0.2,
             "#de77ae"
            ],
            [
             0.3,
             "#f1b6da"
            ],
            [
             0.4,
             "#fde0ef"
            ],
            [
             0.5,
             "#f7f7f7"
            ],
            [
             0.6,
             "#e6f5d0"
            ],
            [
             0.7,
             "#b8e186"
            ],
            [
             0.8,
             "#7fbc41"
            ],
            [
             0.9,
             "#4d9221"
            ],
            [
             1,
             "#276419"
            ]
           ],
           "sequential": [
            [
             0,
             "#0d0887"
            ],
            [
             0.1111111111111111,
             "#46039f"
            ],
            [
             0.2222222222222222,
             "#7201a8"
            ],
            [
             0.3333333333333333,
             "#9c179e"
            ],
            [
             0.4444444444444444,
             "#bd3786"
            ],
            [
             0.5555555555555556,
             "#d8576b"
            ],
            [
             0.6666666666666666,
             "#ed7953"
            ],
            [
             0.7777777777777778,
             "#fb9f3a"
            ],
            [
             0.8888888888888888,
             "#fdca26"
            ],
            [
             1,
             "#f0f921"
            ]
           ],
           "sequentialminus": [
            [
             0,
             "#0d0887"
            ],
            [
             0.1111111111111111,
             "#46039f"
            ],
            [
             0.2222222222222222,
             "#7201a8"
            ],
            [
             0.3333333333333333,
             "#9c179e"
            ],
            [
             0.4444444444444444,
             "#bd3786"
            ],
            [
             0.5555555555555556,
             "#d8576b"
            ],
            [
             0.6666666666666666,
             "#ed7953"
            ],
            [
             0.7777777777777778,
             "#fb9f3a"
            ],
            [
             0.8888888888888888,
             "#fdca26"
            ],
            [
             1,
             "#f0f921"
            ]
           ]
          },
          "colorway": [
           "#636efa",
           "#EF553B",
           "#00cc96",
           "#ab63fa",
           "#FFA15A",
           "#19d3f3",
           "#FF6692",
           "#B6E880",
           "#FF97FF",
           "#FECB52"
          ],
          "font": {
           "color": "#2a3f5f"
          },
          "geo": {
           "bgcolor": "white",
           "lakecolor": "white",
           "landcolor": "#E5ECF6",
           "showlakes": true,
           "showland": true,
           "subunitcolor": "white"
          },
          "hoverlabel": {
           "align": "left"
          },
          "hovermode": "closest",
          "mapbox": {
           "style": "light"
          },
          "paper_bgcolor": "white",
          "plot_bgcolor": "#E5ECF6",
          "polar": {
           "angularaxis": {
            "gridcolor": "white",
            "linecolor": "white",
            "ticks": ""
           },
           "bgcolor": "#E5ECF6",
           "radialaxis": {
            "gridcolor": "white",
            "linecolor": "white",
            "ticks": ""
           }
          },
          "scene": {
           "xaxis": {
            "backgroundcolor": "#E5ECF6",
            "gridcolor": "white",
            "gridwidth": 2,
            "linecolor": "white",
            "showbackground": true,
            "ticks": "",
            "zerolinecolor": "white"
           },
           "yaxis": {
            "backgroundcolor": "#E5ECF6",
            "gridcolor": "white",
            "gridwidth": 2,
            "linecolor": "white",
            "showbackground": true,
            "ticks": "",
            "zerolinecolor": "white"
           },
           "zaxis": {
            "backgroundcolor": "#E5ECF6",
            "gridcolor": "white",
            "gridwidth": 2,
            "linecolor": "white",
            "showbackground": true,
            "ticks": "",
            "zerolinecolor": "white"
           }
          },
          "shapedefaults": {
           "line": {
            "color": "#2a3f5f"
           }
          },
          "ternary": {
           "aaxis": {
            "gridcolor": "white",
            "linecolor": "white",
            "ticks": ""
           },
           "baxis": {
            "gridcolor": "white",
            "linecolor": "white",
            "ticks": ""
           },
           "bgcolor": "#E5ECF6",
           "caxis": {
            "gridcolor": "white",
            "linecolor": "white",
            "ticks": ""
           }
          },
          "title": {
           "x": 0.05
          },
          "xaxis": {
           "automargin": true,
           "gridcolor": "white",
           "linecolor": "white",
           "ticks": "",
           "title": {
            "standoff": 15
           },
           "zerolinecolor": "white",
           "zerolinewidth": 2
          },
          "yaxis": {
           "automargin": true,
           "gridcolor": "white",
           "linecolor": "white",
           "ticks": "",
           "title": {
            "standoff": 15
           },
           "zerolinecolor": "white",
           "zerolinewidth": 2
          }
         }
        },
        "title": {
         "text": "Value Counts for Companies"
        },
        "xaxis": {
         "anchor": "y",
         "domain": [
          0,
          1
         ],
         "title": {
          "text": "Company"
         }
        },
        "yaxis": {
         "anchor": "x",
         "domain": [
          0,
          1
         ],
         "title": {
          "text": "Count"
         }
        }
       }
      }
     },
     "metadata": {},
     "output_type": "display_data"
    }
   ],
   "source": [
    "\n",
    "# Value Counts for Car Names\n",
    "car_name_counts = Data['Car_Name'].value_counts().reset_index()\n",
    "car_name_counts.columns = ['Car_Name', 'Count']\n",
    "\n",
    "# Value Counts for Companies\n",
    "company_counts = Data['company'].value_counts().reset_index()\n",
    "company_counts.columns = ['Company', 'Count']\n",
    "\n",
    "# Bar Chart for Car Names\n",
    "fig_car_names = px.bar(car_name_counts, x='Car_Name', y='Count', title='Value Counts for Car Names',\n",
    "                       labels={'Car_Name': 'Car Name', 'Count': 'Count'})\n",
    "\n",
    "# Bar Chart for Companies\n",
    "fig_companies = px.bar(company_counts, x='Company', y='Count', title='Value Counts for Companies',\n",
    "                       labels={'Company': 'Company', 'Count': 'Count'})\n",
    "\n",
    "# Show the plots\n",
    "fig_car_names.show()\n",
    "fig_companies.show()\n"
   ]
  },
  {
   "cell_type": "markdown",
   "metadata": {},
   "source": [
    "# Combined Analysis"
   ]
  },
  {
   "cell_type": "code",
   "execution_count": 17,
   "metadata": {},
   "outputs": [
    {
     "data": {
      "application/vnd.plotly.v1+json": {
       "config": {
        "plotlyServerURL": "https://plot.ly"
       },
       "data": [
        {
         "hovertemplate": "Manufacturing Year=%{x}<br>Selling Price=%{marker.color}<extra></extra>",
         "legendgroup": "",
         "marker": {
          "color": [
           3.35,
           4.75,
           7.25,
           2.85,
           4.6,
           9.25,
           6.75,
           6.5,
           8.75,
           7.45,
           2.85,
           6.85,
           7.5,
           6.1,
           2.25,
           7.75,
           7.25,
           7.75,
           3.25,
           2.65,
           2.85,
           4.9,
           4.4,
           2.5,
           2.9,
           3,
           4.15,
           6,
           1.95,
           7.45,
           3.1,
           2.35,
           4.95,
           6,
           5.5,
           2.95,
           4.65,
           0.35,
           3,
           2.25,
           5.85,
           2.55,
           1.95,
           5.5,
           1.25,
           7.5,
           2.65,
           1.05,
           5.8,
           7.75,
           14.9,
           23,
           18,
           16,
           2.75,
           3.6,
           4.5,
           4.75,
           4.1,
           19.99,
           6.95,
           4.5,
           18.75,
           23.5,
           33,
           4.75,
           19.75,
           9.25,
           4.35,
           14.25,
           3.95,
           4.5,
           7.45,
           2.65,
           4.9,
           3.95,
           5.5,
           1.5,
           5.25,
           14.5,
           14.73,
           4.75,
           23,
           12.5,
           3.49,
           2.5,
           35,
           5.9,
           3.45,
           4.75,
           3.8,
           11.25,
           3.51,
           23,
           4,
           5.85,
           20.75,
           17,
           7.05,
           9.65,
           1.75,
           1.7,
           1.65,
           1.45,
           1.35,
           1.35,
           1.35,
           1.25,
           1.2,
           1.2,
           1.2,
           1.15,
           1.15,
           1.15,
           1.15,
           1.11,
           1.1,
           1.1,
           1.1,
           1.05,
           1.05,
           1.05,
           1.05,
           1,
           0.95,
           0.9,
           0.9,
           0.75,
           0.8,
           0.78,
           0.75,
           0.75,
           0.75,
           0.72,
           0.65,
           0.65,
           0.65,
           0.65,
           0.6,
           0.6,
           0.6,
           0.6,
           0.6,
           0.6,
           0.6,
           0.6,
           0.55,
           0.55,
           0.52,
           0.51,
           0.5,
           0.5,
           0.5,
           0.5,
           0.5,
           0.48,
           0.48,
           0.48,
           0.48,
           0.45,
           0.45,
           0.45,
           0.45,
           0.45,
           0.45,
           0.45,
           0.45,
           0.42,
           0.42,
           0.4,
           0.4,
           0.4,
           0.4,
           0.4,
           0.38,
           0.38,
           0.35,
           0.35,
           0.35,
           0.31,
           0.3,
           0.3,
           0.3,
           0.27,
           0.25,
           0.25,
           0.25,
           0.25,
           0.25,
           0.2,
           0.2,
           0.2,
           0.2,
           0.2,
           0.2,
           0.18,
           0.17,
           0.16,
           0.15,
           0.12,
           0.1,
           3.25,
           4.4,
           2.95,
           2.75,
           5.25,
           5.75,
           5.15,
           7.9,
           4.85,
           3.1,
           11.75,
           11.25,
           2.9,
           5.25,
           4.5,
           2.9,
           3.15,
           6.45,
           4.5,
           3.5,
           4.5,
           6,
           8.25,
           5.11,
           2.7,
           5.25,
           2.55,
           4.95,
           3.1,
           6.15,
           9.25,
           11.45,
           3.9,
           5.5,
           9.1,
           3.1,
           11.25,
           4.8,
           2,
           5.35,
           4.75,
           4.4,
           6.25,
           5.95,
           5.2,
           3.75,
           5.95,
           4,
           5.25,
           12.9,
           5,
           5.4,
           7.2,
           5.25,
           3,
           10.25,
           8.5,
           8.4,
           3.9,
           9.15,
           5.5,
           4,
           6.6,
           4,
           6.5,
           3.65,
           8.35,
           4.8,
           6.7,
           4.1,
           3,
           7.5,
           2.25,
           5.3,
           10.9,
           8.65,
           9.7,
           6,
           6.25,
           5.25,
           2.1,
           8.25,
           8.99,
           3.5,
           7.4,
           5.65,
           5.75,
           8.4,
           10.11,
           4.5,
           5.4,
           6.4,
           3.25,
           3.75,
           8.55,
           9.5,
           4,
           3.35,
           11.5,
           5.3
          ],
          "coloraxis": "coloraxis",
          "symbol": "circle"
         },
         "mode": "markers",
         "name": "",
         "orientation": "v",
         "showlegend": false,
         "type": "scatter",
         "x": [
          2014,
          2013,
          2017,
          2011,
          2014,
          2018,
          2015,
          2015,
          2016,
          2015,
          2017,
          2015,
          2015,
          2015,
          2009,
          2016,
          2015,
          2016,
          2015,
          2010,
          2016,
          2017,
          2011,
          2014,
          2013,
          2011,
          2013,
          2017,
          2010,
          2015,
          2012,
          2011,
          2014,
          2014,
          2014,
          2011,
          2015,
          2003,
          2016,
          2003,
          2016,
          2014,
          2008,
          2014,
          2012,
          2014,
          2013,
          2006,
          2015,
          2017,
          2012,
          2015,
          2017,
          2013,
          2005,
          2009,
          2015,
          2010,
          2014,
          2014,
          2013,
          2015,
          2014,
          2015,
          2017,
          2014,
          2017,
          2010,
          2011,
          2016,
          2014,
          2011,
          2013,
          2011,
          2014,
          2015,
          2013,
          2004,
          2010,
          2012,
          2016,
          2015,
          2017,
          2015,
          2005,
          2006,
          2010,
          2012,
          2013,
          2014,
          2009,
          2014,
          2005,
          2015,
          2008,
          2012,
          2016,
          2017,
          2013,
          2010,
          2016,
          2017,
          2017,
          2017,
          2017,
          2015,
          2014,
          2013,
          2016,
          2017,
          2016,
          2016,
          2014,
          2016,
          2015,
          2015,
          2013,
          2015,
          2015,
          2013,
          2016,
          2011,
          2016,
          2013,
          2012,
          2009,
          2017,
          2016,
          2017,
          2017,
          2017,
          2015,
          2017,
          2016,
          2017,
          2015,
          2014,
          2013,
          2016,
          2015,
          2013,
          2016,
          2015,
          2016,
          2014,
          2012,
          2014,
          2015,
          2010,
          2016,
          2011,
          2016,
          2012,
          2013,
          2014,
          2017,
          2017,
          2015,
          2017,
          2017,
          2011,
          2014,
          2012,
          2010,
          2016,
          2016,
          2016,
          2014,
          2013,
          2015,
          2012,
          2015,
          2014,
          2017,
          2015,
          2011,
          2011,
          2016,
          2014,
          2010,
          2012,
          2016,
          2013,
          2013,
          2008,
          2008,
          2010,
          2013,
          2013,
          2005,
          2008,
          2012,
          2007,
          2013,
          2008,
          2015,
          2008,
          2010,
          2011,
          2007,
          2006,
          2010,
          2015,
          2011,
          2015,
          2016,
          2017,
          2015,
          2017,
          2015,
          2012,
          2015,
          2016,
          2011,
          2017,
          2012,
          2016,
          2016,
          2014,
          2012,
          2017,
          2013,
          2014,
          2015,
          2013,
          2011,
          2015,
          2011,
          2012,
          2012,
          2013,
          2017,
          2015,
          2013,
          2015,
          2017,
          2016,
          2015,
          2013,
          2012,
          2012,
          2015,
          2014,
          2016,
          2013,
          2012,
          2012,
          2015,
          2013,
          2016,
          2016,
          2013,
          2015,
          2014,
          2013,
          2012,
          2016,
          2015,
          2015,
          2014,
          2016,
          2016,
          2015,
          2016,
          2015,
          2017,
          2014,
          2016,
          2017,
          2015,
          2011,
          2009,
          2015,
          2010,
          2014,
          2016,
          2015,
          2015,
          2016,
          2014,
          2015,
          2006,
          2014,
          2016,
          2013,
          2016,
          2016,
          2015,
          2015,
          2016,
          2014,
          2015,
          2016,
          2010,
          2014,
          2015,
          2016,
          2015,
          2009,
          2017,
          2016
         ],
         "xaxis": "x",
         "y": [
          3.35,
          4.75,
          7.25,
          2.85,
          4.6,
          9.25,
          6.75,
          6.5,
          8.75,
          7.45,
          2.85,
          6.85,
          7.5,
          6.1,
          2.25,
          7.75,
          7.25,
          7.75,
          3.25,
          2.65,
          2.85,
          4.9,
          4.4,
          2.5,
          2.9,
          3,
          4.15,
          6,
          1.95,
          7.45,
          3.1,
          2.35,
          4.95,
          6,
          5.5,
          2.95,
          4.65,
          0.35,
          3,
          2.25,
          5.85,
          2.55,
          1.95,
          5.5,
          1.25,
          7.5,
          2.65,
          1.05,
          5.8,
          7.75,
          14.9,
          23,
          18,
          16,
          2.75,
          3.6,
          4.5,
          4.75,
          4.1,
          19.99,
          6.95,
          4.5,
          18.75,
          23.5,
          33,
          4.75,
          19.75,
          9.25,
          4.35,
          14.25,
          3.95,
          4.5,
          7.45,
          2.65,
          4.9,
          3.95,
          5.5,
          1.5,
          5.25,
          14.5,
          14.73,
          4.75,
          23,
          12.5,
          3.49,
          2.5,
          35,
          5.9,
          3.45,
          4.75,
          3.8,
          11.25,
          3.51,
          23,
          4,
          5.85,
          20.75,
          17,
          7.05,
          9.65,
          1.75,
          1.7,
          1.65,
          1.45,
          1.35,
          1.35,
          1.35,
          1.25,
          1.2,
          1.2,
          1.2,
          1.15,
          1.15,
          1.15,
          1.15,
          1.11,
          1.1,
          1.1,
          1.1,
          1.05,
          1.05,
          1.05,
          1.05,
          1,
          0.95,
          0.9,
          0.9,
          0.75,
          0.8,
          0.78,
          0.75,
          0.75,
          0.75,
          0.72,
          0.65,
          0.65,
          0.65,
          0.65,
          0.6,
          0.6,
          0.6,
          0.6,
          0.6,
          0.6,
          0.6,
          0.6,
          0.55,
          0.55,
          0.52,
          0.51,
          0.5,
          0.5,
          0.5,
          0.5,
          0.5,
          0.48,
          0.48,
          0.48,
          0.48,
          0.45,
          0.45,
          0.45,
          0.45,
          0.45,
          0.45,
          0.45,
          0.45,
          0.42,
          0.42,
          0.4,
          0.4,
          0.4,
          0.4,
          0.4,
          0.38,
          0.38,
          0.35,
          0.35,
          0.35,
          0.31,
          0.3,
          0.3,
          0.3,
          0.27,
          0.25,
          0.25,
          0.25,
          0.25,
          0.25,
          0.2,
          0.2,
          0.2,
          0.2,
          0.2,
          0.2,
          0.18,
          0.17,
          0.16,
          0.15,
          0.12,
          0.1,
          3.25,
          4.4,
          2.95,
          2.75,
          5.25,
          5.75,
          5.15,
          7.9,
          4.85,
          3.1,
          11.75,
          11.25,
          2.9,
          5.25,
          4.5,
          2.9,
          3.15,
          6.45,
          4.5,
          3.5,
          4.5,
          6,
          8.25,
          5.11,
          2.7,
          5.25,
          2.55,
          4.95,
          3.1,
          6.15,
          9.25,
          11.45,
          3.9,
          5.5,
          9.1,
          3.1,
          11.25,
          4.8,
          2,
          5.35,
          4.75,
          4.4,
          6.25,
          5.95,
          5.2,
          3.75,
          5.95,
          4,
          5.25,
          12.9,
          5,
          5.4,
          7.2,
          5.25,
          3,
          10.25,
          8.5,
          8.4,
          3.9,
          9.15,
          5.5,
          4,
          6.6,
          4,
          6.5,
          3.65,
          8.35,
          4.8,
          6.7,
          4.1,
          3,
          7.5,
          2.25,
          5.3,
          10.9,
          8.65,
          9.7,
          6,
          6.25,
          5.25,
          2.1,
          8.25,
          8.99,
          3.5,
          7.4,
          5.65,
          5.75,
          8.4,
          10.11,
          4.5,
          5.4,
          6.4,
          3.25,
          3.75,
          8.55,
          9.5,
          4,
          3.35,
          11.5,
          5.3
         ],
         "yaxis": "y"
        }
       ],
       "layout": {
        "coloraxis": {
         "colorbar": {
          "title": {
           "text": "Selling Price"
          }
         },
         "colorscale": [
          [
           0,
           "#0d0887"
          ],
          [
           0.1111111111111111,
           "#46039f"
          ],
          [
           0.2222222222222222,
           "#7201a8"
          ],
          [
           0.3333333333333333,
           "#9c179e"
          ],
          [
           0.4444444444444444,
           "#bd3786"
          ],
          [
           0.5555555555555556,
           "#d8576b"
          ],
          [
           0.6666666666666666,
           "#ed7953"
          ],
          [
           0.7777777777777778,
           "#fb9f3a"
          ],
          [
           0.8888888888888888,
           "#fdca26"
          ],
          [
           1,
           "#f0f921"
          ]
         ]
        },
        "legend": {
         "tracegroupgap": 0
        },
        "template": {
         "data": {
          "bar": [
           {
            "error_x": {
             "color": "#2a3f5f"
            },
            "error_y": {
             "color": "#2a3f5f"
            },
            "marker": {
             "line": {
              "color": "#E5ECF6",
              "width": 0.5
             },
             "pattern": {
              "fillmode": "overlay",
              "size": 10,
              "solidity": 0.2
             }
            },
            "type": "bar"
           }
          ],
          "barpolar": [
           {
            "marker": {
             "line": {
              "color": "#E5ECF6",
              "width": 0.5
             },
             "pattern": {
              "fillmode": "overlay",
              "size": 10,
              "solidity": 0.2
             }
            },
            "type": "barpolar"
           }
          ],
          "carpet": [
           {
            "aaxis": {
             "endlinecolor": "#2a3f5f",
             "gridcolor": "white",
             "linecolor": "white",
             "minorgridcolor": "white",
             "startlinecolor": "#2a3f5f"
            },
            "baxis": {
             "endlinecolor": "#2a3f5f",
             "gridcolor": "white",
             "linecolor": "white",
             "minorgridcolor": "white",
             "startlinecolor": "#2a3f5f"
            },
            "type": "carpet"
           }
          ],
          "choropleth": [
           {
            "colorbar": {
             "outlinewidth": 0,
             "ticks": ""
            },
            "type": "choropleth"
           }
          ],
          "contour": [
           {
            "colorbar": {
             "outlinewidth": 0,
             "ticks": ""
            },
            "colorscale": [
             [
              0,
              "#0d0887"
             ],
             [
              0.1111111111111111,
              "#46039f"
             ],
             [
              0.2222222222222222,
              "#7201a8"
             ],
             [
              0.3333333333333333,
              "#9c179e"
             ],
             [
              0.4444444444444444,
              "#bd3786"
             ],
             [
              0.5555555555555556,
              "#d8576b"
             ],
             [
              0.6666666666666666,
              "#ed7953"
             ],
             [
              0.7777777777777778,
              "#fb9f3a"
             ],
             [
              0.8888888888888888,
              "#fdca26"
             ],
             [
              1,
              "#f0f921"
             ]
            ],
            "type": "contour"
           }
          ],
          "contourcarpet": [
           {
            "colorbar": {
             "outlinewidth": 0,
             "ticks": ""
            },
            "type": "contourcarpet"
           }
          ],
          "heatmap": [
           {
            "colorbar": {
             "outlinewidth": 0,
             "ticks": ""
            },
            "colorscale": [
             [
              0,
              "#0d0887"
             ],
             [
              0.1111111111111111,
              "#46039f"
             ],
             [
              0.2222222222222222,
              "#7201a8"
             ],
             [
              0.3333333333333333,
              "#9c179e"
             ],
             [
              0.4444444444444444,
              "#bd3786"
             ],
             [
              0.5555555555555556,
              "#d8576b"
             ],
             [
              0.6666666666666666,
              "#ed7953"
             ],
             [
              0.7777777777777778,
              "#fb9f3a"
             ],
             [
              0.8888888888888888,
              "#fdca26"
             ],
             [
              1,
              "#f0f921"
             ]
            ],
            "type": "heatmap"
           }
          ],
          "heatmapgl": [
           {
            "colorbar": {
             "outlinewidth": 0,
             "ticks": ""
            },
            "colorscale": [
             [
              0,
              "#0d0887"
             ],
             [
              0.1111111111111111,
              "#46039f"
             ],
             [
              0.2222222222222222,
              "#7201a8"
             ],
             [
              0.3333333333333333,
              "#9c179e"
             ],
             [
              0.4444444444444444,
              "#bd3786"
             ],
             [
              0.5555555555555556,
              "#d8576b"
             ],
             [
              0.6666666666666666,
              "#ed7953"
             ],
             [
              0.7777777777777778,
              "#fb9f3a"
             ],
             [
              0.8888888888888888,
              "#fdca26"
             ],
             [
              1,
              "#f0f921"
             ]
            ],
            "type": "heatmapgl"
           }
          ],
          "histogram": [
           {
            "marker": {
             "pattern": {
              "fillmode": "overlay",
              "size": 10,
              "solidity": 0.2
             }
            },
            "type": "histogram"
           }
          ],
          "histogram2d": [
           {
            "colorbar": {
             "outlinewidth": 0,
             "ticks": ""
            },
            "colorscale": [
             [
              0,
              "#0d0887"
             ],
             [
              0.1111111111111111,
              "#46039f"
             ],
             [
              0.2222222222222222,
              "#7201a8"
             ],
             [
              0.3333333333333333,
              "#9c179e"
             ],
             [
              0.4444444444444444,
              "#bd3786"
             ],
             [
              0.5555555555555556,
              "#d8576b"
             ],
             [
              0.6666666666666666,
              "#ed7953"
             ],
             [
              0.7777777777777778,
              "#fb9f3a"
             ],
             [
              0.8888888888888888,
              "#fdca26"
             ],
             [
              1,
              "#f0f921"
             ]
            ],
            "type": "histogram2d"
           }
          ],
          "histogram2dcontour": [
           {
            "colorbar": {
             "outlinewidth": 0,
             "ticks": ""
            },
            "colorscale": [
             [
              0,
              "#0d0887"
             ],
             [
              0.1111111111111111,
              "#46039f"
             ],
             [
              0.2222222222222222,
              "#7201a8"
             ],
             [
              0.3333333333333333,
              "#9c179e"
             ],
             [
              0.4444444444444444,
              "#bd3786"
             ],
             [
              0.5555555555555556,
              "#d8576b"
             ],
             [
              0.6666666666666666,
              "#ed7953"
             ],
             [
              0.7777777777777778,
              "#fb9f3a"
             ],
             [
              0.8888888888888888,
              "#fdca26"
             ],
             [
              1,
              "#f0f921"
             ]
            ],
            "type": "histogram2dcontour"
           }
          ],
          "mesh3d": [
           {
            "colorbar": {
             "outlinewidth": 0,
             "ticks": ""
            },
            "type": "mesh3d"
           }
          ],
          "parcoords": [
           {
            "line": {
             "colorbar": {
              "outlinewidth": 0,
              "ticks": ""
             }
            },
            "type": "parcoords"
           }
          ],
          "pie": [
           {
            "automargin": true,
            "type": "pie"
           }
          ],
          "scatter": [
           {
            "fillpattern": {
             "fillmode": "overlay",
             "size": 10,
             "solidity": 0.2
            },
            "type": "scatter"
           }
          ],
          "scatter3d": [
           {
            "line": {
             "colorbar": {
              "outlinewidth": 0,
              "ticks": ""
             }
            },
            "marker": {
             "colorbar": {
              "outlinewidth": 0,
              "ticks": ""
             }
            },
            "type": "scatter3d"
           }
          ],
          "scattercarpet": [
           {
            "marker": {
             "colorbar": {
              "outlinewidth": 0,
              "ticks": ""
             }
            },
            "type": "scattercarpet"
           }
          ],
          "scattergeo": [
           {
            "marker": {
             "colorbar": {
              "outlinewidth": 0,
              "ticks": ""
             }
            },
            "type": "scattergeo"
           }
          ],
          "scattergl": [
           {
            "marker": {
             "colorbar": {
              "outlinewidth": 0,
              "ticks": ""
             }
            },
            "type": "scattergl"
           }
          ],
          "scattermapbox": [
           {
            "marker": {
             "colorbar": {
              "outlinewidth": 0,
              "ticks": ""
             }
            },
            "type": "scattermapbox"
           }
          ],
          "scatterpolar": [
           {
            "marker": {
             "colorbar": {
              "outlinewidth": 0,
              "ticks": ""
             }
            },
            "type": "scatterpolar"
           }
          ],
          "scatterpolargl": [
           {
            "marker": {
             "colorbar": {
              "outlinewidth": 0,
              "ticks": ""
             }
            },
            "type": "scatterpolargl"
           }
          ],
          "scatterternary": [
           {
            "marker": {
             "colorbar": {
              "outlinewidth": 0,
              "ticks": ""
             }
            },
            "type": "scatterternary"
           }
          ],
          "surface": [
           {
            "colorbar": {
             "outlinewidth": 0,
             "ticks": ""
            },
            "colorscale": [
             [
              0,
              "#0d0887"
             ],
             [
              0.1111111111111111,
              "#46039f"
             ],
             [
              0.2222222222222222,
              "#7201a8"
             ],
             [
              0.3333333333333333,
              "#9c179e"
             ],
             [
              0.4444444444444444,
              "#bd3786"
             ],
             [
              0.5555555555555556,
              "#d8576b"
             ],
             [
              0.6666666666666666,
              "#ed7953"
             ],
             [
              0.7777777777777778,
              "#fb9f3a"
             ],
             [
              0.8888888888888888,
              "#fdca26"
             ],
             [
              1,
              "#f0f921"
             ]
            ],
            "type": "surface"
           }
          ],
          "table": [
           {
            "cells": {
             "fill": {
              "color": "#EBF0F8"
             },
             "line": {
              "color": "white"
             }
            },
            "header": {
             "fill": {
              "color": "#C8D4E3"
             },
             "line": {
              "color": "white"
             }
            },
            "type": "table"
           }
          ]
         },
         "layout": {
          "annotationdefaults": {
           "arrowcolor": "#2a3f5f",
           "arrowhead": 0,
           "arrowwidth": 1
          },
          "autotypenumbers": "strict",
          "coloraxis": {
           "colorbar": {
            "outlinewidth": 0,
            "ticks": ""
           }
          },
          "colorscale": {
           "diverging": [
            [
             0,
             "#8e0152"
            ],
            [
             0.1,
             "#c51b7d"
            ],
            [
             0.2,
             "#de77ae"
            ],
            [
             0.3,
             "#f1b6da"
            ],
            [
             0.4,
             "#fde0ef"
            ],
            [
             0.5,
             "#f7f7f7"
            ],
            [
             0.6,
             "#e6f5d0"
            ],
            [
             0.7,
             "#b8e186"
            ],
            [
             0.8,
             "#7fbc41"
            ],
            [
             0.9,
             "#4d9221"
            ],
            [
             1,
             "#276419"
            ]
           ],
           "sequential": [
            [
             0,
             "#0d0887"
            ],
            [
             0.1111111111111111,
             "#46039f"
            ],
            [
             0.2222222222222222,
             "#7201a8"
            ],
            [
             0.3333333333333333,
             "#9c179e"
            ],
            [
             0.4444444444444444,
             "#bd3786"
            ],
            [
             0.5555555555555556,
             "#d8576b"
            ],
            [
             0.6666666666666666,
             "#ed7953"
            ],
            [
             0.7777777777777778,
             "#fb9f3a"
            ],
            [
             0.8888888888888888,
             "#fdca26"
            ],
            [
             1,
             "#f0f921"
            ]
           ],
           "sequentialminus": [
            [
             0,
             "#0d0887"
            ],
            [
             0.1111111111111111,
             "#46039f"
            ],
            [
             0.2222222222222222,
             "#7201a8"
            ],
            [
             0.3333333333333333,
             "#9c179e"
            ],
            [
             0.4444444444444444,
             "#bd3786"
            ],
            [
             0.5555555555555556,
             "#d8576b"
            ],
            [
             0.6666666666666666,
             "#ed7953"
            ],
            [
             0.7777777777777778,
             "#fb9f3a"
            ],
            [
             0.8888888888888888,
             "#fdca26"
            ],
            [
             1,
             "#f0f921"
            ]
           ]
          },
          "colorway": [
           "#636efa",
           "#EF553B",
           "#00cc96",
           "#ab63fa",
           "#FFA15A",
           "#19d3f3",
           "#FF6692",
           "#B6E880",
           "#FF97FF",
           "#FECB52"
          ],
          "font": {
           "color": "#2a3f5f"
          },
          "geo": {
           "bgcolor": "white",
           "lakecolor": "white",
           "landcolor": "#E5ECF6",
           "showlakes": true,
           "showland": true,
           "subunitcolor": "white"
          },
          "hoverlabel": {
           "align": "left"
          },
          "hovermode": "closest",
          "mapbox": {
           "style": "light"
          },
          "paper_bgcolor": "white",
          "plot_bgcolor": "#E5ECF6",
          "polar": {
           "angularaxis": {
            "gridcolor": "white",
            "linecolor": "white",
            "ticks": ""
           },
           "bgcolor": "#E5ECF6",
           "radialaxis": {
            "gridcolor": "white",
            "linecolor": "white",
            "ticks": ""
           }
          },
          "scene": {
           "xaxis": {
            "backgroundcolor": "#E5ECF6",
            "gridcolor": "white",
            "gridwidth": 2,
            "linecolor": "white",
            "showbackground": true,
            "ticks": "",
            "zerolinecolor": "white"
           },
           "yaxis": {
            "backgroundcolor": "#E5ECF6",
            "gridcolor": "white",
            "gridwidth": 2,
            "linecolor": "white",
            "showbackground": true,
            "ticks": "",
            "zerolinecolor": "white"
           },
           "zaxis": {
            "backgroundcolor": "#E5ECF6",
            "gridcolor": "white",
            "gridwidth": 2,
            "linecolor": "white",
            "showbackground": true,
            "ticks": "",
            "zerolinecolor": "white"
           }
          },
          "shapedefaults": {
           "line": {
            "color": "#2a3f5f"
           }
          },
          "ternary": {
           "aaxis": {
            "gridcolor": "white",
            "linecolor": "white",
            "ticks": ""
           },
           "baxis": {
            "gridcolor": "white",
            "linecolor": "white",
            "ticks": ""
           },
           "bgcolor": "#E5ECF6",
           "caxis": {
            "gridcolor": "white",
            "linecolor": "white",
            "ticks": ""
           }
          },
          "title": {
           "x": 0.05
          },
          "xaxis": {
           "automargin": true,
           "gridcolor": "white",
           "linecolor": "white",
           "ticks": "",
           "title": {
            "standoff": 15
           },
           "zerolinecolor": "white",
           "zerolinewidth": 2
          },
          "yaxis": {
           "automargin": true,
           "gridcolor": "white",
           "linecolor": "white",
           "ticks": "",
           "title": {
            "standoff": 15
           },
           "zerolinecolor": "white",
           "zerolinewidth": 2
          }
         }
        },
        "title": {
         "text": "Year vs. Selling Price"
        },
        "xaxis": {
         "anchor": "y",
         "domain": [
          0,
          1
         ],
         "title": {
          "text": "Manufacturing Year"
         }
        },
        "yaxis": {
         "anchor": "x",
         "domain": [
          0,
          1
         ],
         "title": {
          "text": "Selling Price"
         }
        }
       }
      }
     },
     "metadata": {},
     "output_type": "display_data"
    }
   ],
   "source": [
    "# Scatter Plot: Year vs. Selling_Price\n",
    "fig = px.scatter(Data, x='Year', y='Selling_Price', color='Selling_Price',\n",
    "                 title='Year vs. Selling Price',\n",
    "                 labels={'Year': 'Manufacturing Year', 'Selling_Price': 'Selling Price'})\n",
    "\n",
    "fig.update_layout(xaxis_title='Manufacturing Year', yaxis_title='Selling Price')\n",
    "fig.show()"
   ]
  },
  {
   "cell_type": "code",
   "execution_count": 18,
   "metadata": {},
   "outputs": [
    {
     "data": {
      "application/vnd.plotly.v1+json": {
       "config": {
        "plotlyServerURL": "https://plot.ly"
       },
       "data": [
        {
         "alignmentgroup": "True",
         "hovertemplate": "Fuel Type=%{x}<br>Present Price=%{y}<extra></extra>",
         "legendgroup": "Petrol",
         "marker": {
          "color": "#636efa"
         },
         "name": "Petrol",
         "notched": false,
         "offsetgroup": "Petrol",
         "orientation": "v",
         "showlegend": true,
         "type": "box",
         "x": [
          "Petrol",
          "Petrol",
          "Petrol",
          "Petrol",
          "Petrol",
          "Petrol",
          "Petrol",
          "Petrol",
          "Petrol",
          "Petrol",
          "Petrol",
          "Petrol",
          "Petrol",
          "Petrol",
          "Petrol",
          "Petrol",
          "Petrol",
          "Petrol",
          "Petrol",
          "Petrol",
          "Petrol",
          "Petrol",
          "Petrol",
          "Petrol",
          "Petrol",
          "Petrol",
          "Petrol",
          "Petrol",
          "Petrol",
          "Petrol",
          "Petrol",
          "Petrol",
          "Petrol",
          "Petrol",
          "Petrol",
          "Petrol",
          "Petrol",
          "Petrol",
          "Petrol",
          "Petrol",
          "Petrol",
          "Petrol",
          "Petrol",
          "Petrol",
          "Petrol",
          "Petrol",
          "Petrol",
          "Petrol",
          "Petrol",
          "Petrol",
          "Petrol",
          "Petrol",
          "Petrol",
          "Petrol",
          "Petrol",
          "Petrol",
          "Petrol",
          "Petrol",
          "Petrol",
          "Petrol",
          "Petrol",
          "Petrol",
          "Petrol",
          "Petrol",
          "Petrol",
          "Petrol",
          "Petrol",
          "Petrol",
          "Petrol",
          "Petrol",
          "Petrol",
          "Petrol",
          "Petrol",
          "Petrol",
          "Petrol",
          "Petrol",
          "Petrol",
          "Petrol",
          "Petrol",
          "Petrol",
          "Petrol",
          "Petrol",
          "Petrol",
          "Petrol",
          "Petrol",
          "Petrol",
          "Petrol",
          "Petrol",
          "Petrol",
          "Petrol",
          "Petrol",
          "Petrol",
          "Petrol",
          "Petrol",
          "Petrol",
          "Petrol",
          "Petrol",
          "Petrol",
          "Petrol",
          "Petrol",
          "Petrol",
          "Petrol",
          "Petrol",
          "Petrol",
          "Petrol",
          "Petrol",
          "Petrol",
          "Petrol",
          "Petrol",
          "Petrol",
          "Petrol",
          "Petrol",
          "Petrol",
          "Petrol",
          "Petrol",
          "Petrol",
          "Petrol",
          "Petrol",
          "Petrol",
          "Petrol",
          "Petrol",
          "Petrol",
          "Petrol",
          "Petrol",
          "Petrol",
          "Petrol",
          "Petrol",
          "Petrol",
          "Petrol",
          "Petrol",
          "Petrol",
          "Petrol",
          "Petrol",
          "Petrol",
          "Petrol",
          "Petrol",
          "Petrol",
          "Petrol",
          "Petrol",
          "Petrol",
          "Petrol",
          "Petrol",
          "Petrol",
          "Petrol",
          "Petrol",
          "Petrol",
          "Petrol",
          "Petrol",
          "Petrol",
          "Petrol",
          "Petrol",
          "Petrol",
          "Petrol",
          "Petrol",
          "Petrol",
          "Petrol",
          "Petrol",
          "Petrol",
          "Petrol",
          "Petrol",
          "Petrol",
          "Petrol",
          "Petrol",
          "Petrol",
          "Petrol",
          "Petrol",
          "Petrol",
          "Petrol",
          "Petrol",
          "Petrol",
          "Petrol",
          "Petrol",
          "Petrol",
          "Petrol",
          "Petrol",
          "Petrol",
          "Petrol",
          "Petrol",
          "Petrol",
          "Petrol",
          "Petrol",
          "Petrol",
          "Petrol",
          "Petrol",
          "Petrol",
          "Petrol",
          "Petrol",
          "Petrol",
          "Petrol",
          "Petrol",
          "Petrol",
          "Petrol",
          "Petrol",
          "Petrol",
          "Petrol",
          "Petrol",
          "Petrol",
          "Petrol",
          "Petrol",
          "Petrol",
          "Petrol",
          "Petrol",
          "Petrol",
          "Petrol",
          "Petrol",
          "Petrol",
          "Petrol",
          "Petrol",
          "Petrol",
          "Petrol",
          "Petrol",
          "Petrol",
          "Petrol",
          "Petrol",
          "Petrol",
          "Petrol",
          "Petrol",
          "Petrol",
          "Petrol",
          "Petrol",
          "Petrol",
          "Petrol",
          "Petrol",
          "Petrol",
          "Petrol",
          "Petrol",
          "Petrol",
          "Petrol",
          "Petrol",
          "Petrol",
          "Petrol",
          "Petrol",
          "Petrol",
          "Petrol",
          "Petrol",
          "Petrol",
          "Petrol",
          "Petrol",
          "Petrol"
         ],
         "x0": " ",
         "xaxis": "x",
         "y": [
          5.59,
          9.85,
          4.15,
          8.12,
          3.6,
          9.94,
          7.71,
          7.21,
          7.98,
          3.95,
          5.71,
          8.01,
          3.46,
          4.41,
          4.99,
          5.87,
          6.49,
          3.95,
          4.89,
          7.2,
          2.28,
          3.76,
          7.98,
          7.87,
          3.98,
          7.15,
          2.69,
          12.04,
          4.89,
          4.15,
          7.71,
          9.29,
          10.21,
          15.04,
          7.27,
          18.54,
          6.8,
          18.61,
          7.7,
          23.15,
          13.74,
          20.91,
          18.61,
          5.71,
          6.8,
          14.68,
          12.35,
          22.83,
          23.73,
          13.74,
          6.05,
          6.76,
          18.61,
          13.7,
          22.78,
          18.61,
          18.64,
          18.61,
          1.9,
          1.82,
          1.78,
          1.6,
          1.47,
          2.37,
          3.45,
          1.5,
          1.5,
          1.47,
          1.78,
          1.5,
          2.4,
          1.4,
          1.47,
          1.47,
          1.47,
          1.9,
          1.47,
          1.9,
          1.26,
          1.5,
          1.17,
          1.47,
          1.75,
          1.75,
          0.95,
          0.8,
          0.87,
          0.84,
          0.87,
          0.82,
          0.95,
          0.95,
          0.81,
          0.74,
          1.2,
          0.787,
          0.87,
          0.95,
          1.2,
          0.8,
          0.84,
          0.84,
          0.99,
          0.81,
          0.787,
          0.84,
          0.94,
          0.94,
          0.826,
          0.55,
          0.99,
          0.99,
          0.88,
          0.51,
          0.52,
          0.84,
          0.54,
          0.51,
          0.95,
          0.826,
          0.99,
          0.95,
          0.54,
          0.54,
          0.55,
          0.81,
          0.73,
          0.54,
          0.83,
          0.55,
          0.64,
          0.51,
          0.72,
          0.787,
          1.05,
          0.57,
          0.52,
          1.05,
          0.51,
          0.48,
          0.58,
          0.47,
          0.75,
          0.58,
          0.52,
          0.51,
          0.57,
          0.57,
          0.75,
          0.57,
          0.75,
          0.65,
          0.787,
          0.32,
          0.52,
          0.51,
          0.57,
          0.58,
          0.75,
          5.7,
          4.6,
          4.43,
          5.7,
          7.13,
          5.7,
          8.1,
          4.6,
          13.6,
          6.79,
          5.7,
          9.4,
          4.43,
          4.43,
          9.4,
          9.4,
          4.43,
          6.79,
          9.4,
          4.6,
          5.7,
          4.43,
          9.4,
          14.79,
          5.7,
          9.4,
          4.43,
          9.4,
          4.43,
          7.13,
          7.13,
          7.6,
          6.79,
          9.4,
          4.6,
          7.6,
          9.9,
          6.82,
          9.9,
          5.35,
          13.6,
          13.6,
          13.6,
          7,
          13.6,
          5.97,
          5.8,
          7.7,
          7,
          8.7,
          7,
          5.8,
          10,
          10,
          10,
          10,
          7.5,
          6.8,
          13.6,
          13.6,
          13.6,
          8.4,
          13.6,
          5.9,
          7.6,
          11.8,
          5.9,
          8.5,
          7.9,
          7.5,
          13.6,
          13.6,
          6.4,
          6.1,
          8.4,
          9.9,
          6.8,
          5.9,
          11,
          5.9
         ],
         "y0": " ",
         "yaxis": "y"
        },
        {
         "alignmentgroup": "True",
         "hovertemplate": "Fuel Type=%{x}<br>Present Price=%{y}<extra></extra>",
         "legendgroup": "Diesel",
         "marker": {
          "color": "#EF553B"
         },
         "name": "Diesel",
         "notched": false,
         "offsetgroup": "Diesel",
         "orientation": "v",
         "showlegend": true,
         "type": "box",
         "x": [
          "Diesel",
          "Diesel",
          "Diesel",
          "Diesel",
          "Diesel",
          "Diesel",
          "Diesel",
          "Diesel",
          "Diesel",
          "Diesel",
          "Diesel",
          "Diesel",
          "Diesel",
          "Diesel",
          "Diesel",
          "Diesel",
          "Diesel",
          "Diesel",
          "Diesel",
          "Diesel",
          "Diesel",
          "Diesel",
          "Diesel",
          "Diesel",
          "Diesel",
          "Diesel",
          "Diesel",
          "Diesel",
          "Diesel",
          "Diesel",
          "Diesel",
          "Diesel",
          "Diesel",
          "Diesel",
          "Diesel",
          "Diesel",
          "Diesel",
          "Diesel",
          "Diesel",
          "Diesel",
          "Diesel",
          "Diesel",
          "Diesel",
          "Diesel",
          "Diesel",
          "Diesel",
          "Diesel",
          "Diesel",
          "Diesel",
          "Diesel",
          "Diesel",
          "Diesel",
          "Diesel",
          "Diesel",
          "Diesel",
          "Diesel",
          "Diesel",
          "Diesel",
          "Diesel",
          "Diesel"
         ],
         "x0": " ",
         "xaxis": "x",
         "y": [
          9.54,
          6.87,
          9.83,
          8.61,
          8.89,
          8.92,
          10.38,
          10.79,
          10.79,
          10.79,
          10.38,
          5.98,
          7.49,
          9.95,
          8.06,
          8.06,
          30.61,
          30.61,
          19.77,
          30.61,
          35.96,
          35.96,
          35.96,
          36.23,
          6.95,
          20.45,
          6.76,
          12.48,
          8.93,
          30.61,
          14.89,
          7.85,
          25.39,
          13.46,
          13.46,
          92.6,
          16.09,
          30.61,
          25.39,
          20.45,
          6.79,
          5.7,
          14.79,
          7.6,
          9.4,
          9.4,
          6.79,
          9.4,
          5.7,
          13.6,
          9.4,
          9.4,
          9.4,
          13.6,
          9.9,
          9.4,
          14,
          13.09,
          11.6,
          12.5
         ],
         "y0": " ",
         "yaxis": "y"
        },
        {
         "alignmentgroup": "True",
         "hovertemplate": "Fuel Type=%{x}<br>Present Price=%{y}<extra></extra>",
         "legendgroup": "CNG",
         "marker": {
          "color": "#00cc96"
         },
         "name": "CNG",
         "notched": false,
         "offsetgroup": "CNG",
         "orientation": "v",
         "showlegend": true,
         "type": "box",
         "x": [
          "CNG",
          "CNG"
         ],
         "x0": " ",
         "xaxis": "x",
         "y": [
          5.09,
          7.74
         ],
         "y0": " ",
         "yaxis": "y"
        }
       ],
       "layout": {
        "boxmode": "overlay",
        "legend": {
         "title": {
          "text": "Fuel Type"
         },
         "tracegroupgap": 0
        },
        "template": {
         "data": {
          "bar": [
           {
            "error_x": {
             "color": "#2a3f5f"
            },
            "error_y": {
             "color": "#2a3f5f"
            },
            "marker": {
             "line": {
              "color": "#E5ECF6",
              "width": 0.5
             },
             "pattern": {
              "fillmode": "overlay",
              "size": 10,
              "solidity": 0.2
             }
            },
            "type": "bar"
           }
          ],
          "barpolar": [
           {
            "marker": {
             "line": {
              "color": "#E5ECF6",
              "width": 0.5
             },
             "pattern": {
              "fillmode": "overlay",
              "size": 10,
              "solidity": 0.2
             }
            },
            "type": "barpolar"
           }
          ],
          "carpet": [
           {
            "aaxis": {
             "endlinecolor": "#2a3f5f",
             "gridcolor": "white",
             "linecolor": "white",
             "minorgridcolor": "white",
             "startlinecolor": "#2a3f5f"
            },
            "baxis": {
             "endlinecolor": "#2a3f5f",
             "gridcolor": "white",
             "linecolor": "white",
             "minorgridcolor": "white",
             "startlinecolor": "#2a3f5f"
            },
            "type": "carpet"
           }
          ],
          "choropleth": [
           {
            "colorbar": {
             "outlinewidth": 0,
             "ticks": ""
            },
            "type": "choropleth"
           }
          ],
          "contour": [
           {
            "colorbar": {
             "outlinewidth": 0,
             "ticks": ""
            },
            "colorscale": [
             [
              0,
              "#0d0887"
             ],
             [
              0.1111111111111111,
              "#46039f"
             ],
             [
              0.2222222222222222,
              "#7201a8"
             ],
             [
              0.3333333333333333,
              "#9c179e"
             ],
             [
              0.4444444444444444,
              "#bd3786"
             ],
             [
              0.5555555555555556,
              "#d8576b"
             ],
             [
              0.6666666666666666,
              "#ed7953"
             ],
             [
              0.7777777777777778,
              "#fb9f3a"
             ],
             [
              0.8888888888888888,
              "#fdca26"
             ],
             [
              1,
              "#f0f921"
             ]
            ],
            "type": "contour"
           }
          ],
          "contourcarpet": [
           {
            "colorbar": {
             "outlinewidth": 0,
             "ticks": ""
            },
            "type": "contourcarpet"
           }
          ],
          "heatmap": [
           {
            "colorbar": {
             "outlinewidth": 0,
             "ticks": ""
            },
            "colorscale": [
             [
              0,
              "#0d0887"
             ],
             [
              0.1111111111111111,
              "#46039f"
             ],
             [
              0.2222222222222222,
              "#7201a8"
             ],
             [
              0.3333333333333333,
              "#9c179e"
             ],
             [
              0.4444444444444444,
              "#bd3786"
             ],
             [
              0.5555555555555556,
              "#d8576b"
             ],
             [
              0.6666666666666666,
              "#ed7953"
             ],
             [
              0.7777777777777778,
              "#fb9f3a"
             ],
             [
              0.8888888888888888,
              "#fdca26"
             ],
             [
              1,
              "#f0f921"
             ]
            ],
            "type": "heatmap"
           }
          ],
          "heatmapgl": [
           {
            "colorbar": {
             "outlinewidth": 0,
             "ticks": ""
            },
            "colorscale": [
             [
              0,
              "#0d0887"
             ],
             [
              0.1111111111111111,
              "#46039f"
             ],
             [
              0.2222222222222222,
              "#7201a8"
             ],
             [
              0.3333333333333333,
              "#9c179e"
             ],
             [
              0.4444444444444444,
              "#bd3786"
             ],
             [
              0.5555555555555556,
              "#d8576b"
             ],
             [
              0.6666666666666666,
              "#ed7953"
             ],
             [
              0.7777777777777778,
              "#fb9f3a"
             ],
             [
              0.8888888888888888,
              "#fdca26"
             ],
             [
              1,
              "#f0f921"
             ]
            ],
            "type": "heatmapgl"
           }
          ],
          "histogram": [
           {
            "marker": {
             "pattern": {
              "fillmode": "overlay",
              "size": 10,
              "solidity": 0.2
             }
            },
            "type": "histogram"
           }
          ],
          "histogram2d": [
           {
            "colorbar": {
             "outlinewidth": 0,
             "ticks": ""
            },
            "colorscale": [
             [
              0,
              "#0d0887"
             ],
             [
              0.1111111111111111,
              "#46039f"
             ],
             [
              0.2222222222222222,
              "#7201a8"
             ],
             [
              0.3333333333333333,
              "#9c179e"
             ],
             [
              0.4444444444444444,
              "#bd3786"
             ],
             [
              0.5555555555555556,
              "#d8576b"
             ],
             [
              0.6666666666666666,
              "#ed7953"
             ],
             [
              0.7777777777777778,
              "#fb9f3a"
             ],
             [
              0.8888888888888888,
              "#fdca26"
             ],
             [
              1,
              "#f0f921"
             ]
            ],
            "type": "histogram2d"
           }
          ],
          "histogram2dcontour": [
           {
            "colorbar": {
             "outlinewidth": 0,
             "ticks": ""
            },
            "colorscale": [
             [
              0,
              "#0d0887"
             ],
             [
              0.1111111111111111,
              "#46039f"
             ],
             [
              0.2222222222222222,
              "#7201a8"
             ],
             [
              0.3333333333333333,
              "#9c179e"
             ],
             [
              0.4444444444444444,
              "#bd3786"
             ],
             [
              0.5555555555555556,
              "#d8576b"
             ],
             [
              0.6666666666666666,
              "#ed7953"
             ],
             [
              0.7777777777777778,
              "#fb9f3a"
             ],
             [
              0.8888888888888888,
              "#fdca26"
             ],
             [
              1,
              "#f0f921"
             ]
            ],
            "type": "histogram2dcontour"
           }
          ],
          "mesh3d": [
           {
            "colorbar": {
             "outlinewidth": 0,
             "ticks": ""
            },
            "type": "mesh3d"
           }
          ],
          "parcoords": [
           {
            "line": {
             "colorbar": {
              "outlinewidth": 0,
              "ticks": ""
             }
            },
            "type": "parcoords"
           }
          ],
          "pie": [
           {
            "automargin": true,
            "type": "pie"
           }
          ],
          "scatter": [
           {
            "fillpattern": {
             "fillmode": "overlay",
             "size": 10,
             "solidity": 0.2
            },
            "type": "scatter"
           }
          ],
          "scatter3d": [
           {
            "line": {
             "colorbar": {
              "outlinewidth": 0,
              "ticks": ""
             }
            },
            "marker": {
             "colorbar": {
              "outlinewidth": 0,
              "ticks": ""
             }
            },
            "type": "scatter3d"
           }
          ],
          "scattercarpet": [
           {
            "marker": {
             "colorbar": {
              "outlinewidth": 0,
              "ticks": ""
             }
            },
            "type": "scattercarpet"
           }
          ],
          "scattergeo": [
           {
            "marker": {
             "colorbar": {
              "outlinewidth": 0,
              "ticks": ""
             }
            },
            "type": "scattergeo"
           }
          ],
          "scattergl": [
           {
            "marker": {
             "colorbar": {
              "outlinewidth": 0,
              "ticks": ""
             }
            },
            "type": "scattergl"
           }
          ],
          "scattermapbox": [
           {
            "marker": {
             "colorbar": {
              "outlinewidth": 0,
              "ticks": ""
             }
            },
            "type": "scattermapbox"
           }
          ],
          "scatterpolar": [
           {
            "marker": {
             "colorbar": {
              "outlinewidth": 0,
              "ticks": ""
             }
            },
            "type": "scatterpolar"
           }
          ],
          "scatterpolargl": [
           {
            "marker": {
             "colorbar": {
              "outlinewidth": 0,
              "ticks": ""
             }
            },
            "type": "scatterpolargl"
           }
          ],
          "scatterternary": [
           {
            "marker": {
             "colorbar": {
              "outlinewidth": 0,
              "ticks": ""
             }
            },
            "type": "scatterternary"
           }
          ],
          "surface": [
           {
            "colorbar": {
             "outlinewidth": 0,
             "ticks": ""
            },
            "colorscale": [
             [
              0,
              "#0d0887"
             ],
             [
              0.1111111111111111,
              "#46039f"
             ],
             [
              0.2222222222222222,
              "#7201a8"
             ],
             [
              0.3333333333333333,
              "#9c179e"
             ],
             [
              0.4444444444444444,
              "#bd3786"
             ],
             [
              0.5555555555555556,
              "#d8576b"
             ],
             [
              0.6666666666666666,
              "#ed7953"
             ],
             [
              0.7777777777777778,
              "#fb9f3a"
             ],
             [
              0.8888888888888888,
              "#fdca26"
             ],
             [
              1,
              "#f0f921"
             ]
            ],
            "type": "surface"
           }
          ],
          "table": [
           {
            "cells": {
             "fill": {
              "color": "#EBF0F8"
             },
             "line": {
              "color": "white"
             }
            },
            "header": {
             "fill": {
              "color": "#C8D4E3"
             },
             "line": {
              "color": "white"
             }
            },
            "type": "table"
           }
          ]
         },
         "layout": {
          "annotationdefaults": {
           "arrowcolor": "#2a3f5f",
           "arrowhead": 0,
           "arrowwidth": 1
          },
          "autotypenumbers": "strict",
          "coloraxis": {
           "colorbar": {
            "outlinewidth": 0,
            "ticks": ""
           }
          },
          "colorscale": {
           "diverging": [
            [
             0,
             "#8e0152"
            ],
            [
             0.1,
             "#c51b7d"
            ],
            [
             0.2,
             "#de77ae"
            ],
            [
             0.3,
             "#f1b6da"
            ],
            [
             0.4,
             "#fde0ef"
            ],
            [
             0.5,
             "#f7f7f7"
            ],
            [
             0.6,
             "#e6f5d0"
            ],
            [
             0.7,
             "#b8e186"
            ],
            [
             0.8,
             "#7fbc41"
            ],
            [
             0.9,
             "#4d9221"
            ],
            [
             1,
             "#276419"
            ]
           ],
           "sequential": [
            [
             0,
             "#0d0887"
            ],
            [
             0.1111111111111111,
             "#46039f"
            ],
            [
             0.2222222222222222,
             "#7201a8"
            ],
            [
             0.3333333333333333,
             "#9c179e"
            ],
            [
             0.4444444444444444,
             "#bd3786"
            ],
            [
             0.5555555555555556,
             "#d8576b"
            ],
            [
             0.6666666666666666,
             "#ed7953"
            ],
            [
             0.7777777777777778,
             "#fb9f3a"
            ],
            [
             0.8888888888888888,
             "#fdca26"
            ],
            [
             1,
             "#f0f921"
            ]
           ],
           "sequentialminus": [
            [
             0,
             "#0d0887"
            ],
            [
             0.1111111111111111,
             "#46039f"
            ],
            [
             0.2222222222222222,
             "#7201a8"
            ],
            [
             0.3333333333333333,
             "#9c179e"
            ],
            [
             0.4444444444444444,
             "#bd3786"
            ],
            [
             0.5555555555555556,
             "#d8576b"
            ],
            [
             0.6666666666666666,
             "#ed7953"
            ],
            [
             0.7777777777777778,
             "#fb9f3a"
            ],
            [
             0.8888888888888888,
             "#fdca26"
            ],
            [
             1,
             "#f0f921"
            ]
           ]
          },
          "colorway": [
           "#636efa",
           "#EF553B",
           "#00cc96",
           "#ab63fa",
           "#FFA15A",
           "#19d3f3",
           "#FF6692",
           "#B6E880",
           "#FF97FF",
           "#FECB52"
          ],
          "font": {
           "color": "#2a3f5f"
          },
          "geo": {
           "bgcolor": "white",
           "lakecolor": "white",
           "landcolor": "#E5ECF6",
           "showlakes": true,
           "showland": true,
           "subunitcolor": "white"
          },
          "hoverlabel": {
           "align": "left"
          },
          "hovermode": "closest",
          "mapbox": {
           "style": "light"
          },
          "paper_bgcolor": "white",
          "plot_bgcolor": "#E5ECF6",
          "polar": {
           "angularaxis": {
            "gridcolor": "white",
            "linecolor": "white",
            "ticks": ""
           },
           "bgcolor": "#E5ECF6",
           "radialaxis": {
            "gridcolor": "white",
            "linecolor": "white",
            "ticks": ""
           }
          },
          "scene": {
           "xaxis": {
            "backgroundcolor": "#E5ECF6",
            "gridcolor": "white",
            "gridwidth": 2,
            "linecolor": "white",
            "showbackground": true,
            "ticks": "",
            "zerolinecolor": "white"
           },
           "yaxis": {
            "backgroundcolor": "#E5ECF6",
            "gridcolor": "white",
            "gridwidth": 2,
            "linecolor": "white",
            "showbackground": true,
            "ticks": "",
            "zerolinecolor": "white"
           },
           "zaxis": {
            "backgroundcolor": "#E5ECF6",
            "gridcolor": "white",
            "gridwidth": 2,
            "linecolor": "white",
            "showbackground": true,
            "ticks": "",
            "zerolinecolor": "white"
           }
          },
          "shapedefaults": {
           "line": {
            "color": "#2a3f5f"
           }
          },
          "ternary": {
           "aaxis": {
            "gridcolor": "white",
            "linecolor": "white",
            "ticks": ""
           },
           "baxis": {
            "gridcolor": "white",
            "linecolor": "white",
            "ticks": ""
           },
           "bgcolor": "#E5ECF6",
           "caxis": {
            "gridcolor": "white",
            "linecolor": "white",
            "ticks": ""
           }
          },
          "title": {
           "x": 0.05
          },
          "xaxis": {
           "automargin": true,
           "gridcolor": "white",
           "linecolor": "white",
           "ticks": "",
           "title": {
            "standoff": 15
           },
           "zerolinecolor": "white",
           "zerolinewidth": 2
          },
          "yaxis": {
           "automargin": true,
           "gridcolor": "white",
           "linecolor": "white",
           "ticks": "",
           "title": {
            "standoff": 15
           },
           "zerolinecolor": "white",
           "zerolinewidth": 2
          }
         }
        },
        "title": {
         "text": "Present Prices vs. Fuel Type"
        },
        "xaxis": {
         "anchor": "y",
         "categoryarray": [
          "Petrol",
          "Diesel",
          "CNG"
         ],
         "categoryorder": "array",
         "domain": [
          0,
          1
         ],
         "title": {
          "text": "Fuel Type"
         }
        },
        "yaxis": {
         "anchor": "x",
         "domain": [
          0,
          1
         ],
         "title": {
          "text": "Present Price"
         }
        }
       }
      }
     },
     "metadata": {},
     "output_type": "display_data"
    }
   ],
   "source": [
    "# Box Plot: Fuel_Type vs. Present_Price\n",
    "fig = px.box(Data, x='Fuel_Type', y='Present_Price', color='Fuel_Type',\n",
    "             title='Present Prices vs. Fuel Type',\n",
    "             labels={'Present_Price': 'Present Price', 'Fuel_Type': 'Fuel Type'})\n",
    "\n",
    "fig.update_layout(xaxis_title='Fuel Type', yaxis_title='Present Price')\n",
    "fig.show()"
   ]
  },
  {
   "cell_type": "code",
   "execution_count": 19,
   "metadata": {},
   "outputs": [
    {
     "data": {
      "application/vnd.plotly.v1+json": {
       "config": {
        "plotlyServerURL": "https://plot.ly"
       },
       "data": [
        {
         "alignmentgroup": "True",
         "box": {
          "visible": true
         },
         "hovertemplate": "Transmission Type=%{x}<br>Kilometers Driven=%{y}<extra></extra>",
         "legendgroup": "",
         "marker": {
          "color": "#636efa"
         },
         "name": "",
         "offsetgroup": "",
         "orientation": "v",
         "points": "all",
         "scalegroup": "True",
         "showlegend": false,
         "type": "violin",
         "x": [
          "Manual",
          "Manual",
          "Manual",
          "Manual",
          "Manual",
          "Manual",
          "Manual",
          "Manual",
          "Manual",
          "Manual",
          "Manual",
          "Manual",
          "Automatic",
          "Manual",
          "Manual",
          "Manual",
          "Manual",
          "Manual",
          "Manual",
          "Manual",
          "Manual",
          "Manual",
          "Automatic",
          "Manual",
          "Manual",
          "Manual",
          "Manual",
          "Manual",
          "Manual",
          "Manual",
          "Manual",
          "Manual",
          "Manual",
          "Manual",
          "Manual",
          "Manual",
          "Manual",
          "Manual",
          "Manual",
          "Manual",
          "Automatic",
          "Manual",
          "Manual",
          "Manual",
          "Manual",
          "Automatic",
          "Manual",
          "Manual",
          "Manual",
          "Automatic",
          "Automatic",
          "Automatic",
          "Automatic",
          "Automatic",
          "Manual",
          "Automatic",
          "Manual",
          "Manual",
          "Manual",
          "Automatic",
          "Manual",
          "Manual",
          "Automatic",
          "Automatic",
          "Automatic",
          "Manual",
          "Automatic",
          "Manual",
          "Manual",
          "Manual",
          "Manual",
          "Manual",
          "Manual",
          "Manual",
          "Manual",
          "Manual",
          "Manual",
          "Automatic",
          "Automatic",
          "Automatic",
          "Manual",
          "Manual",
          "Automatic",
          "Manual",
          "Manual",
          "Automatic",
          "Manual",
          "Manual",
          "Manual",
          "Manual",
          "Manual",
          "Manual",
          "Manual",
          "Automatic",
          "Automatic",
          "Manual",
          "Automatic",
          "Manual",
          "Manual",
          "Manual",
          "Manual",
          "Manual",
          "Manual",
          "Manual",
          "Manual",
          "Manual",
          "Manual",
          "Manual",
          "Manual",
          "Manual",
          "Manual",
          "Manual",
          "Manual",
          "Manual",
          "Manual",
          "Manual",
          "Manual",
          "Manual",
          "Manual",
          "Manual",
          "Manual",
          "Manual",
          "Manual",
          "Manual",
          "Manual",
          "Manual",
          "Manual",
          "Manual",
          "Manual",
          "Manual",
          "Manual",
          "Manual",
          "Manual",
          "Manual",
          "Manual",
          "Manual",
          "Manual",
          "Manual",
          "Manual",
          "Manual",
          "Manual",
          "Manual",
          "Manual",
          "Manual",
          "Manual",
          "Manual",
          "Manual",
          "Manual",
          "Manual",
          "Manual",
          "Manual",
          "Manual",
          "Manual",
          "Manual",
          "Manual",
          "Automatic",
          "Manual",
          "Manual",
          "Manual",
          "Automatic",
          "Manual",
          "Manual",
          "Manual",
          "Manual",
          "Manual",
          "Automatic",
          "Manual",
          "Manual",
          "Manual",
          "Manual",
          "Manual",
          "Manual",
          "Manual",
          "Automatic",
          "Manual",
          "Manual",
          "Manual",
          "Automatic",
          "Automatic",
          "Manual",
          "Manual",
          "Manual",
          "Manual",
          "Manual",
          "Manual",
          "Automatic",
          "Automatic",
          "Manual",
          "Manual",
          "Manual",
          "Manual",
          "Manual",
          "Manual",
          "Manual",
          "Manual",
          "Manual",
          "Automatic",
          "Manual",
          "Manual",
          "Manual",
          "Manual",
          "Manual",
          "Manual",
          "Manual",
          "Manual",
          "Manual",
          "Manual",
          "Automatic",
          "Manual",
          "Manual",
          "Manual",
          "Manual",
          "Manual",
          "Manual",
          "Manual",
          "Manual",
          "Manual",
          "Manual",
          "Manual",
          "Manual",
          "Manual",
          "Automatic",
          "Manual",
          "Manual",
          "Automatic",
          "Manual",
          "Manual",
          "Manual",
          "Manual",
          "Manual",
          "Manual",
          "Manual",
          "Automatic",
          "Manual",
          "Manual",
          "Manual",
          "Manual",
          "Manual",
          "Manual",
          "Manual",
          "Manual",
          "Manual",
          "Manual",
          "Manual",
          "Manual",
          "Manual",
          "Manual",
          "Manual",
          "Manual",
          "Manual",
          "Manual",
          "Manual",
          "Automatic",
          "Manual",
          "Manual",
          "Manual",
          "Manual",
          "Manual",
          "Manual",
          "Manual",
          "Manual",
          "Manual",
          "Manual",
          "Manual",
          "Manual",
          "Manual",
          "Manual",
          "Manual",
          "Manual",
          "Manual",
          "Manual",
          "Manual",
          "Manual",
          "Manual",
          "Manual",
          "Automatic",
          "Manual",
          "Manual",
          "Manual",
          "Manual",
          "Manual",
          "Manual",
          "Manual",
          "Manual",
          "Manual",
          "Automatic",
          "Manual",
          "Automatic",
          "Manual",
          "Manual",
          "Manual",
          "Manual",
          "Manual",
          "Manual",
          "Manual",
          "Manual",
          "Manual",
          "Manual",
          "Manual",
          "Manual",
          "Manual"
         ],
         "x0": " ",
         "xaxis": "x",
         "y": [
          27000,
          43000,
          6900,
          5200,
          42450,
          2071,
          18796,
          33429,
          20273,
          42367,
          2135,
          51000,
          15000,
          26000,
          77427,
          43000,
          41678,
          43000,
          35500,
          41442,
          25000,
          2400,
          50000,
          45280,
          56879,
          20000,
          55138,
          16200,
          44542,
          45000,
          51439,
          54200,
          39000,
          45000,
          45000,
          49998,
          48767,
          127000,
          10079,
          62000,
          24524,
          46706,
          58000,
          45780,
          50000,
          15000,
          64532,
          65000,
          25870,
          37000,
          104707,
          40000,
          15000,
          135000,
          90000,
          70000,
          40534,
          50000,
          39485,
          41000,
          40001,
          40588,
          78000,
          47000,
          6000,
          45000,
          11000,
          59000,
          88000,
          12000,
          71000,
          45000,
          56001,
          43000,
          83000,
          36000,
          72000,
          135154,
          80000,
          89000,
          23000,
          40000,
          15000,
          38000,
          197176,
          142000,
          78000,
          56000,
          47000,
          40000,
          62000,
          58242,
          75000,
          40000,
          89000,
          72000,
          29000,
          8700,
          45000,
          50024,
          3000,
          1400,
          4000,
          1200,
          4100,
          21700,
          16500,
          15000,
          18000,
          11000,
          6000,
          8700,
          7000,
          35000,
          17000,
          17500,
          33000,
          14000,
          26000,
          5400,
          5700,
          6900,
          6000,
          46500,
          11500,
          40000,
          1300,
          7000,
          3000,
          5000,
          11000,
          18000,
          3500,
          500,
          11800,
          5000,
          23500,
          16000,
          15000,
          16600,
          32000,
          20000,
          29000,
          25000,
          25000,
          19000,
          15000,
          58000,
          45000,
          24000,
          6000,
          31000,
          13000,
          45000,
          8000,
          4300,
          15000,
          23000,
          8600,
          4000,
          24000,
          23000,
          14500,
          27000,
          14000,
          500,
          1000,
          42000,
          12000,
          14000,
          5500,
          6700,
          13700,
          1300,
          38600,
          75000,
          30000,
          24000,
          19000,
          213000,
          60000,
          50000,
          30000,
          21000,
          26000,
          1900,
          22000,
          32000,
          18000,
          55000,
          60000,
          25000,
          49000,
          24000,
          50000,
          35000,
          500000,
          33000,
          35000,
          53000,
          92233,
          58000,
          28200,
          53460,
          28282,
          3493,
          12479,
          34797,
          3435,
          21125,
          35775,
          43535,
          22671,
          31604,
          20114,
          36100,
          12500,
          15000,
          45078,
          36000,
          38488,
          32000,
          77632,
          61381,
          36198,
          22517,
          24678,
          57000,
          60000,
          52132,
          45000,
          15001,
          12900,
          53000,
          4492,
          15141,
          11849,
          68000,
          60241,
          23709,
          32322,
          35866,
          34000,
          7000,
          49000,
          71000,
          35000,
          36000,
          30000,
          17000,
          35934,
          56701,
          31427,
          48000,
          54242,
          53675,
          49562,
          40324,
          25000,
          36054,
          29223,
          5600,
          40023,
          16002,
          40026,
          21200,
          35000,
          19434,
          19000,
          18828,
          69341,
          69562,
          27600,
          61203,
          16500,
          30753,
          24800,
          21780,
          4000,
          40126,
          14465,
          50456,
          63000,
          9010,
          9800,
          15059,
          28569,
          44000,
          34000,
          10980,
          19000,
          31427,
          12000,
          38000,
          33019,
          60076,
          33988,
          60000,
          87934,
          9000,
          5464
         ],
         "y0": " ",
         "yaxis": "y"
        }
       ],
       "layout": {
        "legend": {
         "tracegroupgap": 0
        },
        "template": {
         "data": {
          "bar": [
           {
            "error_x": {
             "color": "#2a3f5f"
            },
            "error_y": {
             "color": "#2a3f5f"
            },
            "marker": {
             "line": {
              "color": "#E5ECF6",
              "width": 0.5
             },
             "pattern": {
              "fillmode": "overlay",
              "size": 10,
              "solidity": 0.2
             }
            },
            "type": "bar"
           }
          ],
          "barpolar": [
           {
            "marker": {
             "line": {
              "color": "#E5ECF6",
              "width": 0.5
             },
             "pattern": {
              "fillmode": "overlay",
              "size": 10,
              "solidity": 0.2
             }
            },
            "type": "barpolar"
           }
          ],
          "carpet": [
           {
            "aaxis": {
             "endlinecolor": "#2a3f5f",
             "gridcolor": "white",
             "linecolor": "white",
             "minorgridcolor": "white",
             "startlinecolor": "#2a3f5f"
            },
            "baxis": {
             "endlinecolor": "#2a3f5f",
             "gridcolor": "white",
             "linecolor": "white",
             "minorgridcolor": "white",
             "startlinecolor": "#2a3f5f"
            },
            "type": "carpet"
           }
          ],
          "choropleth": [
           {
            "colorbar": {
             "outlinewidth": 0,
             "ticks": ""
            },
            "type": "choropleth"
           }
          ],
          "contour": [
           {
            "colorbar": {
             "outlinewidth": 0,
             "ticks": ""
            },
            "colorscale": [
             [
              0,
              "#0d0887"
             ],
             [
              0.1111111111111111,
              "#46039f"
             ],
             [
              0.2222222222222222,
              "#7201a8"
             ],
             [
              0.3333333333333333,
              "#9c179e"
             ],
             [
              0.4444444444444444,
              "#bd3786"
             ],
             [
              0.5555555555555556,
              "#d8576b"
             ],
             [
              0.6666666666666666,
              "#ed7953"
             ],
             [
              0.7777777777777778,
              "#fb9f3a"
             ],
             [
              0.8888888888888888,
              "#fdca26"
             ],
             [
              1,
              "#f0f921"
             ]
            ],
            "type": "contour"
           }
          ],
          "contourcarpet": [
           {
            "colorbar": {
             "outlinewidth": 0,
             "ticks": ""
            },
            "type": "contourcarpet"
           }
          ],
          "heatmap": [
           {
            "colorbar": {
             "outlinewidth": 0,
             "ticks": ""
            },
            "colorscale": [
             [
              0,
              "#0d0887"
             ],
             [
              0.1111111111111111,
              "#46039f"
             ],
             [
              0.2222222222222222,
              "#7201a8"
             ],
             [
              0.3333333333333333,
              "#9c179e"
             ],
             [
              0.4444444444444444,
              "#bd3786"
             ],
             [
              0.5555555555555556,
              "#d8576b"
             ],
             [
              0.6666666666666666,
              "#ed7953"
             ],
             [
              0.7777777777777778,
              "#fb9f3a"
             ],
             [
              0.8888888888888888,
              "#fdca26"
             ],
             [
              1,
              "#f0f921"
             ]
            ],
            "type": "heatmap"
           }
          ],
          "heatmapgl": [
           {
            "colorbar": {
             "outlinewidth": 0,
             "ticks": ""
            },
            "colorscale": [
             [
              0,
              "#0d0887"
             ],
             [
              0.1111111111111111,
              "#46039f"
             ],
             [
              0.2222222222222222,
              "#7201a8"
             ],
             [
              0.3333333333333333,
              "#9c179e"
             ],
             [
              0.4444444444444444,
              "#bd3786"
             ],
             [
              0.5555555555555556,
              "#d8576b"
             ],
             [
              0.6666666666666666,
              "#ed7953"
             ],
             [
              0.7777777777777778,
              "#fb9f3a"
             ],
             [
              0.8888888888888888,
              "#fdca26"
             ],
             [
              1,
              "#f0f921"
             ]
            ],
            "type": "heatmapgl"
           }
          ],
          "histogram": [
           {
            "marker": {
             "pattern": {
              "fillmode": "overlay",
              "size": 10,
              "solidity": 0.2
             }
            },
            "type": "histogram"
           }
          ],
          "histogram2d": [
           {
            "colorbar": {
             "outlinewidth": 0,
             "ticks": ""
            },
            "colorscale": [
             [
              0,
              "#0d0887"
             ],
             [
              0.1111111111111111,
              "#46039f"
             ],
             [
              0.2222222222222222,
              "#7201a8"
             ],
             [
              0.3333333333333333,
              "#9c179e"
             ],
             [
              0.4444444444444444,
              "#bd3786"
             ],
             [
              0.5555555555555556,
              "#d8576b"
             ],
             [
              0.6666666666666666,
              "#ed7953"
             ],
             [
              0.7777777777777778,
              "#fb9f3a"
             ],
             [
              0.8888888888888888,
              "#fdca26"
             ],
             [
              1,
              "#f0f921"
             ]
            ],
            "type": "histogram2d"
           }
          ],
          "histogram2dcontour": [
           {
            "colorbar": {
             "outlinewidth": 0,
             "ticks": ""
            },
            "colorscale": [
             [
              0,
              "#0d0887"
             ],
             [
              0.1111111111111111,
              "#46039f"
             ],
             [
              0.2222222222222222,
              "#7201a8"
             ],
             [
              0.3333333333333333,
              "#9c179e"
             ],
             [
              0.4444444444444444,
              "#bd3786"
             ],
             [
              0.5555555555555556,
              "#d8576b"
             ],
             [
              0.6666666666666666,
              "#ed7953"
             ],
             [
              0.7777777777777778,
              "#fb9f3a"
             ],
             [
              0.8888888888888888,
              "#fdca26"
             ],
             [
              1,
              "#f0f921"
             ]
            ],
            "type": "histogram2dcontour"
           }
          ],
          "mesh3d": [
           {
            "colorbar": {
             "outlinewidth": 0,
             "ticks": ""
            },
            "type": "mesh3d"
           }
          ],
          "parcoords": [
           {
            "line": {
             "colorbar": {
              "outlinewidth": 0,
              "ticks": ""
             }
            },
            "type": "parcoords"
           }
          ],
          "pie": [
           {
            "automargin": true,
            "type": "pie"
           }
          ],
          "scatter": [
           {
            "fillpattern": {
             "fillmode": "overlay",
             "size": 10,
             "solidity": 0.2
            },
            "type": "scatter"
           }
          ],
          "scatter3d": [
           {
            "line": {
             "colorbar": {
              "outlinewidth": 0,
              "ticks": ""
             }
            },
            "marker": {
             "colorbar": {
              "outlinewidth": 0,
              "ticks": ""
             }
            },
            "type": "scatter3d"
           }
          ],
          "scattercarpet": [
           {
            "marker": {
             "colorbar": {
              "outlinewidth": 0,
              "ticks": ""
             }
            },
            "type": "scattercarpet"
           }
          ],
          "scattergeo": [
           {
            "marker": {
             "colorbar": {
              "outlinewidth": 0,
              "ticks": ""
             }
            },
            "type": "scattergeo"
           }
          ],
          "scattergl": [
           {
            "marker": {
             "colorbar": {
              "outlinewidth": 0,
              "ticks": ""
             }
            },
            "type": "scattergl"
           }
          ],
          "scattermapbox": [
           {
            "marker": {
             "colorbar": {
              "outlinewidth": 0,
              "ticks": ""
             }
            },
            "type": "scattermapbox"
           }
          ],
          "scatterpolar": [
           {
            "marker": {
             "colorbar": {
              "outlinewidth": 0,
              "ticks": ""
             }
            },
            "type": "scatterpolar"
           }
          ],
          "scatterpolargl": [
           {
            "marker": {
             "colorbar": {
              "outlinewidth": 0,
              "ticks": ""
             }
            },
            "type": "scatterpolargl"
           }
          ],
          "scatterternary": [
           {
            "marker": {
             "colorbar": {
              "outlinewidth": 0,
              "ticks": ""
             }
            },
            "type": "scatterternary"
           }
          ],
          "surface": [
           {
            "colorbar": {
             "outlinewidth": 0,
             "ticks": ""
            },
            "colorscale": [
             [
              0,
              "#0d0887"
             ],
             [
              0.1111111111111111,
              "#46039f"
             ],
             [
              0.2222222222222222,
              "#7201a8"
             ],
             [
              0.3333333333333333,
              "#9c179e"
             ],
             [
              0.4444444444444444,
              "#bd3786"
             ],
             [
              0.5555555555555556,
              "#d8576b"
             ],
             [
              0.6666666666666666,
              "#ed7953"
             ],
             [
              0.7777777777777778,
              "#fb9f3a"
             ],
             [
              0.8888888888888888,
              "#fdca26"
             ],
             [
              1,
              "#f0f921"
             ]
            ],
            "type": "surface"
           }
          ],
          "table": [
           {
            "cells": {
             "fill": {
              "color": "#EBF0F8"
             },
             "line": {
              "color": "white"
             }
            },
            "header": {
             "fill": {
              "color": "#C8D4E3"
             },
             "line": {
              "color": "white"
             }
            },
            "type": "table"
           }
          ]
         },
         "layout": {
          "annotationdefaults": {
           "arrowcolor": "#2a3f5f",
           "arrowhead": 0,
           "arrowwidth": 1
          },
          "autotypenumbers": "strict",
          "coloraxis": {
           "colorbar": {
            "outlinewidth": 0,
            "ticks": ""
           }
          },
          "colorscale": {
           "diverging": [
            [
             0,
             "#8e0152"
            ],
            [
             0.1,
             "#c51b7d"
            ],
            [
             0.2,
             "#de77ae"
            ],
            [
             0.3,
             "#f1b6da"
            ],
            [
             0.4,
             "#fde0ef"
            ],
            [
             0.5,
             "#f7f7f7"
            ],
            [
             0.6,
             "#e6f5d0"
            ],
            [
             0.7,
             "#b8e186"
            ],
            [
             0.8,
             "#7fbc41"
            ],
            [
             0.9,
             "#4d9221"
            ],
            [
             1,
             "#276419"
            ]
           ],
           "sequential": [
            [
             0,
             "#0d0887"
            ],
            [
             0.1111111111111111,
             "#46039f"
            ],
            [
             0.2222222222222222,
             "#7201a8"
            ],
            [
             0.3333333333333333,
             "#9c179e"
            ],
            [
             0.4444444444444444,
             "#bd3786"
            ],
            [
             0.5555555555555556,
             "#d8576b"
            ],
            [
             0.6666666666666666,
             "#ed7953"
            ],
            [
             0.7777777777777778,
             "#fb9f3a"
            ],
            [
             0.8888888888888888,
             "#fdca26"
            ],
            [
             1,
             "#f0f921"
            ]
           ],
           "sequentialminus": [
            [
             0,
             "#0d0887"
            ],
            [
             0.1111111111111111,
             "#46039f"
            ],
            [
             0.2222222222222222,
             "#7201a8"
            ],
            [
             0.3333333333333333,
             "#9c179e"
            ],
            [
             0.4444444444444444,
             "#bd3786"
            ],
            [
             0.5555555555555556,
             "#d8576b"
            ],
            [
             0.6666666666666666,
             "#ed7953"
            ],
            [
             0.7777777777777778,
             "#fb9f3a"
            ],
            [
             0.8888888888888888,
             "#fdca26"
            ],
            [
             1,
             "#f0f921"
            ]
           ]
          },
          "colorway": [
           "#636efa",
           "#EF553B",
           "#00cc96",
           "#ab63fa",
           "#FFA15A",
           "#19d3f3",
           "#FF6692",
           "#B6E880",
           "#FF97FF",
           "#FECB52"
          ],
          "font": {
           "color": "#2a3f5f"
          },
          "geo": {
           "bgcolor": "white",
           "lakecolor": "white",
           "landcolor": "#E5ECF6",
           "showlakes": true,
           "showland": true,
           "subunitcolor": "white"
          },
          "hoverlabel": {
           "align": "left"
          },
          "hovermode": "closest",
          "mapbox": {
           "style": "light"
          },
          "paper_bgcolor": "white",
          "plot_bgcolor": "#E5ECF6",
          "polar": {
           "angularaxis": {
            "gridcolor": "white",
            "linecolor": "white",
            "ticks": ""
           },
           "bgcolor": "#E5ECF6",
           "radialaxis": {
            "gridcolor": "white",
            "linecolor": "white",
            "ticks": ""
           }
          },
          "scene": {
           "xaxis": {
            "backgroundcolor": "#E5ECF6",
            "gridcolor": "white",
            "gridwidth": 2,
            "linecolor": "white",
            "showbackground": true,
            "ticks": "",
            "zerolinecolor": "white"
           },
           "yaxis": {
            "backgroundcolor": "#E5ECF6",
            "gridcolor": "white",
            "gridwidth": 2,
            "linecolor": "white",
            "showbackground": true,
            "ticks": "",
            "zerolinecolor": "white"
           },
           "zaxis": {
            "backgroundcolor": "#E5ECF6",
            "gridcolor": "white",
            "gridwidth": 2,
            "linecolor": "white",
            "showbackground": true,
            "ticks": "",
            "zerolinecolor": "white"
           }
          },
          "shapedefaults": {
           "line": {
            "color": "#2a3f5f"
           }
          },
          "ternary": {
           "aaxis": {
            "gridcolor": "white",
            "linecolor": "white",
            "ticks": ""
           },
           "baxis": {
            "gridcolor": "white",
            "linecolor": "white",
            "ticks": ""
           },
           "bgcolor": "#E5ECF6",
           "caxis": {
            "gridcolor": "white",
            "linecolor": "white",
            "ticks": ""
           }
          },
          "title": {
           "x": 0.05
          },
          "xaxis": {
           "automargin": true,
           "gridcolor": "white",
           "linecolor": "white",
           "ticks": "",
           "title": {
            "standoff": 15
           },
           "zerolinecolor": "white",
           "zerolinewidth": 2
          },
          "yaxis": {
           "automargin": true,
           "gridcolor": "white",
           "linecolor": "white",
           "ticks": "",
           "title": {
            "standoff": 15
           },
           "zerolinecolor": "white",
           "zerolinewidth": 2
          }
         }
        },
        "title": {
         "text": "Distribution of Kilometers Driven by Transmission Type"
        },
        "violinmode": "group",
        "xaxis": {
         "anchor": "y",
         "domain": [
          0,
          1
         ],
         "title": {
          "text": "Transmission Type"
         }
        },
        "yaxis": {
         "anchor": "x",
         "domain": [
          0,
          1
         ],
         "title": {
          "text": "Kilometers Driven"
         }
        }
       }
      }
     },
     "metadata": {},
     "output_type": "display_data"
    }
   ],
   "source": [
    "# Violin Plot: Transmission vs. Kms_Driven\n",
    "fig = px.violin(Data, x='Transmission', y='Kms_Driven', box=True, points=\"all\",\n",
    "                title='Distribution of Kilometers Driven by Transmission Type',\n",
    "                labels={'Kms_Driven': 'Kilometers Driven', 'Transmission': 'Transmission Type'})\n",
    "\n",
    "fig.update_layout(xaxis_title='Transmission Type', yaxis_title='Kilometers Driven')\n",
    "fig.show()"
   ]
  },
  {
   "cell_type": "markdown",
   "metadata": {},
   "source": [
    "# Multivariate Analysis"
   ]
  },
  {
   "cell_type": "markdown",
   "metadata": {},
   "source": [
    "Multivariate analysis involves examining the relationships between multiple variables simultaneously. This type of analysis helps uncover patterns, associations, and interactions among variables. "
   ]
  },
  {
   "cell_type": "markdown",
   "metadata": {},
   "source": [
    "Correlation Matrix:\n",
    "\n",
    "    A correlation matrix helps identify linear relationships between pairs of numerical variables. Positive values indicate a positive correlation, negative values indicate a negative correlation, and values near zero indicate a weak or no correlation."
   ]
  },
  {
   "cell_type": "code",
   "execution_count": 20,
   "metadata": {},
   "outputs": [
    {
     "data": {
      "text/plain": [
       "<Axes: >"
      ]
     },
     "execution_count": 20,
     "metadata": {},
     "output_type": "execute_result"
    },
    {
     "data": {
      "image/png": "[encoded data removed]",
      "text/plain": [
       "<Figure size 640x480 with 2 Axes>"
      ]
     },
     "metadata": {},
     "output_type": "display_data"
    }
   ],
   "source": [
    "correlation_matrix = Data.corr()\n",
    "sns.heatmap(correlation_matrix, annot=True, cmap='coolwarm', fmt=\".2f\")\n"
   ]
  },
  {
   "cell_type": "markdown",
   "metadata": {},
   "source": [
    "Pair Plots:\n",
    "\n",
    "    Pair plots are useful for visualizing relationships between numerical variables. Each scatter plot in the matrix represents the relationship between two variables, and histograms along the diagonal show the distribution of each variable."
   ]
  },
  {
   "cell_type": "code",
   "execution_count": 21,
   "metadata": {},
   "outputs": [
    {
     "data": {
      "text/plain": [
       "<seaborn.axisgrid.PairGrid at 0x1c8712371c0>"
      ]
     },
     "execution_count": 21,
     "metadata": {},
     "output_type": "execute_result"
    },
    {
     "data": {
      "image/png": "[encoded data removed]",
      "text/plain": [
       "<Figure size 1250x1250 with 30 Axes>"
      ]
     },
     "metadata": {},
     "output_type": "display_data"
    }
   ],
   "source": [
    "sns.pairplot(Data, diag_kind='kde')"
   ]
  },
  {
   "cell_type": "markdown",
   "metadata": {},
   "source": [
    "Scatter Matrix:\n",
    "\n",
    "    Similar to pair plots, a scatter matrix provides scatter plots for numerical variables. It can be helpful when you have more than two numerical variables."
   ]
  },
  {
   "cell_type": "code",
   "execution_count": 22,
   "metadata": {},
   "outputs": [
    {
     "data": {
      "text/plain": [
       "array([[<Axes: xlabel='Year', ylabel='Year'>,\n",
       "        <Axes: xlabel='Selling_Price', ylabel='Year'>,\n",
       "        <Axes: xlabel='Present_Price', ylabel='Year'>,\n",
       "        <Axes: xlabel='Kms_Driven', ylabel='Year'>,\n",
       "        <Axes: xlabel='Owner', ylabel='Year'>],\n",
       "       [<Axes: xlabel='Year', ylabel='Selling_Price'>,\n",
       "        <Axes: xlabel='Selling_Price', ylabel='Selling_Price'>,\n",
       "        <Axes: xlabel='Present_Price', ylabel='Selling_Price'>,\n",
       "        <Axes: xlabel='Kms_Driven', ylabel='Selling_Price'>,\n",
       "        <Axes: xlabel='Owner', ylabel='Selling_Price'>],\n",
       "       [<Axes: xlabel='Year', ylabel='Present_Price'>,\n",
       "        <Axes: xlabel='Selling_Price', ylabel='Present_Price'>,\n",
       "        <Axes: xlabel='Present_Price', ylabel='Present_Price'>,\n",
       "        <Axes: xlabel='Kms_Driven', ylabel='Present_Price'>,\n",
       "        <Axes: xlabel='Owner', ylabel='Present_Price'>],\n",
       "       [<Axes: xlabel='Year', ylabel='Kms_Driven'>,\n",
       "        <Axes: xlabel='Selling_Price', ylabel='Kms_Driven'>,\n",
       "        <Axes: xlabel='Present_Price', ylabel='Kms_Driven'>,\n",
       "        <Axes: xlabel='Kms_Driven', ylabel='Kms_Driven'>,\n",
       "        <Axes: xlabel='Owner', ylabel='Kms_Driven'>],\n",
       "       [<Axes: xlabel='Year', ylabel='Owner'>,\n",
       "        <Axes: xlabel='Selling_Price', ylabel='Owner'>,\n",
       "        <Axes: xlabel='Present_Price', ylabel='Owner'>,\n",
       "        <Axes: xlabel='Kms_Driven', ylabel='Owner'>,\n",
       "        <Axes: xlabel='Owner', ylabel='Owner'>]], dtype=object)"
      ]
     },
     "execution_count": 22,
     "metadata": {},
     "output_type": "execute_result"
    },
    {
     "data": {
      "image/png": "[encoded data removed]",
      "text/plain": [
       "<Figure size 1200x1200 with 25 Axes>"
      ]
     },
     "metadata": {},
     "output_type": "display_data"
    }
   ],
   "source": [
    "from pandas.plotting import scatter_matrix\n",
    "scatter_matrix(Data, alpha=0.8, figsize=(12, 12), diagonal='kde')\n"
   ]
  },
  {
   "cell_type": "markdown",
   "metadata": {},
   "source": [
    "Box Plots with Categorical Variables:\n",
    "\n",
    "    Box plots can be used to compare the distribution of numerical variables across different categories."
   ]
  },
  {
   "cell_type": "code",
   "execution_count": 23,
   "metadata": {},
   "outputs": [
    {
     "data": {
      "text/plain": [
       "<Axes: xlabel='Fuel_Type', ylabel='Selling_Price'>"
      ]
     },
     "execution_count": 23,
     "metadata": {},
     "output_type": "execute_result"
    },
    {
     "data": {
      "image/png": "[encoded data removed]",
      "text/plain": [
       "<Figure size 640x480 with 1 Axes>"
      ]
     },
     "metadata": {},
     "output_type": "display_data"
    }
   ],
   "source": [
    "sns.boxplot(x='Fuel_Type', y='Selling_Price', data=Data)\n"
   ]
  },
  {
   "cell_type": "markdown",
   "metadata": {},
   "source": [
    "3D Scatter Plots:\n",
    "\n",
    "    3D scatter plots are useful when you want to visualize the relationship between three numerical variables."
   ]
  },
  {
   "cell_type": "code",
   "execution_count": 24,
   "metadata": {},
   "outputs": [
    {
     "data": {
      "application/vnd.plotly.v1+json": {
       "config": {
        "plotlyServerURL": "https://plot.ly"
       },
       "data": [
        {
         "hovertemplate": "Fuel_Type=Petrol<br>Year=%{x}<br>Selling_Price=%{y}<br>Kms_Driven=%{z}<extra></extra>",
         "legendgroup": "Petrol",
         "marker": {
          "color": "#636efa",
          "symbol": "circle"
         },
         "mode": "markers",
         "name": "Petrol",
         "scene": "scene",
         "showlegend": true,
         "type": "scatter3d",
         "x": [
          2014,
          2017,
          2011,
          2015,
          2017,
          2015,
          2015,
          2009,
          2010,
          2016,
          2017,
          2011,
          2014,
          2013,
          2011,
          2013,
          2017,
          2010,
          2011,
          2015,
          2003,
          2016,
          2003,
          2016,
          2014,
          2008,
          2012,
          2014,
          2013,
          2006,
          2015,
          2017,
          2005,
          2009,
          2015,
          2010,
          2014,
          2013,
          2015,
          2017,
          2011,
          2016,
          2013,
          2011,
          2015,
          2013,
          2004,
          2010,
          2006,
          2012,
          2013,
          2014,
          2009,
          2005,
          2008,
          2012,
          2017,
          2013,
          2016,
          2017,
          2017,
          2017,
          2017,
          2015,
          2014,
          2013,
          2016,
          2017,
          2016,
          2016,
          2014,
          2016,
          2015,
          2015,
          2013,
          2015,
          2015,
          2013,
          2016,
          2011,
          2016,
          2013,
          2012,
          2009,
          2017,
          2016,
          2017,
          2017,
          2017,
          2015,
          2017,
          2016,
          2017,
          2015,
          2014,
          2013,
          2016,
          2015,
          2013,
          2016,
          2015,
          2016,
          2014,
          2012,
          2014,
          2015,
          2010,
          2016,
          2011,
          2016,
          2012,
          2013,
          2014,
          2017,
          2017,
          2015,
          2017,
          2017,
          2011,
          2014,
          2012,
          2010,
          2016,
          2016,
          2016,
          2014,
          2013,
          2015,
          2012,
          2015,
          2014,
          2017,
          2015,
          2011,
          2011,
          2016,
          2014,
          2010,
          2012,
          2016,
          2013,
          2013,
          2008,
          2008,
          2010,
          2013,
          2013,
          2005,
          2008,
          2012,
          2007,
          2013,
          2008,
          2015,
          2008,
          2010,
          2011,
          2007,
          2006,
          2015,
          2011,
          2015,
          2016,
          2017,
          2015,
          2017,
          2012,
          2016,
          2011,
          2017,
          2012,
          2016,
          2016,
          2014,
          2012,
          2017,
          2013,
          2013,
          2011,
          2015,
          2011,
          2017,
          2015,
          2015,
          2017,
          2016,
          2013,
          2012,
          2015,
          2014,
          2016,
          2012,
          2015,
          2013,
          2016,
          2013,
          2015,
          2013,
          2012,
          2016,
          2015,
          2015,
          2014,
          2016,
          2016,
          2015,
          2016,
          2015,
          2017,
          2014,
          2017,
          2015,
          2011,
          2009,
          2015,
          2010,
          2014,
          2016,
          2015,
          2015,
          2016,
          2014,
          2015,
          2006,
          2016,
          2013,
          2016,
          2016,
          2015,
          2015,
          2016,
          2014,
          2015,
          2016,
          2010,
          2014,
          2015,
          2009,
          2016
         ],
         "y": [
          3.35,
          7.25,
          2.85,
          6.75,
          2.85,
          7.5,
          6.1,
          2.25,
          2.65,
          2.85,
          4.9,
          4.4,
          2.5,
          2.9,
          3,
          4.15,
          6,
          1.95,
          2.35,
          4.65,
          0.35,
          3,
          2.25,
          5.85,
          2.55,
          1.95,
          1.25,
          7.5,
          2.65,
          1.05,
          5.8,
          7.75,
          2.75,
          3.6,
          4.5,
          4.75,
          4.1,
          6.95,
          4.5,
          19.75,
          4.35,
          14.25,
          7.45,
          2.65,
          3.95,
          5.5,
          1.5,
          5.25,
          2.5,
          5.9,
          3.45,
          4.75,
          3.8,
          3.51,
          4,
          5.85,
          17,
          7.05,
          1.75,
          1.7,
          1.65,
          1.45,
          1.35,
          1.35,
          1.35,
          1.25,
          1.2,
          1.2,
          1.2,
          1.15,
          1.15,
          1.15,
          1.15,
          1.11,
          1.1,
          1.1,
          1.1,
          1.05,
          1.05,
          1.05,
          1.05,
          1,
          0.95,
          0.9,
          0.9,
          0.75,
          0.8,
          0.78,
          0.75,
          0.75,
          0.75,
          0.72,
          0.65,
          0.65,
          0.65,
          0.65,
          0.6,
          0.6,
          0.6,
          0.6,
          0.6,
          0.6,
          0.6,
          0.6,
          0.55,
          0.55,
          0.52,
          0.51,
          0.5,
          0.5,
          0.5,
          0.5,
          0.5,
          0.48,
          0.48,
          0.48,
          0.48,
          0.45,
          0.45,
          0.45,
          0.45,
          0.45,
          0.45,
          0.45,
          0.45,
          0.42,
          0.42,
          0.4,
          0.4,
          0.4,
          0.4,
          0.4,
          0.38,
          0.38,
          0.35,
          0.35,
          0.35,
          0.31,
          0.3,
          0.3,
          0.3,
          0.27,
          0.25,
          0.25,
          0.25,
          0.25,
          0.25,
          0.2,
          0.2,
          0.2,
          0.2,
          0.2,
          0.2,
          0.18,
          0.17,
          0.16,
          0.15,
          0.12,
          0.1,
          4.4,
          2.95,
          2.75,
          5.25,
          5.75,
          5.15,
          7.9,
          3.1,
          11.25,
          2.9,
          5.25,
          4.5,
          2.9,
          3.15,
          6.45,
          4.5,
          3.5,
          4.5,
          5.11,
          2.7,
          5.25,
          2.55,
          9.25,
          11.45,
          5.5,
          9.1,
          3.1,
          4.8,
          2,
          4.75,
          4.4,
          6.25,
          3.75,
          5.95,
          4,
          5.25,
          5,
          5.4,
          5.25,
          3,
          10.25,
          8.5,
          8.4,
          3.9,
          9.15,
          5.5,
          4,
          6.6,
          4,
          6.5,
          3.65,
          4.8,
          6.7,
          4.1,
          3,
          7.5,
          2.25,
          5.3,
          10.9,
          8.65,
          9.7,
          6,
          6.25,
          5.25,
          2.1,
          8.99,
          3.5,
          7.4,
          5.65,
          5.75,
          8.4,
          10.11,
          4.5,
          5.4,
          6.4,
          3.25,
          3.75,
          4,
          3.35,
          5.3
         ],
         "z": [
          27000,
          6900,
          5200,
          18796,
          2135,
          15000,
          26000,
          77427,
          41442,
          25000,
          2400,
          50000,
          45280,
          56879,
          20000,
          55138,
          16200,
          44542,
          54200,
          48767,
          127000,
          10079,
          62000,
          24524,
          46706,
          58000,
          50000,
          15000,
          64532,
          65000,
          25870,
          37000,
          90000,
          70000,
          40534,
          50000,
          39485,
          40001,
          40588,
          11000,
          88000,
          12000,
          56001,
          43000,
          36000,
          72000,
          135154,
          80000,
          142000,
          56000,
          47000,
          40000,
          62000,
          75000,
          89000,
          72000,
          8700,
          45000,
          3000,
          1400,
          4000,
          1200,
          4100,
          21700,
          16500,
          15000,
          18000,
          11000,
          6000,
          8700,
          7000,
          35000,
          17000,
          17500,
          33000,
          14000,
          26000,
          5400,
          5700,
          6900,
          6000,
          46500,
          11500,
          40000,
          1300,
          7000,
          3000,
          5000,
          11000,
          18000,
          3500,
          500,
          11800,
          5000,
          23500,
          16000,
          15000,
          16600,
          32000,
          20000,
          29000,
          25000,
          25000,
          19000,
          15000,
          58000,
          45000,
          24000,
          6000,
          31000,
          13000,
          45000,
          8000,
          4300,
          15000,
          23000,
          8600,
          4000,
          24000,
          23000,
          14500,
          27000,
          14000,
          500,
          1000,
          42000,
          12000,
          14000,
          5500,
          6700,
          13700,
          1300,
          38600,
          75000,
          30000,
          24000,
          19000,
          213000,
          60000,
          50000,
          30000,
          21000,
          26000,
          1900,
          22000,
          32000,
          18000,
          55000,
          60000,
          25000,
          49000,
          24000,
          50000,
          35000,
          500000,
          33000,
          35000,
          53000,
          92233,
          28200,
          53460,
          28282,
          3493,
          12479,
          34797,
          3435,
          35775,
          22671,
          31604,
          20114,
          36100,
          12500,
          15000,
          45078,
          36000,
          38488,
          32000,
          36198,
          22517,
          24678,
          57000,
          15001,
          12900,
          4492,
          15141,
          11849,
          60241,
          23709,
          35866,
          34000,
          7000,
          35000,
          36000,
          30000,
          17000,
          56701,
          31427,
          54242,
          53675,
          49562,
          40324,
          25000,
          36054,
          29223,
          5600,
          40023,
          16002,
          40026,
          21200,
          35000,
          19000,
          18828,
          69341,
          69562,
          27600,
          61203,
          16500,
          30753,
          24800,
          21780,
          4000,
          40126,
          14465,
          50456,
          9010,
          9800,
          15059,
          28569,
          44000,
          34000,
          10980,
          19000,
          31427,
          12000,
          38000,
          33019,
          60000,
          87934,
          5464
         ]
        },
        {
         "hovertemplate": "Fuel_Type=Diesel<br>Year=%{x}<br>Selling_Price=%{y}<br>Kms_Driven=%{z}<extra></extra>",
         "legendgroup": "Diesel",
         "marker": {
          "color": "#EF553B",
          "symbol": "circle"
         },
         "mode": "markers",
         "name": "Diesel",
         "scene": "scene",
         "showlegend": true,
         "type": "scatter3d",
         "x": [
          2013,
          2014,
          2018,
          2015,
          2016,
          2015,
          2015,
          2016,
          2015,
          2016,
          2015,
          2012,
          2014,
          2014,
          2014,
          2014,
          2012,
          2015,
          2017,
          2013,
          2014,
          2014,
          2015,
          2017,
          2014,
          2010,
          2014,
          2011,
          2014,
          2012,
          2016,
          2015,
          2017,
          2015,
          2005,
          2010,
          2014,
          2015,
          2016,
          2010,
          2010,
          2015,
          2015,
          2014,
          2015,
          2012,
          2012,
          2013,
          2013,
          2015,
          2012,
          2013,
          2012,
          2016,
          2014,
          2016,
          2014,
          2015,
          2016,
          2017
         ],
         "y": [
          4.75,
          4.6,
          9.25,
          6.5,
          8.75,
          7.45,
          6.85,
          7.75,
          7.25,
          7.75,
          7.45,
          3.1,
          4.95,
          6,
          5.5,
          5.5,
          14.9,
          23,
          18,
          16,
          19.99,
          18.75,
          23.5,
          33,
          4.75,
          9.25,
          3.95,
          4.5,
          4.9,
          14.5,
          14.73,
          4.75,
          23,
          12.5,
          3.49,
          35,
          11.25,
          23,
          20.75,
          9.65,
          3.25,
          4.85,
          11.75,
          6,
          8.25,
          4.95,
          3.1,
          6.15,
          3.9,
          11.25,
          5.35,
          5.95,
          5.2,
          12.9,
          7.2,
          8.35,
          8.25,
          8.55,
          9.5,
          11.5
         ],
         "z": [
          43000,
          42450,
          2071,
          33429,
          20273,
          42367,
          51000,
          43000,
          41678,
          43000,
          45000,
          51439,
          39000,
          45000,
          45000,
          45780,
          104707,
          40000,
          15000,
          135000,
          41000,
          78000,
          47000,
          6000,
          45000,
          59000,
          71000,
          45000,
          83000,
          89000,
          23000,
          40000,
          15000,
          38000,
          197176,
          78000,
          58242,
          40000,
          29000,
          50024,
          58000,
          21125,
          43535,
          77632,
          61381,
          60000,
          52132,
          45000,
          53000,
          68000,
          32322,
          49000,
          71000,
          35934,
          48000,
          19434,
          63000,
          60076,
          33988,
          9000
         ]
        },
        {
         "hovertemplate": "Fuel_Type=CNG<br>Year=%{x}<br>Selling_Price=%{y}<br>Kms_Driven=%{z}<extra></extra>",
         "legendgroup": "CNG",
         "marker": {
          "color": "#00cc96",
          "symbol": "circle"
         },
         "mode": "markers",
         "name": "CNG",
         "scene": "scene",
         "showlegend": true,
         "type": "scatter3d",
         "x": [
          2015,
          2011
         ],
         "y": [
          3.25,
          2.95
         ],
         "z": [
          35500,
          49998
         ]
        }
       ],
       "layout": {
        "legend": {
         "title": {
          "text": "Fuel_Type"
         },
         "tracegroupgap": 0
        },
        "margin": {
         "t": 60
        },
        "scene": {
         "domain": {
          "x": [
           0,
           1
          ],
          "y": [
           0,
           1
          ]
         },
         "xaxis": {
          "title": {
           "text": "Year"
          }
         },
         "yaxis": {
          "title": {
           "text": "Selling_Price"
          }
         },
         "zaxis": {
          "title": {
           "text": "Kms_Driven"
          }
         }
        },
        "template": {
         "data": {
          "bar": [
           {
            "error_x": {
             "color": "#2a3f5f"
            },
            "error_y": {
             "color": "#2a3f5f"
            },
            "marker": {
             "line": {
              "color": "#E5ECF6",
              "width": 0.5
             },
             "pattern": {
              "fillmode": "overlay",
              "size": 10,
              "solidity": 0.2
             }
            },
            "type": "bar"
           }
          ],
          "barpolar": [
           {
            "marker": {
             "line": {
              "color": "#E5ECF6",
              "width": 0.5
             },
             "pattern": {
              "fillmode": "overlay",
              "size": 10,
              "solidity": 0.2
             }
            },
            "type": "barpolar"
           }
          ],
          "carpet": [
           {
            "aaxis": {
             "endlinecolor": "#2a3f5f",
             "gridcolor": "white",
             "linecolor": "white",
             "minorgridcolor": "white",
             "startlinecolor": "#2a3f5f"
            },
            "baxis": {
             "endlinecolor": "#2a3f5f",
             "gridcolor": "white",
             "linecolor": "white",
             "minorgridcolor": "white",
             "startlinecolor": "#2a3f5f"
            },
            "type": "carpet"
           }
          ],
          "choropleth": [
           {
            "colorbar": {
             "outlinewidth": 0,
             "ticks": ""
            },
            "type": "choropleth"
           }
          ],
          "contour": [
           {
            "colorbar": {
             "outlinewidth": 0,
             "ticks": ""
            },
            "colorscale": [
             [
              0,
              "#0d0887"
             ],
             [
              0.1111111111111111,
              "#46039f"
             ],
             [
              0.2222222222222222,
              "#7201a8"
             ],
             [
              0.3333333333333333,
              "#9c179e"
             ],
             [
              0.4444444444444444,
              "#bd3786"
             ],
             [
              0.5555555555555556,
              "#d8576b"
             ],
             [
              0.6666666666666666,
              "#ed7953"
             ],
             [
              0.7777777777777778,
              "#fb9f3a"
             ],
             [
              0.8888888888888888,
              "#fdca26"
             ],
             [
              1,
              "#f0f921"
             ]
            ],
            "type": "contour"
           }
          ],
          "contourcarpet": [
           {
            "colorbar": {
             "outlinewidth": 0,
             "ticks": ""
            },
            "type": "contourcarpet"
           }
          ],
          "heatmap": [
           {
            "colorbar": {
             "outlinewidth": 0,
             "ticks": ""
            },
            "colorscale": [
             [
              0,
              "#0d0887"
             ],
             [
              0.1111111111111111,
              "#46039f"
             ],
             [
              0.2222222222222222,
              "#7201a8"
             ],
             [
              0.3333333333333333,
              "#9c179e"
             ],
             [
              0.4444444444444444,
              "#bd3786"
             ],
             [
              0.5555555555555556,
              "#d8576b"
             ],
             [
              0.6666666666666666,
              "#ed7953"
             ],
             [
              0.7777777777777778,
              "#fb9f3a"
             ],
             [
              0.8888888888888888,
              "#fdca26"
             ],
             [
              1,
              "#f0f921"
             ]
            ],
            "type": "heatmap"
           }
          ],
          "heatmapgl": [
           {
            "colorbar": {
             "outlinewidth": 0,
             "ticks": ""
            },
            "colorscale": [
             [
              0,
              "#0d0887"
             ],
             [
              0.1111111111111111,
              "#46039f"
             ],
             [
              0.2222222222222222,
              "#7201a8"
             ],
             [
              0.3333333333333333,
              "#9c179e"
             ],
             [
              0.4444444444444444,
              "#bd3786"
             ],
             [
              0.5555555555555556,
              "#d8576b"
             ],
             [
              0.6666666666666666,
              "#ed7953"
             ],
             [
              0.7777777777777778,
              "#fb9f3a"
             ],
             [
              0.8888888888888888,
              "#fdca26"
             ],
             [
              1,
              "#f0f921"
             ]
            ],
            "type": "heatmapgl"
           }
          ],
          "histogram": [
           {
            "marker": {
             "pattern": {
              "fillmode": "overlay",
              "size": 10,
              "solidity": 0.2
             }
            },
            "type": "histogram"
           }
          ],
          "histogram2d": [
           {
            "colorbar": {
             "outlinewidth": 0,
             "ticks": ""
            },
            "colorscale": [
             [
              0,
              "#0d0887"
             ],
             [
              0.1111111111111111,
              "#46039f"
             ],
             [
              0.2222222222222222,
              "#7201a8"
             ],
             [
              0.3333333333333333,
              "#9c179e"
             ],
             [
              0.4444444444444444,
              "#bd3786"
             ],
             [
              0.5555555555555556,
              "#d8576b"
             ],
             [
              0.6666666666666666,
              "#ed7953"
             ],
             [
              0.7777777777777778,
              "#fb9f3a"
             ],
             [
              0.8888888888888888,
              "#fdca26"
             ],
             [
              1,
              "#f0f921"
             ]
            ],
            "type": "histogram2d"
           }
          ],
          "histogram2dcontour": [
           {
            "colorbar": {
             "outlinewidth": 0,
             "ticks": ""
            },
            "colorscale": [
             [
              0,
              "#0d0887"
             ],
             [
              0.1111111111111111,
              "#46039f"
             ],
             [
              0.2222222222222222,
              "#7201a8"
             ],
             [
              0.3333333333333333,
              "#9c179e"
             ],
             [
              0.4444444444444444,
              "#bd3786"
             ],
             [
              0.5555555555555556,
              "#d8576b"
             ],
             [
              0.6666666666666666,
              "#ed7953"
             ],
             [
              0.7777777777777778,
              "#fb9f3a"
             ],
             [
              0.8888888888888888,
              "#fdca26"
             ],
             [
              1,
              "#f0f921"
             ]
            ],
            "type": "histogram2dcontour"
           }
          ],
          "mesh3d": [
           {
            "colorbar": {
             "outlinewidth": 0,
             "ticks": ""
            },
            "type": "mesh3d"
           }
          ],
          "parcoords": [
           {
            "line": {
             "colorbar": {
              "outlinewidth": 0,
              "ticks": ""
             }
            },
            "type": "parcoords"
           }
          ],
          "pie": [
           {
            "automargin": true,
            "type": "pie"
           }
          ],
          "scatter": [
           {
            "fillpattern": {
             "fillmode": "overlay",
             "size": 10,
             "solidity": 0.2
            },
            "type": "scatter"
           }
          ],
          "scatter3d": [
           {
            "line": {
             "colorbar": {
              "outlinewidth": 0,
              "ticks": ""
             }
            },
            "marker": {
             "colorbar": {
              "outlinewidth": 0,
              "ticks": ""
             }
            },
            "type": "scatter3d"
           }
          ],
          "scattercarpet": [
           {
            "marker": {
             "colorbar": {
              "outlinewidth": 0,
              "ticks": ""
             }
            },
            "type": "scattercarpet"
           }
          ],
          "scattergeo": [
           {
            "marker": {
             "colorbar": {
              "outlinewidth": 0,
              "ticks": ""
             }
            },
            "type": "scattergeo"
           }
          ],
          "scattergl": [
           {
            "marker": {
             "colorbar": {
              "outlinewidth": 0,
              "ticks": ""
             }
            },
            "type": "scattergl"
           }
          ],
          "scattermapbox": [
           {
            "marker": {
             "colorbar": {
              "outlinewidth": 0,
              "ticks": ""
             }
            },
            "type": "scattermapbox"
           }
          ],
          "scatterpolar": [
           {
            "marker": {
             "colorbar": {
              "outlinewidth": 0,
              "ticks": ""
             }
            },
            "type": "scatterpolar"
           }
          ],
          "scatterpolargl": [
           {
            "marker": {
             "colorbar": {
              "outlinewidth": 0,
              "ticks": ""
             }
            },
            "type": "scatterpolargl"
           }
          ],
          "scatterternary": [
           {
            "marker": {
             "colorbar": {
              "outlinewidth": 0,
              "ticks": ""
             }
            },
            "type": "scatterternary"
           }
          ],
          "surface": [
           {
            "colorbar": {
             "outlinewidth": 0,
             "ticks": ""
            },
            "colorscale": [
             [
              0,
              "#0d0887"
             ],
             [
              0.1111111111111111,
              "#46039f"
             ],
             [
              0.2222222222222222,
              "#7201a8"
             ],
             [
              0.3333333333333333,
              "#9c179e"
             ],
             [
              0.4444444444444444,
              "#bd3786"
             ],
             [
              0.5555555555555556,
              "#d8576b"
             ],
             [
              0.6666666666666666,
              "#ed7953"
             ],
             [
              0.7777777777777778,
              "#fb9f3a"
             ],
             [
              0.8888888888888888,
              "#fdca26"
             ],
             [
              1,
              "#f0f921"
             ]
            ],
            "type": "surface"
           }
          ],
          "table": [
           {
            "cells": {
             "fill": {
              "color": "#EBF0F8"
             },
             "line": {
              "color": "white"
             }
            },
            "header": {
             "fill": {
              "color": "#C8D4E3"
             },
             "line": {
              "color": "white"
             }
            },
            "type": "table"
           }
          ]
         },
         "layout": {
          "annotationdefaults": {
           "arrowcolor": "#2a3f5f",
           "arrowhead": 0,
           "arrowwidth": 1
          },
          "autotypenumbers": "strict",
          "coloraxis": {
           "colorbar": {
            "outlinewidth": 0,
            "ticks": ""
           }
          },
          "colorscale": {
           "diverging": [
            [
             0,
             "#8e0152"
            ],
            [
             0.1,
             "#c51b7d"
            ],
            [
             0.2,
             "#de77ae"
            ],
            [
             0.3,
             "#f1b6da"
            ],
            [
             0.4,
             "#fde0ef"
            ],
            [
             0.5,
             "#f7f7f7"
            ],
            [
             0.6,
             "#e6f5d0"
            ],
            [
             0.7,
             "#b8e186"
            ],
            [
             0.8,
             "#7fbc41"
            ],
            [
             0.9,
             "#4d9221"
            ],
            [
             1,
             "#276419"
            ]
           ],
           "sequential": [
            [
             0,
             "#0d0887"
            ],
            [
             0.1111111111111111,
             "#46039f"
            ],
            [
             0.2222222222222222,
             "#7201a8"
            ],
            [
             0.3333333333333333,
             "#9c179e"
            ],
            [
             0.4444444444444444,
             "#bd3786"
            ],
            [
             0.5555555555555556,
             "#d8576b"
            ],
            [
             0.6666666666666666,
             "#ed7953"
            ],
            [
             0.7777777777777778,
             "#fb9f3a"
            ],
            [
             0.8888888888888888,
             "#fdca26"
            ],
            [
             1,
             "#f0f921"
            ]
           ],
           "sequentialminus": [
            [
             0,
             "#0d0887"
            ],
            [
             0.1111111111111111,
             "#46039f"
            ],
            [
             0.2222222222222222,
             "#7201a8"
            ],
            [
             0.3333333333333333,
             "#9c179e"
            ],
            [
             0.4444444444444444,
             "#bd3786"
            ],
            [
             0.5555555555555556,
             "#d8576b"
            ],
            [
             0.6666666666666666,
             "#ed7953"
            ],
            [
             0.7777777777777778,
             "#fb9f3a"
            ],
            [
             0.8888888888888888,
             "#fdca26"
            ],
            [
             1,
             "#f0f921"
            ]
           ]
          },
          "colorway": [
           "#636efa",
           "#EF553B",
           "#00cc96",
           "#ab63fa",
           "#FFA15A",
           "#19d3f3",
           "#FF6692",
           "#B6E880",
           "#FF97FF",
           "#FECB52"
          ],
          "font": {
           "color": "#2a3f5f"
          },
          "geo": {
           "bgcolor": "white",
           "lakecolor": "white",
           "landcolor": "#E5ECF6",
           "showlakes": true,
           "showland": true,
           "subunitcolor": "white"
          },
          "hoverlabel": {
           "align": "left"
          },
          "hovermode": "closest",
          "mapbox": {
           "style": "light"
          },
          "paper_bgcolor": "white",
          "plot_bgcolor": "#E5ECF6",
          "polar": {
           "angularaxis": {
            "gridcolor": "white",
            "linecolor": "white",
            "ticks": ""
           },
           "bgcolor": "#E5ECF6",
           "radialaxis": {
            "gridcolor": "white",
            "linecolor": "white",
            "ticks": ""
           }
          },
          "scene": {
           "xaxis": {
            "backgroundcolor": "#E5ECF6",
            "gridcolor": "white",
            "gridwidth": 2,
            "linecolor": "white",
            "showbackground": true,
            "ticks": "",
            "zerolinecolor": "white"
           },
           "yaxis": {
            "backgroundcolor": "#E5ECF6",
            "gridcolor": "white",
            "gridwidth": 2,
            "linecolor": "white",
            "showbackground": true,
            "ticks": "",
            "zerolinecolor": "white"
           },
           "zaxis": {
            "backgroundcolor": "#E5ECF6",
            "gridcolor": "white",
            "gridwidth": 2,
            "linecolor": "white",
            "showbackground": true,
            "ticks": "",
            "zerolinecolor": "white"
           }
          },
          "shapedefaults": {
           "line": {
            "color": "#2a3f5f"
           }
          },
          "ternary": {
           "aaxis": {
            "gridcolor": "white",
            "linecolor": "white",
            "ticks": ""
           },
           "baxis": {
            "gridcolor": "white",
            "linecolor": "white",
            "ticks": ""
           },
           "bgcolor": "#E5ECF6",
           "caxis": {
            "gridcolor": "white",
            "linecolor": "white",
            "ticks": ""
           }
          },
          "title": {
           "x": 0.05
          },
          "xaxis": {
           "automargin": true,
           "gridcolor": "white",
           "linecolor": "white",
           "ticks": "",
           "title": {
            "standoff": 15
           },
           "zerolinecolor": "white",
           "zerolinewidth": 2
          },
          "yaxis": {
           "automargin": true,
           "gridcolor": "white",
           "linecolor": "white",
           "ticks": "",
           "title": {
            "standoff": 15
           },
           "zerolinecolor": "white",
           "zerolinewidth": 2
          }
         }
        }
       }
      }
     },
     "metadata": {},
     "output_type": "display_data"
    }
   ],
   "source": [
    "fig_3d = px.scatter_3d(Data, x='Year', y='Selling_Price', z='Kms_Driven', color='Fuel_Type')\n",
    "fig_3d.show()\n"
   ]
  },
  {
   "cell_type": "markdown",
   "metadata": {},
   "source": [
    "Categorical Plots with Two Variables:\n",
    "\n",
    "    These plots help visualize the relationships between two categorical variables."
   ]
  },
  {
   "cell_type": "code",
   "execution_count": 25,
   "metadata": {},
   "outputs": [
    {
     "data": {
      "text/plain": [
       "<Axes: xlabel='Fuel_Type', ylabel='count'>"
      ]
     },
     "execution_count": 25,
     "metadata": {},
     "output_type": "execute_result"
    },
    {
     "data": {
      "image/png": "[encoded data removed]",
      "text/plain": [
       "<Figure size 640x480 with 1 Axes>"
      ]
     },
     "metadata": {},
     "output_type": "display_data"
    }
   ],
   "source": [
    "sns.countplot(x='Fuel_Type', hue='Transmission', data=Data)\n"
   ]
  },
  {
   "cell_type": "code",
   "execution_count": null,
   "metadata": {},
   "outputs": [],
   "source": []
  }
 ],
 "metadata": {
  "kernelspec": {
   "display_name": "Python 3 (ipykernel)",
   "language": "python",
   "name": "python3"
  },
  "language_info": {
   "codemirror_mode": {
    "name": "ipython",
    "version": 3
   },
   "file_extension": ".py",
   "mimetype": "text/x-python",
   "name": "python",
   "nbconvert_exporter": "python",
   "pygments_lexer": "ipython3",
   "version": "3.10.9"
  }
 },
 "nbformat": 4,
 "nbformat_minor": 2
}
