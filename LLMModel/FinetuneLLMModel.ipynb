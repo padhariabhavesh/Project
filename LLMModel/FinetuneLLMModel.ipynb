{
 "cells": [
  {
   "cell_type": "code",
   "execution_count": null,
   "metadata": {},
   "outputs": [],
   "source": [
    "# !pip install gradientai --upgrade"
   ]
  },
  {
   "cell_type": "code",
   "execution_count": 1,
   "metadata": {},
   "outputs": [],
   "source": [
    "import os\n",
    "os.environ['GRADIENT_WORKSPACE_ID']='***********************************'\n",
    "os.environ['GRADIENT_ACCESS_TOKEN']='**********************************'"
   ]
  },
  {
   "cell_type": "code",
   "execution_count": 2,
   "metadata": {},
   "outputs": [
    {
     "name": "stdout",
     "output_type": "stream",
     "text": [
      "Created model adapter with id 27e645fe-816a-4df0-81b4-30b49f19aa80_model_adapter\n",
      "Asking: ### Instruction: Who is Bhavesh Padharia? \n",
      "\n",
      " ### Response:\n",
      "Generated(before fine tuning):  Bhavesh Padharia is a well-known Indian entrepreneur and businessman. He is the founder and CEO of the popular online grocery store, BigBasket.com. Padharia started his career as a software engineer in the United States before returning to India to pursue his entrepreneurial dreams. He founded BigBasket.com in 2011, which has since become one of the largest online grocery stores in India,\n",
      "Fine tuning the model with iteration 1\n",
      "Fine tuning the model with iteration 2\n",
      "Fine tuning the model with iteration 3\n",
      "Generated(after fine tuning):  Bhavesh is a Data Scientist work in It company. He loves Data Science and AI and is passionate about learning new things and technologies.\n"
     ]
    }
   ],
   "source": [
    "from gradientai import Gradient\n",
    "\n",
    "\n",
    "def main():\n",
    "    gradient = Gradient()\n",
    "\n",
    "    base_model = gradient.get_base_model(base_model_slug=\"nous-hermes2\")\n",
    "\n",
    "    new_model_adapter = base_model.create_model_adapter(\n",
    "        name=\"Bhaveshmodel\"\n",
    "    )\n",
    "    print(f\"Created model adapter with id {new_model_adapter.id}\")\n",
    "\n",
    "\n",
    "    sample_query = \"### Instruction: Who is Bhavesh Padharia? \\n\\n ### Response:\"\n",
    "    print(f\"Asking: {sample_query}\")\n",
    "    ## Before Finetuning\n",
    "    completion = new_model_adapter.complete(query=sample_query, max_generated_token_count=100).generated_output\n",
    "    print(f\"Generated(before fine tuning): {completion}\")\n",
    "\n",
    "    samples=[\n",
    "        {\"inputs\":\"### Instruction: Who is Bhavesh Padharia? \\n\\n### Response: Bhavesh is a Senior Data Scientist work in It company\"},\n",
    "        {\"inputs\":\"### Instruction: Who is this person named Bhavesh Padharia? \\n\\n### Response: Bhavesh Padharia Like Data Science And AI And learn from online platform\"},\n",
    "        {\"inputs\":\"### Instruction: What do you know about Bhavesh Padharia? \\n\\n### Response: Bhavesh Padharia is a write code who specializes in the field of Data Science \"},\n",
    "        {\"inputs\":\"### Instruction: Can you tell me about Bhavesh Padharia? \\n\\n### Response: Bhavesh Padharia is a developer, who loves Data Science And AI and LLM's\"}\n",
    "    ]\n",
    "\n",
    "    ## Lets define parameters for finetuning\n",
    "    num_epochs=3\n",
    "    count=0\n",
    "    while count<num_epochs:\n",
    "      print(f\"Fine tuning the model with iteration {count + 1}\")\n",
    "      new_model_adapter.fine_tune(samples=samples)\n",
    "      count=count+1\n",
    "\n",
    "    #after fine tuning\n",
    "    completion = new_model_adapter.complete(query=sample_query, max_generated_token_count=100).generated_output\n",
    "    print(f\"Generated(after fine tuning): {completion}\")\n",
    "    new_model_adapter.delete()\n",
    "    gradient.close()\n",
    "\n",
    "if __name__ == \"__main__\":\n",
    "    main()"
   ]
  },
  {
   "cell_type": "code",
   "execution_count": null,
   "metadata": {},
   "outputs": [],
   "source": [
    "# LinkedIn: https://www.linkedin.com/in/bhaveshpadharia/\n",
    "# Github: https://github.com/padhariabhavesh\n"
   ]
  }
 ],
 "metadata": {
  "kernelspec": {
   "display_name": "Python 3 (ipykernel)",
   "language": "python",
   "name": "python3"
  },
  "language_info": {
   "codemirror_mode": {
    "name": "ipython",
    "version": 3
   },
   "file_extension": ".py",
   "mimetype": "text/x-python",
   "name": "python",
   "nbconvert_exporter": "python",
   "pygments_lexer": "ipython3",
   "version": "3.10.9"
  }
 },
 "nbformat": 4,
 "nbformat_minor": 2
}
