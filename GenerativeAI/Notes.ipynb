{
 "cells": [
  {
   "cell_type": "markdown",
   "metadata": {},
   "source": [
    "Generative AI"
   ]
  },
  {
   "cell_type": "markdown",
   "metadata": {},
   "source": [
    "Content:\n",
    "1. Generative AI\n",
    "2. Large Language Models (LLMs)\n",
    "3. OpenAI\n",
    "4. Langchain\n",
    "5. Vector Database\n",
    "6. Llama Index\n",
    "7. Open Source LLMs Model\n",
    "8. Projects\n"
   ]
  },
  {
   "cell_type": "markdown",
   "metadata": {},
   "source": []
  }
 ],
 "metadata": {
  "language_info": {
   "name": "python"
  }
 },
 "nbformat": 4,
 "nbformat_minor": 2
}
