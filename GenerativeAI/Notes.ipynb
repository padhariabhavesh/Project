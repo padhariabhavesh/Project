{
 "cells": [
  {
   "cell_type": "markdown",
   "metadata": {},
   "source": [
    "Generative AI"
   ]
  },
  {
   "cell_type": "markdown",
   "metadata": {},
   "source": [
    "Content:\n",
    "1. Generative AI\n",
    "2. Large Language Models (LLMs)\n",
    "3. OpenAI\n",
    "4. Langchain\n",
    "5. Vector Database\n",
    "6. Llama Index\n",
    "7. Open Source LLMs Model\n",
    "8. Projects\n"
   ]
  },
  {
   "cell_type": "markdown",
   "metadata": {},
   "source": [
    "Generative AI LLM Models platform\n",
    "\n",
    "1. ChatGPT\n",
    "2. Google Bard\n",
    "3. Meta Llama 2\n",
    "\n",
    "Deep Learning Models\n",
    "\n",
    "1. ANN\n",
    "2. CNN\n",
    "3. RNN\n",
    "4. Reinforcement Learning\n",
    "5. GAN\n"
   ]
  },
  {
   "cell_type": "markdown",
   "metadata": {},
   "source": [
    "What is Generative AI?\n",
    "\n",
    "Generative AI generates new data based on training data. Generative AI models can generate Image, Text, Video and Audio data as output.\n",
    "\n",
    "So the Generative AI is a very huge topic,\n",
    "- Generative AI Image Model\n",
    "- Generative AI Language Model\n",
    "\n",
    "Where Generative AI exists\n",
    "- Machine Learning is a subset of Artificial Intelligence\n",
    "- Deep Learning is a subset of Machine Learning\n",
    "- Generative AI is a subset of Deep Learning\n",
    "\n",
    "Generative AI = Superset Model\n",
    "- GAN\n",
    "- LLM\n",
    "\n",
    "Task\n",
    "1. Image to Image Generation of GAN Model\n",
    "2. Text to Text Generation of LLM Model\n",
    "3. Image to Text Generation of LLM Model\n",
    "4. Text to Image Generation of LLM Model\n",
    "\n"
   ]
  }
 ],
 "metadata": {
  "language_info": {
   "name": "python"
  }
 },
 "nbformat": 4,
 "nbformat_minor": 2
}
