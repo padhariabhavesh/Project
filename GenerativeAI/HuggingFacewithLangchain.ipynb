{
 "cells": [
  {
   "cell_type": "markdown",
   "id": "03c10dd1-b46d-4648-862b-a5d10ee99a02",
   "metadata": {},
   "source": [
    "# Install dependencies"
   ]
  },
  {
   "cell_type": "code",
   "execution_count": 2,
   "id": "b6471758-8e3b-4d73-bdf0-26fedc5abfbc",
   "metadata": {},
   "outputs": [],
   "source": [
    "from langchain import PromptTemplate, HuggingFaceHub, LLMChain\n",
    "import os"
   ]
  },
  {
   "cell_type": "markdown",
   "id": "b3a6d33c-1fcb-4a3c-9c09-59799fa212fc",
   "metadata": {},
   "source": [
    "# Setting the environment variables"
   ]
  },
  {
   "cell_type": "code",
   "execution_count": 3,
   "id": "54360729-78fe-4f70-9719-d281ee6178dd",
   "metadata": {},
   "outputs": [],
   "source": [
    "os.environ['HUGGINGFACEHUB_API_TOKEN'] = \"\""
   ]
  },
  {
   "cell_type": "code",
   "execution_count": null,
   "id": "a42ea997-ab78-4a42-9ffc-16fe05a98f3a",
   "metadata": {},
   "outputs": [],
   "source": []
  }
 ],
 "metadata": {
  "kernelspec": {
   "display_name": "Python 3 (ipykernel)",
   "language": "python",
   "name": "python3"
  },
  "language_info": {
   "codemirror_mode": {
    "name": "ipython",
    "version": 3
   },
   "file_extension": ".py",
   "mimetype": "text/x-python",
   "name": "python",
   "nbconvert_exporter": "python",
   "pygments_lexer": "ipython3",
   "version": "3.10.13"
  }
 },
 "nbformat": 4,
 "nbformat_minor": 5
}
