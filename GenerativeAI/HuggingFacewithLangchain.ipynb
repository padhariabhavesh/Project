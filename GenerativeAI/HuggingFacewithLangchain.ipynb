{
 "cells": [
  {
   "cell_type": "markdown",
   "id": "03c10dd1-b46d-4648-862b-a5d10ee99a02",
   "metadata": {},
   "source": [
    "# Install dependencies"
   ]
  },
  {
   "cell_type": "code",
   "execution_count": 1,
   "id": "b6471758-8e3b-4d73-bdf0-26fedc5abfbc",
   "metadata": {},
   "outputs": [],
   "source": [
    "from langchain import PromptTemplate, HuggingFaceHub, LLMChain\n",
    "import os"
   ]
  },
  {
   "cell_type": "markdown",
   "id": "b3a6d33c-1fcb-4a3c-9c09-59799fa212fc",
   "metadata": {},
   "source": [
    "# Setting the environment variables"
   ]
  },
  {
   "cell_type": "code",
   "execution_count": 2,
   "id": "54360729-78fe-4f70-9719-d281ee6178dd",
   "metadata": {},
   "outputs": [],
   "source": [
    "os.environ['HUGGINGFACEHUB_API_TOKEN'] = \"\""
   ]
  },
  {
   "cell_type": "markdown",
   "id": "1d2b8079-6885-4900-a89b-b34f6f4e6da3",
   "metadata": {},
   "source": [
    "# Text2Text Generation Models | Seq2Seq | Encoder - Decoder Models"
   ]
  },
  {
   "cell_type": "code",
   "execution_count": 3,
   "id": "4e637132-7096-496a-8734-0f348e1582bf",
   "metadata": {},
   "outputs": [],
   "source": [
    "prompt = PromptTemplate(\n",
    "    input_variables = [\"product\"],\n",
    "    template = \"What is a good name for a company that makes {product}\"\n",
    ")"
   ]
  },
  {
   "cell_type": "code",
   "execution_count": 5,
   "id": "5c6bd365-3042-4100-9961-47fc5d51703b",
   "metadata": {},
   "outputs": [],
   "source": [
    "chain = LLMChain(llm=HuggingFaceHub(repo_id='google/flan-t5-large', model_kwargs={'temperature':0}),prompt = prompt)"
   ]
  },
  {
   "cell_type": "code",
   "execution_count": 6,
   "id": "521ae2f8-2cb4-46e4-96cb-c101003b22c1",
   "metadata": {},
   "outputs": [
    {
     "data": {
      "text/plain": [
       "'nikon'"
      ]
     },
     "execution_count": 6,
     "metadata": {},
     "output_type": "execute_result"
    }
   ],
   "source": [
    "chain.run(\"camera\")"
   ]
  },
  {
   "cell_type": "code",
   "execution_count": 7,
   "id": "14d53684-bf40-4472-a84c-6b99093ed813",
   "metadata": {},
   "outputs": [
    {
     "data": {
      "text/plain": [
       "'tahta'"
      ]
     },
     "execution_count": 7,
     "metadata": {},
     "output_type": "execute_result"
    }
   ],
   "source": [
    "chain.run(\"watch\")"
   ]
  },
  {
   "cell_type": "code",
   "execution_count": 8,
   "id": "60821cca-49bb-4395-a9d9-4000597f40b1",
   "metadata": {},
   "outputs": [
    {
     "data": {
      "text/plain": [
       "'e-bike'"
      ]
     },
     "execution_count": 8,
     "metadata": {},
     "output_type": "execute_result"
    }
   ],
   "source": [
    "chain.run(\"bike\")"
   ]
  },
  {
   "cell_type": "code",
   "execution_count": 9,
   "id": "b107bf56-011d-4548-93a3-1b8fab958248",
   "metadata": {},
   "outputs": [
    {
     "data": {
      "text/plain": [
       "'tv'"
      ]
     },
     "execution_count": 9,
     "metadata": {},
     "output_type": "execute_result"
    }
   ],
   "source": [
    "chain.run(\"television\")"
   ]
  },
  {
   "cell_type": "code",
   "execution_count": 10,
   "id": "4f5b8903-546d-4fd2-9a2e-bcec0297a56f",
   "metadata": {},
   "outputs": [
    {
     "data": {
      "text/plain": [
       "'dhgate.com'"
      ]
     },
     "execution_count": 10,
     "metadata": {},
     "output_type": "execute_result"
    }
   ],
   "source": [
    "chain.run(\"colorful clothes\")"
   ]
  },
  {
   "cell_type": "markdown",
   "id": "c6db10a5-ec28-4a45-98aa-42ea685414c6",
   "metadata": {},
   "source": [
    "# Text Generation Models | Decoder Models"
   ]
  },
  {
   "cell_type": "code",
   "execution_count": 13,
   "id": "051a90c9-e643-4188-97a5-dd52edb14130",
   "metadata": {},
   "outputs": [],
   "source": [
    "from langchain.llms import HuggingFacePipeline\n",
    "import torch\n",
    "from transformers import AutoTokenizer, AutoModelForCausalLM, pipeline, AutoModelForSeq2SeqLM"
   ]
  },
  {
   "cell_type": "code",
   "execution_count": 14,
   "id": "4cac33d3-52bf-40df-9ac5-240e2064811c",
   "metadata": {},
   "outputs": [],
   "source": [
    "prompt = PromptTemplate(\n",
    "    input_variables = [\"name\"],\n",
    "    template = \"Can you tell me the famous footballer  {name}\"\n",
    ")"
   ]
  },
  {
   "cell_type": "code",
   "execution_count": 15,
   "id": "b93eb6b5-f86d-4f60-8a01-1b7ccec21d67",
   "metadata": {},
   "outputs": [],
   "source": [
    "model_id ='google/flan-t5-large'"
   ]
  },
  {
   "cell_type": "code",
   "execution_count": 17,
   "id": "316d47f2-da3c-4577-a2ce-05757edaa29f",
   "metadata": {},
   "outputs": [
    {
     "data": {
      "application/vnd.jupyter.widget-view+json": {
       "model_id": "130648ba6776457aae1e0cbf60134f90",
       "version_major": 2,
       "version_minor": 0
      },
      "text/plain": [
       "tokenizer_config.json:   0%|          | 0.00/2.54k [00:00<?, ?B/s]"
      ]
     },
     "metadata": {},
     "output_type": "display_data"
    },
    {
     "name": "stderr",
     "output_type": "stream",
     "text": [
      "C:\\Users\\Bhavesh\\anaconda3\\envs\\testingopenai\\lib\\site-packages\\huggingface_hub\\file_download.py:149: UserWarning: `huggingface_hub` cache-system uses symlinks by default to efficiently store duplicated files but your machine does not support them in C:\\Users\\Bhavesh\\.cache\\huggingface\\hub\\models--google--flan-t5-large. Caching files will still work but in a degraded version that might require more space on your disk. This warning can be disabled by setting the `HF_HUB_DISABLE_SYMLINKS_WARNING` environment variable. For more details, see https://huggingface.co/docs/huggingface_hub/how-to-cache#limitations.\n",
      "To support symlinks on Windows, you either need to activate Developer Mode or to run Python as an administrator. In order to see activate developer mode, see this article: https://docs.microsoft.com/en-us/windows/apps/get-started/enable-your-device-for-development\n",
      "  warnings.warn(message)\n"
     ]
    },
    {
     "data": {
      "application/vnd.jupyter.widget-view+json": {
       "model_id": "54f8e325b5cb4af1859c67535d2202cd",
       "version_major": 2,
       "version_minor": 0
      },
      "text/plain": [
       "spiece.model:   0%|          | 0.00/792k [00:00<?, ?B/s]"
      ]
     },
     "metadata": {},
     "output_type": "display_data"
    },
    {
     "data": {
      "application/vnd.jupyter.widget-view+json": {
       "model_id": "bf8f78d18d554caa9940dd11419d953a",
       "version_major": 2,
       "version_minor": 0
      },
      "text/plain": [
       "tokenizer.json:   0%|          | 0.00/2.42M [00:00<?, ?B/s]"
      ]
     },
     "metadata": {},
     "output_type": "display_data"
    },
    {
     "data": {
      "application/vnd.jupyter.widget-view+json": {
       "model_id": "bb9acf2009cb416781d1fc4a0d5c583a",
       "version_major": 2,
       "version_minor": 0
      },
      "text/plain": [
       "special_tokens_map.json:   0%|          | 0.00/2.20k [00:00<?, ?B/s]"
      ]
     },
     "metadata": {},
     "output_type": "display_data"
    }
   ],
   "source": [
    "tokenizer = AutoTokenizer.from_pretrained(model_id)"
   ]
  },
  {
   "cell_type": "code",
   "execution_count": 18,
   "id": "64992cd1-9390-4529-bf9c-665f80ba3d99",
   "metadata": {},
   "outputs": [
    {
     "data": {
      "application/vnd.jupyter.widget-view+json": {
       "model_id": "0ec465cb334d499a961e8b1a35bfefdc",
       "version_major": 2,
       "version_minor": 0
      },
      "text/plain": [
       "config.json:   0%|          | 0.00/662 [00:00<?, ?B/s]"
      ]
     },
     "metadata": {},
     "output_type": "display_data"
    },
    {
     "data": {
      "application/vnd.jupyter.widget-view+json": {
       "model_id": "dfb06d03cbdc43bbaed2cb29c3acb1e6",
       "version_major": 2,
       "version_minor": 0
      },
      "text/plain": [
       "model.safetensors:   0%|          | 0.00/3.13G [00:00<?, ?B/s]"
      ]
     },
     "metadata": {},
     "output_type": "display_data"
    },
    {
     "data": {
      "application/vnd.jupyter.widget-view+json": {
       "model_id": "2d15900a82f347a3922da7b6f4e863a4",
       "version_major": 2,
       "version_minor": 0
      },
      "text/plain": [
       "generation_config.json:   0%|          | 0.00/147 [00:00<?, ?B/s]"
      ]
     },
     "metadata": {},
     "output_type": "display_data"
    },
    {
     "name": "stderr",
     "output_type": "stream",
     "text": [
      "WARNING:root:Some parameters are on the meta device device because they were offloaded to the disk and cpu.\n"
     ]
    }
   ],
   "source": [
    "model = AutoModelForSeq2SeqLM.from_pretrained(model_id,device_map='auto')"
   ]
  },
  {
   "cell_type": "code",
   "execution_count": null,
   "id": "c6233834-87b5-44d2-a01d-7b51589288c4",
   "metadata": {},
   "outputs": [],
   "source": []
  }
 ],
 "metadata": {
  "kernelspec": {
   "display_name": "Python 3 (ipykernel)",
   "language": "python",
   "name": "python3"
  },
  "language_info": {
   "codemirror_mode": {
    "name": "ipython",
    "version": 3
   },
   "file_extension": ".py",
   "mimetype": "text/x-python",
   "name": "python",
   "nbconvert_exporter": "python",
   "pygments_lexer": "ipython3",
   "version": "3.10.13"
  }
 },
 "nbformat": 4,
 "nbformat_minor": 5
}
